{
 "cells": [
  {
   "cell_type": "code",
   "execution_count": 9,
   "id": "a24cb75e",
   "metadata": {},
   "outputs": [],
   "source": [
    "import pandas as pd\n",
    "import numpy as np"
   ]
  },
  {
   "cell_type": "code",
   "execution_count": 10,
   "id": "d731b558",
   "metadata": {},
   "outputs": [
    {
     "name": "stdout",
     "output_type": "stream",
     "text": [
      "(3950, 10)\n"
     ]
    }
   ],
   "source": [
    "# Full load with date parsing\n",
    "df = pd.read_csv(\n",
    "    'datasets/cleaned/fx_predictions_dataset.csv',\n",
    "    parse_dates=['Date'],         # adjust to your date column name\n",
    "    index_col='Date',\n",
    "    dayfirst=True\n",
    ").sort_index()\n",
    "print(df.shape)"
   ]
  },
  {
   "cell_type": "code",
   "execution_count": 11,
   "id": "0ee558ab",
   "metadata": {},
   "outputs": [
    {
     "name": "stdout",
     "output_type": "stream",
     "text": [
      "<class 'pandas.core.frame.DataFrame'>\n",
      "DatetimeIndex: 3950 entries, 2008-01-02 to 2023-11-30\n",
      "Data columns (total 10 columns):\n",
      " #   Column                           Non-Null Count  Dtype  \n",
      "---  ------                           --------------  -----  \n",
      " 0   Buying                           3950 non-null   float64\n",
      " 1   Selling                          3950 non-null   object \n",
      " 2   Mid Rate                         3950 non-null   object \n",
      " 3   GDP                              3950 non-null   float64\n",
      " 4   Interbank weighted average rate  3950 non-null   float64\n",
      " 5   Monetary policy rate             3950 non-null   float64\n",
      " 6   Oil_Price                        3950 non-null   float64\n",
      " 7   Cocoa_Price                      3950 non-null   float64\n",
      " 8   Gold_Price                       3950 non-null   float64\n",
      " 9   Headline Inflation               3950 non-null   float64\n",
      "dtypes: float64(8), object(2)\n",
      "memory usage: 339.5+ KB\n"
     ]
    }
   ],
   "source": [
    "df.info()"
   ]
  },
  {
   "cell_type": "code",
   "execution_count": 12,
   "id": "be391f7a",
   "metadata": {},
   "outputs": [],
   "source": [
    "df['Selling'] = pd.to_numeric(df['Selling'], errors='coerce')\n",
    "df['Mid_Rate'] = pd.to_numeric(df['Mid Rate'], errors='coerce')\n"
   ]
  },
  {
   "cell_type": "code",
   "execution_count": 13,
   "id": "10d33405",
   "metadata": {},
   "outputs": [],
   "source": [
    "columns = {'Buying': 'Buying', 'GDP': 'GDP', 'Interbank weighted average rate': 'InterestRate',\n",
    "           'Monetary policy rate': 'MPR', 'Oil_Price': 'OilPrice', 'Cocoa_Price': 'CocoaPrice',\n",
    "           'Gold_Price': 'GoldPrice', 'Headline Inflation': 'Inflation'}\n",
    "\n",
    "for column in columns.items():\n",
    "    df.rename(columns={column[0]: column[1]}, inplace=True)"
   ]
  },
  {
   "cell_type": "code",
   "execution_count": 14,
   "id": "6317bf8c",
   "metadata": {},
   "outputs": [],
   "source": [
    "df_fe = df.copy()\n",
    "\n",
    "# 2.1 Lag features (1, 3, 6 months)\n",
    "for col in ['Buying', 'GDP', 'Inflation', 'MPR', 'InterestRate',\n",
    "            'GoldPrice', 'OilPrice', 'CocoaPrice']:\n",
    "    for lag in [1, 3, 6]:\n",
    "        df_fe[f'{col}_lag{lag}'] = df_fe[col].shift(lag)\n",
    "\n",
    "# 2.2 Rolling stats (3-month mean & std)\n",
    "for col in ['GoldPrice', 'OilPrice', 'CocoaPrice']:\n",
    "    df_fe[f'{col}_rmean3'] = df_fe[col].rolling(3).mean()\n",
    "    df_fe[f'{col}_rstd3'] = df_fe[col].rolling(3).std()\n",
    "\n",
    "# 2.3 Log transforms\n",
    "for col in ['GoldPrice', 'OilPrice', 'CocoaPrice', 'Buying']:\n",
    "    df_fe[f'log_{col}'] = np.log1p(df_fe[col])\n",
    "\n",
    "# 2.4 Inflation-interest spread\n",
    "df_fe['Inf_Interest_Spread'] = df_fe['Inflation'] - df_fe['InterestRate']\n",
    "\n",
    "# 2.5 Differenced series\n",
    "df_fe['d_Buying'] = df_fe['Buying'].diff()\n",
    "\n",
    "# Drop rows with NaNs from feature creation\n",
    "df_fe.dropna(inplace=True)"
   ]
  },
  {
   "cell_type": "code",
   "execution_count": null,
   "id": "c508f112",
   "metadata": {},
   "outputs": [
    {
     "name": "stdout",
     "output_type": "stream",
     "text": [
      "Selected features: Index([], dtype='object')\n"
     ]
    }
   ],
   "source": [
    "from sklearn.feature_selection import VarianceThreshold, SelectKBest, f_regression\n",
    "from sklearn.linear_model import LassoCV\n",
    "\n",
    "x = df_fe.drop(columns=['Buying', 'd_Buying'])\n",
    "y = df_fe['Buying']\n",
    "\n",
    "# 3.1 Remove near-zero variance\n",
    "vt = VarianceThreshold(threshold=1e-5)\n",
    "x_variance_threshold = vt.fit_transform(x)\n",
    "\n",
    "# 3.2 Univariate selection\n",
    "skb = SelectKBest(f_regression, k=20)\n",
    "x_skb = skb.fit_transform(x_variance_threshold, y)\n",
    "\n",
    "# 3.3 Lasso for final importance\n",
    "lasso = LassoCV(cv=5).fit(x_skb, y)\n",
    "coef_mask = np.abs(lasso.coef_) > 1e-3\n",
    "X_final = x_skb[:, coef_mask]\n",
    "\n",
    "# Keep feature names for tracking\n",
    "selected_features = x.columns[vt.get_support()][skb.get_support()][coef_mask]\n",
    "print(\"Selected features:\", selected_features)"
   ]
  },
  {
   "cell_type": "code",
   "execution_count": 17,
   "id": "8579a61b",
   "metadata": {},
   "outputs": [],
   "source": [
    "import numpy as np\n",
    "from sklearn.preprocessing import MinMaxScaler\n",
    "from tensorflow.keras.models import Sequential\n",
    "from tensorflow.keras.layers import LSTM, Dense, Dropout\n",
    "from tensorflow.keras.callbacks import EarlyStopping\n",
    "\n",
    "# 4.1 Split\n",
    "n = len(df_fe)\n",
    "train_idx = int(n * 0.8)\n",
    "X_train_raw, X_test_raw = X_final[:train_idx], X_final[train_idx:]\n",
    "y_train_raw, y_test_raw = y[:train_idx], y[train_idx:]"
   ]
  },
  {
   "cell_type": "code",
   "execution_count": 18,
   "id": "8d50d646",
   "metadata": {},
   "outputs": [
    {
     "data": {
      "text/plain": [
       "((3153, 0), (789, 0), (3153,), (789,))"
      ]
     },
     "execution_count": 18,
     "metadata": {},
     "output_type": "execute_result"
    }
   ],
   "source": [
    "X_train_raw.shape, X_test_raw.shape, y_train_raw.shape, y_test_raw.shape"
   ]
  },
  {
   "cell_type": "code",
   "execution_count": null,
   "id": "1d88fbbe",
   "metadata": {},
   "outputs": [
    {
     "ename": "ValueError",
     "evalue": "X_train_raw has 0 features. Please check your feature selection steps before scaling.",
     "output_type": "error",
     "traceback": [
      "\u001b[31m---------------------------------------------------------------------------\u001b[39m",
      "\u001b[31mValueError\u001b[39m                                Traceback (most recent call last)",
      "\u001b[36mCell\u001b[39m\u001b[36m \u001b[39m\u001b[32mIn[20]\u001b[39m\u001b[32m, line 6\u001b[39m\n\u001b[32m      3\u001b[39m scaler_y = MinMaxScaler()\n\u001b[32m      5\u001b[39m \u001b[38;5;28;01mif\u001b[39;00m X_train_raw.shape[\u001b[32m1\u001b[39m] == \u001b[32m0\u001b[39m:\n\u001b[32m----> \u001b[39m\u001b[32m6\u001b[39m     \u001b[38;5;28;01mraise\u001b[39;00m \u001b[38;5;167;01mValueError\u001b[39;00m(\u001b[33m\"\u001b[39m\u001b[33mX_train_raw has 0 features. Please check your feature selection steps before scaling.\u001b[39m\u001b[33m\"\u001b[39m)\n\u001b[32m      7\u001b[39m X_train = scaler_X.fit_transform(X_train_raw)\n\u001b[32m      8\u001b[39m X_test = scaler_X.transform(X_test_raw)\n",
      "\u001b[31mValueError\u001b[39m: X_train_raw has 0 features. Please check your feature selection steps before scaling."
     ]
    }
   ],
   "source": [
    "# 4.2 Scale\n",
    "scaler_X = MinMaxScaler()\n",
    "scaler_y = MinMaxScaler()\n",
    "\n",
    "X_train = scaler_X.fit_transform(X_train_raw)\n",
    "X_test = scaler_X.transform(X_test_raw)\n",
    "\n",
    "y_train = scaler_y.fit_transform(y_train_raw.values.reshape(-1, 1))\n",
    "y_test = scaler_y.transform(y_test_raw.values.reshape(-1, 1))\n",
    "\n"
   ]
  },
  {
   "cell_type": "code",
   "execution_count": null,
   "id": "bb993502",
   "metadata": {},
   "outputs": [],
   "source": [
    "# 4.3 Sequence generator\n",
    "def create_sequences(X, y, window=12):\n",
    "    Xs, ys = [], []\n",
    "    for i in range(window, len(X)):\n",
    "        Xs.append(X[i-window:i])\n",
    "        ys.append(y[i])\n",
    "    return np.array(Xs), np.array(ys)\n",
    "\n",
    "\n",
    "window = 12\n",
    "X_tr, y_tr = create_sequences(X_train, y_train, window)\n",
    "X_te, y_te = create_sequences(X_test, y_test, window)\n",
    "\n",
    "# 4.4 Model\n",
    "model = Sequential([\n",
    "    LSTM(64, return_sequences=True, input_shape=(window, X_tr.shape[2])),\n",
    "    Dropout(0.2),\n",
    "    LSTM(32),\n",
    "    Dropout(0.2),\n",
    "    Dense(1)\n",
    "])\n",
    "\n",
    "model.compile(optimizer='adam', loss='mse', metrics=['mse'])\n",
    "es = EarlyStopping(monitor='val_loss', patience=10, restore_best_weights=True)\n",
    "\n",
    "history = model.fit(\n",
    "    X_tr, y_tr,\n",
    "    epochs=200,\n",
    "    batch_size=16,\n",
    "    validation_split=0.2,\n",
    "    callbacks=[es],\n",
    "    verbose=2\n",
    ")"
   ]
  },
  {
   "cell_type": "code",
   "execution_count": null,
   "id": "151b2862",
   "metadata": {},
   "outputs": [],
   "source": [
    "from sklearn.metrics import mean_squared_error, r2_score\n",
    "\n",
    "# Predictions\n",
    "y_pred_scaled = model.predict(X_te)\n",
    "y_pred = scaler_y.inverse_transform(y_pred_scaled)\n",
    "y_true = scaler_y.inverse_transform(y_te)\n",
    "\n",
    "# Metrics\n",
    "mse_val = mean_squared_error(y_true, y_pred)\n",
    "r2_val = r2_score(y_true, y_pred)\n",
    "\n",
    "print(f\"Test MSE: {mse_val:.4f}\")\n",
    "print(f\"Test R²: {r2_val:.4f}\")"
   ]
  }
 ],
 "metadata": {
  "kernelspec": {
   "display_name": ".venv",
   "language": "python",
   "name": "python3"
  },
  "language_info": {
   "codemirror_mode": {
    "name": "ipython",
    "version": 3
   },
   "file_extension": ".py",
   "mimetype": "text/x-python",
   "name": "python",
   "nbconvert_exporter": "python",
   "pygments_lexer": "ipython3",
   "version": "3.12.11"
  }
 },
 "nbformat": 4,
 "nbformat_minor": 5
}
