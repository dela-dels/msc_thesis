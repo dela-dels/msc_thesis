{
 "cells": [
  {
   "cell_type": "code",
   "execution_count": null,
   "id": "d6b840cd",
   "metadata": {},
   "outputs": [],
   "source": [
    "import pandas as pd\n",
    "import numpy as np\n",
    "import matplotlib.pyplot as plt\n",
    "import seaborn as sns\n",
    "\n",
    "from sklearn.preprocessing import MinMaxScaler\n",
    "from sklearn.metrics import r2_score\n",
    "import tensorflow as tf\n",
    "from tensorflow.keras.models import Sequential\n",
    "from tensorflow.keras.layers import LSTM, Dense\n",
    "\n",
    "sns.set_palette('rocket')\n",
    "plt.rcParams['image.cmap'] = 'rocket'\n",
    "sns.set_style('whitegrid')\n",
    "plt.rcParams['figure.figsize'] = (15, 7)"
   ]
  },
  {
   "cell_type": "code",
   "execution_count": null,
   "id": "6b6c3f37",
   "metadata": {},
   "outputs": [],
   "source": [
    "ds = pd.read_csv('datasets/cleaned/merged_fx_dataset.csv')"
   ]
  },
  {
   "cell_type": "code",
   "execution_count": null,
   "id": "e6ec761d",
   "metadata": {},
   "outputs": [],
   "source": [
    "ds['Date'] = pd.to_datetime(ds['Date'])"
   ]
  },
  {
   "cell_type": "code",
   "execution_count": null,
   "id": "b98b68cb",
   "metadata": {},
   "outputs": [],
   "source": [
    "ds.info()"
   ]
  },
  {
   "cell_type": "code",
   "execution_count": null,
   "id": "befc96ce",
   "metadata": {},
   "outputs": [],
   "source": [
    "ds.drop(columns=['Selling', 'Buying'], inplace=True)"
   ]
  },
  {
   "cell_type": "code",
   "execution_count": null,
   "id": "1454fabe",
   "metadata": {},
   "outputs": [],
   "source": [
    "ds.info()"
   ]
  },
  {
   "cell_type": "code",
   "execution_count": null,
   "id": "26b1fbae",
   "metadata": {},
   "outputs": [],
   "source": [
    "df_weekly = ds.set_index('Date').resample('W-FRI').last()\n",
    "df_weekly"
   ]
  },
  {
   "cell_type": "code",
   "execution_count": null,
   "id": "ba0ee7f2",
   "metadata": {},
   "outputs": [],
   "source": [
    "# agg_dict_weekly = {\n",
    "#     'MidRate': 'last',\n",
    "#     # 'Buying': 'last', 'Selling': 'last',\n",
    "#     'MPR': 'last', 'GhInflationRate': 'last', 'BrentOil': 'last',\n",
    "#     'Cocoa': 'last', 'Gold': 'last', 'GhInterestRate': 'last',\n",
    "#     'NetForeignAssets': 'last', 'NIR': 'last', 'Imports': 'sum', 'Exports': 'sum',\n",
    "#     'USInflationRate': 'last', 'USInterestRate': 'last'\n",
    "# }\n",
    "\n",
    "# df_weekly = ds.set_index('Date').resample('W-FRI')"
   ]
  },
  {
   "cell_type": "code",
   "execution_count": null,
   "id": "8e5fd6af",
   "metadata": {},
   "outputs": [],
   "source": [
    "df_weekly.info()"
   ]
  },
  {
   "cell_type": "code",
   "execution_count": null,
   "id": "42b7183e",
   "metadata": {},
   "outputs": [],
   "source": [
    "selected_features = [\n",
    "    'MidRate', 'GhInflationRate', 'USInflationRate', 'GhInterestRate', 'USInterestRate',\n",
    "    'BrentOil', 'Cocoa', 'Gold', 'Imports', 'Exports'\n",
    "]"
   ]
  },
  {
   "cell_type": "code",
   "execution_count": null,
   "id": "5469cb8f",
   "metadata": {},
   "outputs": [],
   "source": [
    "df_weekly = df_weekly[selected_features].copy()"
   ]
  },
  {
   "cell_type": "code",
   "execution_count": null,
   "id": "36b6dd72",
   "metadata": {},
   "outputs": [],
   "source": [
    "df_weekly.dropna(inplace=True)\n",
    "\n",
    "print(\"Weekly Data Head:\")\n",
    "df_weekly.head()"
   ]
  },
  {
   "cell_type": "code",
   "execution_count": null,
   "id": "38610cb5",
   "metadata": {},
   "outputs": [],
   "source": []
  },
  {
   "cell_type": "code",
   "execution_count": null,
   "id": "6fb844ea",
   "metadata": {},
   "outputs": [],
   "source": [
    "df_weekly.info()"
   ]
  },
  {
   "cell_type": "code",
   "execution_count": null,
   "id": "5b47ba32",
   "metadata": {},
   "outputs": [],
   "source": []
  },
  {
   "cell_type": "markdown",
   "id": "1d8956d8",
   "metadata": {},
   "source": [
    "#### Data Preprocessing"
   ]
  },
  {
   "cell_type": "code",
   "execution_count": null,
   "id": "4d9eb237",
   "metadata": {},
   "outputs": [],
   "source": [
    "# For now, we'll just define the function.\n",
    "def scale_data(train, test):\n",
    "    scaler = MinMaxScaler(feature_range=(0, 1))\n",
    "    train_scaled = scaler.fit_transform(train)\n",
    "    test_scaled = scaler.transform(test)\n",
    "    return scaler, train_scaled, test_scaled"
   ]
  },
  {
   "cell_type": "code",
   "execution_count": null,
   "id": "4d3f53c5",
   "metadata": {},
   "outputs": [],
   "source": [
    "# Function to create sequences for LSTM\n",
    "def create_sequences(data, lookback_period):\n",
    "    X, y = [], []\n",
    "    for i in range(len(data) - lookback_period):\n",
    "        X.append(data[i:(i + lookback_period), :])\n",
    "        # The target is the 'MidRate' of the next week (which is at index 0 of our features)\n",
    "        y.append(data[i + lookback_period, 0])\n",
    "    return np.array(X), np.array(y)"
   ]
  },
  {
   "cell_type": "code",
   "execution_count": 35,
   "id": "644eaeb1",
   "metadata": {},
   "outputs": [],
   "source": [
    "LOOKBACK_WEEKS = 20"
   ]
  },
  {
   "cell_type": "code",
   "execution_count": null,
   "id": "59c8869b",
   "metadata": {},
   "outputs": [],
   "source": []
  },
  {
   "cell_type": "markdown",
   "id": "fa328078",
   "metadata": {},
   "source": [
    "#### Build the LSTM Model"
   ]
  },
  {
   "cell_type": "code",
   "execution_count": 36,
   "id": "441ff8e7",
   "metadata": {},
   "outputs": [
    {
     "name": "stderr",
     "output_type": "stream",
     "text": [
      "/Users/dela/Developer/thesis/.venv/lib/python3.12/site-packages/keras/src/layers/rnn/rnn.py:199: UserWarning: Do not pass an `input_shape`/`input_dim` argument to a layer. When using Sequential models, prefer using an `Input(shape)` object as the first layer in the model instead.\n",
      "  super().__init__(**kwargs)\n"
     ]
    },
    {
     "data": {
      "text/html": [
       "<pre style=\"white-space:pre;overflow-x:auto;line-height:normal;font-family:Menlo,'DejaVu Sans Mono',consolas,'Courier New',monospace\"><span style=\"font-weight: bold\">Model: \"sequential_4\"</span>\n",
       "</pre>\n"
      ],
      "text/plain": [
       "\u001b[1mModel: \"sequential_4\"\u001b[0m\n"
      ]
     },
     "metadata": {},
     "output_type": "display_data"
    },
    {
     "data": {
      "text/html": [
       "<pre style=\"white-space:pre;overflow-x:auto;line-height:normal;font-family:Menlo,'DejaVu Sans Mono',consolas,'Courier New',monospace\">┏━━━━━━━━━━━━━━━━━━━━━━━━━━━━━━━━━┳━━━━━━━━━━━━━━━━━━━━━━━━┳━━━━━━━━━━━━━━━┓\n",
       "┃<span style=\"font-weight: bold\"> Layer (type)                    </span>┃<span style=\"font-weight: bold\"> Output Shape           </span>┃<span style=\"font-weight: bold\">       Param # </span>┃\n",
       "┡━━━━━━━━━━━━━━━━━━━━━━━━━━━━━━━━━╇━━━━━━━━━━━━━━━━━━━━━━━━╇━━━━━━━━━━━━━━━┩\n",
       "│ lstm_4 (<span style=\"color: #0087ff; text-decoration-color: #0087ff\">LSTM</span>)                   │ (<span style=\"color: #00d7ff; text-decoration-color: #00d7ff\">None</span>, <span style=\"color: #00af00; text-decoration-color: #00af00\">34</span>)             │         <span style=\"color: #00af00; text-decoration-color: #00af00\">6,120</span> │\n",
       "├─────────────────────────────────┼────────────────────────┼───────────────┤\n",
       "│ dense_4 (<span style=\"color: #0087ff; text-decoration-color: #0087ff\">Dense</span>)                 │ (<span style=\"color: #00d7ff; text-decoration-color: #00d7ff\">None</span>, <span style=\"color: #00af00; text-decoration-color: #00af00\">1</span>)              │            <span style=\"color: #00af00; text-decoration-color: #00af00\">35</span> │\n",
       "└─────────────────────────────────┴────────────────────────┴───────────────┘\n",
       "</pre>\n"
      ],
      "text/plain": [
       "┏━━━━━━━━━━━━━━━━━━━━━━━━━━━━━━━━━┳━━━━━━━━━━━━━━━━━━━━━━━━┳━━━━━━━━━━━━━━━┓\n",
       "┃\u001b[1m \u001b[0m\u001b[1mLayer (type)                   \u001b[0m\u001b[1m \u001b[0m┃\u001b[1m \u001b[0m\u001b[1mOutput Shape          \u001b[0m\u001b[1m \u001b[0m┃\u001b[1m \u001b[0m\u001b[1m      Param #\u001b[0m\u001b[1m \u001b[0m┃\n",
       "┡━━━━━━━━━━━━━━━━━━━━━━━━━━━━━━━━━╇━━━━━━━━━━━━━━━━━━━━━━━━╇━━━━━━━━━━━━━━━┩\n",
       "│ lstm_4 (\u001b[38;5;33mLSTM\u001b[0m)                   │ (\u001b[38;5;45mNone\u001b[0m, \u001b[38;5;34m34\u001b[0m)             │         \u001b[38;5;34m6,120\u001b[0m │\n",
       "├─────────────────────────────────┼────────────────────────┼───────────────┤\n",
       "│ dense_4 (\u001b[38;5;33mDense\u001b[0m)                 │ (\u001b[38;5;45mNone\u001b[0m, \u001b[38;5;34m1\u001b[0m)              │            \u001b[38;5;34m35\u001b[0m │\n",
       "└─────────────────────────────────┴────────────────────────┴───────────────┘\n"
      ]
     },
     "metadata": {},
     "output_type": "display_data"
    },
    {
     "data": {
      "text/html": [
       "<pre style=\"white-space:pre;overflow-x:auto;line-height:normal;font-family:Menlo,'DejaVu Sans Mono',consolas,'Courier New',monospace\"><span style=\"font-weight: bold\"> Total params: </span><span style=\"color: #00af00; text-decoration-color: #00af00\">6,155</span> (24.04 KB)\n",
       "</pre>\n"
      ],
      "text/plain": [
       "\u001b[1m Total params: \u001b[0m\u001b[38;5;34m6,155\u001b[0m (24.04 KB)\n"
      ]
     },
     "metadata": {},
     "output_type": "display_data"
    },
    {
     "data": {
      "text/html": [
       "<pre style=\"white-space:pre;overflow-x:auto;line-height:normal;font-family:Menlo,'DejaVu Sans Mono',consolas,'Courier New',monospace\"><span style=\"font-weight: bold\"> Trainable params: </span><span style=\"color: #00af00; text-decoration-color: #00af00\">6,155</span> (24.04 KB)\n",
       "</pre>\n"
      ],
      "text/plain": [
       "\u001b[1m Trainable params: \u001b[0m\u001b[38;5;34m6,155\u001b[0m (24.04 KB)\n"
      ]
     },
     "metadata": {},
     "output_type": "display_data"
    },
    {
     "data": {
      "text/html": [
       "<pre style=\"white-space:pre;overflow-x:auto;line-height:normal;font-family:Menlo,'DejaVu Sans Mono',consolas,'Courier New',monospace\"><span style=\"font-weight: bold\"> Non-trainable params: </span><span style=\"color: #00af00; text-decoration-color: #00af00\">0</span> (0.00 B)\n",
       "</pre>\n"
      ],
      "text/plain": [
       "\u001b[1m Non-trainable params: \u001b[0m\u001b[38;5;34m0\u001b[0m (0.00 B)\n"
      ]
     },
     "metadata": {},
     "output_type": "display_data"
    }
   ],
   "source": [
    "# def build_lstm_model(input_shape):\n",
    "#     model = Sequential()\n",
    "#     # From paper: 34 nodes in LSTM layer\n",
    "#     model.add(LSTM(34, activation='tanh', input_shape=input_shape))\n",
    "#     # From paper: 1 node in output layer\n",
    "#     model.add(Dense(1))\n",
    "#     # From paper: Adam optimizer with lr=0.002\n",
    "#     optimizer = tf.keras.optimizers.Adam(learning_rate=0.002)\n",
    "#     model.compile(optimizer=optimizer, loss='mean_squared_error')\n",
    "#     return model\n",
    "\n",
    "\n",
    "# --- 5. Build a MORE STABLE LSTM Model Architecture ---\n",
    "def build_lstm_model(input_shape):\n",
    "    model = Sequential()\n",
    "    # Reduce units and add gradient clipping to the optimizer\n",
    "    model.add(LSTM(34, activation='relu', input_shape=input_shape)) # Reduced from 34 to 16 units\n",
    "    model.add(Dense(1))\n",
    "\n",
    "    # Use a lower learning rate and add gradient clipping\n",
    "    optimizer = tf.keras.optimizers.Adam(learning_rate=0.0005, clipnorm=1.0) # Lower LR and added clipping\n",
    "    model.compile(optimizer=optimizer, loss='mean_squared_error')\n",
    "    return model\n",
    "\n",
    "# Re-define the input shape (it remains the same)\n",
    "input_shape = (LOOKBACK_WEEKS, len(selected_features))\n",
    "stable_lstm_model = build_lstm_model(input_shape)\n",
    "stable_lstm_model.summary()"
   ]
  },
  {
   "cell_type": "code",
   "execution_count": 37,
   "id": "1ef6cffd",
   "metadata": {},
   "outputs": [
    {
     "data": {
      "text/html": [
       "<pre style=\"white-space:pre;overflow-x:auto;line-height:normal;font-family:Menlo,'DejaVu Sans Mono',consolas,'Courier New',monospace\"><span style=\"font-weight: bold\">Model: \"sequential_5\"</span>\n",
       "</pre>\n"
      ],
      "text/plain": [
       "\u001b[1mModel: \"sequential_5\"\u001b[0m\n"
      ]
     },
     "metadata": {},
     "output_type": "display_data"
    },
    {
     "data": {
      "text/html": [
       "<pre style=\"white-space:pre;overflow-x:auto;line-height:normal;font-family:Menlo,'DejaVu Sans Mono',consolas,'Courier New',monospace\">┏━━━━━━━━━━━━━━━━━━━━━━━━━━━━━━━━━┳━━━━━━━━━━━━━━━━━━━━━━━━┳━━━━━━━━━━━━━━━┓\n",
       "┃<span style=\"font-weight: bold\"> Layer (type)                    </span>┃<span style=\"font-weight: bold\"> Output Shape           </span>┃<span style=\"font-weight: bold\">       Param # </span>┃\n",
       "┡━━━━━━━━━━━━━━━━━━━━━━━━━━━━━━━━━╇━━━━━━━━━━━━━━━━━━━━━━━━╇━━━━━━━━━━━━━━━┩\n",
       "│ lstm_5 (<span style=\"color: #0087ff; text-decoration-color: #0087ff\">LSTM</span>)                   │ (<span style=\"color: #00d7ff; text-decoration-color: #00d7ff\">None</span>, <span style=\"color: #00af00; text-decoration-color: #00af00\">34</span>)             │         <span style=\"color: #00af00; text-decoration-color: #00af00\">6,120</span> │\n",
       "├─────────────────────────────────┼────────────────────────┼───────────────┤\n",
       "│ dense_5 (<span style=\"color: #0087ff; text-decoration-color: #0087ff\">Dense</span>)                 │ (<span style=\"color: #00d7ff; text-decoration-color: #00d7ff\">None</span>, <span style=\"color: #00af00; text-decoration-color: #00af00\">1</span>)              │            <span style=\"color: #00af00; text-decoration-color: #00af00\">35</span> │\n",
       "└─────────────────────────────────┴────────────────────────┴───────────────┘\n",
       "</pre>\n"
      ],
      "text/plain": [
       "┏━━━━━━━━━━━━━━━━━━━━━━━━━━━━━━━━━┳━━━━━━━━━━━━━━━━━━━━━━━━┳━━━━━━━━━━━━━━━┓\n",
       "┃\u001b[1m \u001b[0m\u001b[1mLayer (type)                   \u001b[0m\u001b[1m \u001b[0m┃\u001b[1m \u001b[0m\u001b[1mOutput Shape          \u001b[0m\u001b[1m \u001b[0m┃\u001b[1m \u001b[0m\u001b[1m      Param #\u001b[0m\u001b[1m \u001b[0m┃\n",
       "┡━━━━━━━━━━━━━━━━━━━━━━━━━━━━━━━━━╇━━━━━━━━━━━━━━━━━━━━━━━━╇━━━━━━━━━━━━━━━┩\n",
       "│ lstm_5 (\u001b[38;5;33mLSTM\u001b[0m)                   │ (\u001b[38;5;45mNone\u001b[0m, \u001b[38;5;34m34\u001b[0m)             │         \u001b[38;5;34m6,120\u001b[0m │\n",
       "├─────────────────────────────────┼────────────────────────┼───────────────┤\n",
       "│ dense_5 (\u001b[38;5;33mDense\u001b[0m)                 │ (\u001b[38;5;45mNone\u001b[0m, \u001b[38;5;34m1\u001b[0m)              │            \u001b[38;5;34m35\u001b[0m │\n",
       "└─────────────────────────────────┴────────────────────────┴───────────────┘\n"
      ]
     },
     "metadata": {},
     "output_type": "display_data"
    },
    {
     "data": {
      "text/html": [
       "<pre style=\"white-space:pre;overflow-x:auto;line-height:normal;font-family:Menlo,'DejaVu Sans Mono',consolas,'Courier New',monospace\"><span style=\"font-weight: bold\"> Total params: </span><span style=\"color: #00af00; text-decoration-color: #00af00\">6,155</span> (24.04 KB)\n",
       "</pre>\n"
      ],
      "text/plain": [
       "\u001b[1m Total params: \u001b[0m\u001b[38;5;34m6,155\u001b[0m (24.04 KB)\n"
      ]
     },
     "metadata": {},
     "output_type": "display_data"
    },
    {
     "data": {
      "text/html": [
       "<pre style=\"white-space:pre;overflow-x:auto;line-height:normal;font-family:Menlo,'DejaVu Sans Mono',consolas,'Courier New',monospace\"><span style=\"font-weight: bold\"> Trainable params: </span><span style=\"color: #00af00; text-decoration-color: #00af00\">6,155</span> (24.04 KB)\n",
       "</pre>\n"
      ],
      "text/plain": [
       "\u001b[1m Trainable params: \u001b[0m\u001b[38;5;34m6,155\u001b[0m (24.04 KB)\n"
      ]
     },
     "metadata": {},
     "output_type": "display_data"
    },
    {
     "data": {
      "text/html": [
       "<pre style=\"white-space:pre;overflow-x:auto;line-height:normal;font-family:Menlo,'DejaVu Sans Mono',consolas,'Courier New',monospace\"><span style=\"font-weight: bold\"> Non-trainable params: </span><span style=\"color: #00af00; text-decoration-color: #00af00\">0</span> (0.00 B)\n",
       "</pre>\n"
      ],
      "text/plain": [
       "\u001b[1m Non-trainable params: \u001b[0m\u001b[38;5;34m0\u001b[0m (0.00 B)\n"
      ]
     },
     "metadata": {},
     "output_type": "display_data"
    }
   ],
   "source": [
    "# Define the input shape (lookback weeks, number of features)\n",
    "input_shape = (LOOKBACK_WEEKS, len(selected_features))\n",
    "lstm_model = build_lstm_model(input_shape)\n",
    "lstm_model.summary()"
   ]
  },
  {
   "cell_type": "markdown",
   "id": "b54937a9",
   "metadata": {},
   "source": [
    "##### Walk-Forward Validation"
   ]
  },
  {
   "cell_type": "code",
   "execution_count": 30,
   "id": "dddefdbe",
   "metadata": {},
   "outputs": [
    {
     "data": {
      "text/plain": [
       "Timestamp('2008-01-04 00:00:00')"
      ]
     },
     "execution_count": 30,
     "metadata": {},
     "output_type": "execute_result"
    }
   ],
   "source": [
    "df_weekly.index.min()"
   ]
  },
  {
   "cell_type": "code",
   "execution_count": null,
   "id": "1b609b42",
   "metadata": {},
   "outputs": [],
   "source": []
  },
  {
   "cell_type": "code",
   "execution_count": 40,
   "id": "37e54424",
   "metadata": {},
   "outputs": [
    {
     "name": "stdout",
     "output_type": "stream",
     "text": [
      "\n",
      "Starting LSTM Walk-Forward Validation...\n",
      "\n",
      "--- Iteration for test period 2009-07-31 - 2010-01-31 ---\n",
      "Initial train size: 82, test size: 27\n",
      "Sequence shapes - X_train: (62, 20, 10), y_train: (62,), X_test: (7, 20, 10), y_test: (7,)\n"
     ]
    },
    {
     "name": "stderr",
     "output_type": "stream",
     "text": [
      "/var/folders/pq/lv4328kx4fjg40sltdfjtrcm0000gn/T/ipykernel_53711/1335166170.py:9: FutureWarning: 'M' is deprecated and will be removed in a future version, please use 'ME' instead.\n",
      "  for end_test_date in pd.date_range(start_test_date, df_weekly.index.max(), freq='6M'):\n",
      "/Users/dela/Developer/thesis/.venv/lib/python3.12/site-packages/keras/src/layers/rnn/rnn.py:199: UserWarning: Do not pass an `input_shape`/`input_dim` argument to a layer. When using Sequential models, prefer using an `Input(shape)` object as the first layer in the model instead.\n",
      "  super().__init__(**kwargs)\n"
     ]
    },
    {
     "name": "stdout",
     "output_type": "stream",
     "text": [
      "SUCCESS: Scaled R² - Model: -19145.1940, Naive: 0.5489\n",
      "SUCCESS: Appended result. Model R²=-19145.1940, Naive R²=0.5489\n",
      "\n",
      "--- Iteration for test period 2010-01-31 - 2010-07-31 ---\n",
      "Initial train size: 109, test size: 26\n",
      "Sequence shapes - X_train: (89, 20, 10), y_train: (89,), X_test: (6, 20, 10), y_test: (6,)\n"
     ]
    },
    {
     "name": "stderr",
     "output_type": "stream",
     "text": [
      "/Users/dela/Developer/thesis/.venv/lib/python3.12/site-packages/keras/src/layers/rnn/rnn.py:199: UserWarning: Do not pass an `input_shape`/`input_dim` argument to a layer. When using Sequential models, prefer using an `Input(shape)` object as the first layer in the model instead.\n",
      "  super().__init__(**kwargs)\n"
     ]
    },
    {
     "name": "stdout",
     "output_type": "stream",
     "text": [
      "SUCCESS: Scaled R² - Model: -8256.0877, Naive: 0.3737\n",
      "SUCCESS: Appended result. Model R²=-8256.0877, Naive R²=0.3737\n",
      "\n",
      "--- Iteration for test period 2010-07-31 - 2011-01-31 ---\n",
      "Initial train size: 135, test size: 26\n",
      "Sequence shapes - X_train: (115, 20, 10), y_train: (115,), X_test: (6, 20, 10), y_test: (6,)\n"
     ]
    },
    {
     "name": "stderr",
     "output_type": "stream",
     "text": [
      "/Users/dela/Developer/thesis/.venv/lib/python3.12/site-packages/keras/src/layers/rnn/rnn.py:199: UserWarning: Do not pass an `input_shape`/`input_dim` argument to a layer. When using Sequential models, prefer using an `Input(shape)` object as the first layer in the model instead.\n",
      "  super().__init__(**kwargs)\n"
     ]
    },
    {
     "name": "stdout",
     "output_type": "stream",
     "text": [
      "WARNING:tensorflow:5 out of the last 5 calls to <function TensorFlowTrainer.make_predict_function.<locals>.one_step_on_data_distributed at 0x13f6bad40> triggered tf.function retracing. Tracing is expensive and the excessive number of tracings could be due to (1) creating @tf.function repeatedly in a loop, (2) passing tensors with different shapes, (3) passing Python objects instead of tensors. For (1), please define your @tf.function outside of the loop. For (2), @tf.function has reduce_retracing=True option that can avoid unnecessary retracing. For (3), please refer to https://www.tensorflow.org/guide/function#controlling_retracing and https://www.tensorflow.org/api_docs/python/tf/function for  more details.\n",
      "SUCCESS: Scaled R² - Model: -532.7260, Naive: 0.4178\n",
      "SUCCESS: Appended result. Model R²=-532.7260, Naive R²=0.4178\n",
      "\n",
      "--- Iteration for test period 2011-01-31 - 2011-07-31 ---\n",
      "Initial train size: 161, test size: 26\n",
      "Sequence shapes - X_train: (141, 20, 10), y_train: (141,), X_test: (6, 20, 10), y_test: (6,)\n"
     ]
    },
    {
     "name": "stderr",
     "output_type": "stream",
     "text": [
      "/Users/dela/Developer/thesis/.venv/lib/python3.12/site-packages/keras/src/layers/rnn/rnn.py:199: UserWarning: Do not pass an `input_shape`/`input_dim` argument to a layer. When using Sequential models, prefer using an `Input(shape)` object as the first layer in the model instead.\n",
      "  super().__init__(**kwargs)\n"
     ]
    },
    {
     "name": "stdout",
     "output_type": "stream",
     "text": [
      "WARNING:tensorflow:6 out of the last 6 calls to <function TensorFlowTrainer.make_predict_function.<locals>.one_step_on_data_distributed at 0x13f438d60> triggered tf.function retracing. Tracing is expensive and the excessive number of tracings could be due to (1) creating @tf.function repeatedly in a loop, (2) passing tensors with different shapes, (3) passing Python objects instead of tensors. For (1), please define your @tf.function outside of the loop. For (2), @tf.function has reduce_retracing=True option that can avoid unnecessary retracing. For (3), please refer to https://www.tensorflow.org/guide/function#controlling_retracing and https://www.tensorflow.org/api_docs/python/tf/function for  more details.\n",
      "SUCCESS: Scaled R² - Model: -8903334.1789, Naive: -0.2300\n",
      "SUCCESS: Appended result. Model R²=-8903334.1789, Naive R²=-0.2300\n",
      "\n",
      "--- Iteration for test period 2011-07-31 - 2012-01-31 ---\n",
      "Initial train size: 187, test size: 26\n",
      "Sequence shapes - X_train: (167, 20, 10), y_train: (167,), X_test: (6, 20, 10), y_test: (6,)\n"
     ]
    },
    {
     "name": "stderr",
     "output_type": "stream",
     "text": [
      "/Users/dela/Developer/thesis/.venv/lib/python3.12/site-packages/keras/src/layers/rnn/rnn.py:199: UserWarning: Do not pass an `input_shape`/`input_dim` argument to a layer. When using Sequential models, prefer using an `Input(shape)` object as the first layer in the model instead.\n",
      "  super().__init__(**kwargs)\n"
     ]
    },
    {
     "name": "stdout",
     "output_type": "stream",
     "text": [
      "SUCCESS: Scaled R² - Model: -16.5709, Naive: 0.0719\n",
      "SUCCESS: Appended result. Model R²=-16.5709, Naive R²=0.0719\n",
      "\n",
      "--- Iteration for test period 2012-01-31 - 2012-07-31 ---\n",
      "Initial train size: 213, test size: 26\n",
      "Sequence shapes - X_train: (193, 20, 10), y_train: (193,), X_test: (6, 20, 10), y_test: (6,)\n"
     ]
    },
    {
     "name": "stderr",
     "output_type": "stream",
     "text": [
      "/Users/dela/Developer/thesis/.venv/lib/python3.12/site-packages/keras/src/layers/rnn/rnn.py:199: UserWarning: Do not pass an `input_shape`/`input_dim` argument to a layer. When using Sequential models, prefer using an `Input(shape)` object as the first layer in the model instead.\n",
      "  super().__init__(**kwargs)\n"
     ]
    },
    {
     "name": "stdout",
     "output_type": "stream",
     "text": [
      "SUCCESS: Scaled R² - Model: -297.8637, Naive: 0.5312\n",
      "SUCCESS: Appended result. Model R²=-297.8637, Naive R²=0.5312\n",
      "\n",
      "--- Iteration for test period 2012-07-31 - 2013-01-31 ---\n",
      "Initial train size: 239, test size: 26\n",
      "Sequence shapes - X_train: (219, 20, 10), y_train: (219,), X_test: (6, 20, 10), y_test: (6,)\n"
     ]
    },
    {
     "name": "stderr",
     "output_type": "stream",
     "text": [
      "/Users/dela/Developer/thesis/.venv/lib/python3.12/site-packages/keras/src/layers/rnn/rnn.py:199: UserWarning: Do not pass an `input_shape`/`input_dim` argument to a layer. When using Sequential models, prefer using an `Input(shape)` object as the first layer in the model instead.\n",
      "  super().__init__(**kwargs)\n"
     ]
    },
    {
     "name": "stdout",
     "output_type": "stream",
     "text": [
      "SUCCESS: Scaled R² - Model: -350.0376, Naive: 0.4364\n",
      "SUCCESS: Appended result. Model R²=-350.0376, Naive R²=0.4364\n",
      "\n",
      "--- Iteration for test period 2013-01-31 - 2013-07-31 ---\n",
      "Initial train size: 265, test size: 26\n",
      "Sequence shapes - X_train: (245, 20, 10), y_train: (245,), X_test: (6, 20, 10), y_test: (6,)\n"
     ]
    },
    {
     "name": "stderr",
     "output_type": "stream",
     "text": [
      "/Users/dela/Developer/thesis/.venv/lib/python3.12/site-packages/keras/src/layers/rnn/rnn.py:199: UserWarning: Do not pass an `input_shape`/`input_dim` argument to a layer. When using Sequential models, prefer using an `Input(shape)` object as the first layer in the model instead.\n",
      "  super().__init__(**kwargs)\n"
     ]
    },
    {
     "name": "stdout",
     "output_type": "stream",
     "text": [
      "SUCCESS: Scaled R² - Model: -61.9246, Naive: -2.1142\n",
      "SUCCESS: Appended result. Model R²=-61.9246, Naive R²=-2.1142\n",
      "\n",
      "--- Iteration for test period 2013-07-31 - 2014-01-31 ---\n",
      "Initial train size: 291, test size: 26\n",
      "Sequence shapes - X_train: (271, 20, 10), y_train: (271,), X_test: (6, 20, 10), y_test: (6,)\n"
     ]
    },
    {
     "name": "stderr",
     "output_type": "stream",
     "text": [
      "/Users/dela/Developer/thesis/.venv/lib/python3.12/site-packages/keras/src/layers/rnn/rnn.py:199: UserWarning: Do not pass an `input_shape`/`input_dim` argument to a layer. When using Sequential models, prefer using an `Input(shape)` object as the first layer in the model instead.\n",
      "  super().__init__(**kwargs)\n"
     ]
    },
    {
     "name": "stdout",
     "output_type": "stream",
     "text": [
      "SUCCESS: Scaled R² - Model: -2.7586, Naive: 0.7020\n",
      "SUCCESS: Appended result. Model R²=-2.7586, Naive R²=0.7020\n",
      "\n",
      "--- Iteration for test period 2014-01-31 - 2014-07-31 ---\n",
      "Initial train size: 317, test size: 26\n",
      "Sequence shapes - X_train: (297, 20, 10), y_train: (297,), X_test: (6, 20, 10), y_test: (6,)\n"
     ]
    },
    {
     "name": "stderr",
     "output_type": "stream",
     "text": [
      "/Users/dela/Developer/thesis/.venv/lib/python3.12/site-packages/keras/src/layers/rnn/rnn.py:199: UserWarning: Do not pass an `input_shape`/`input_dim` argument to a layer. When using Sequential models, prefer using an `Input(shape)` object as the first layer in the model instead.\n",
      "  super().__init__(**kwargs)\n"
     ]
    },
    {
     "name": "stdout",
     "output_type": "stream",
     "text": [
      "SUCCESS: Scaled R² - Model: -742.8899, Naive: -3.0159\n",
      "SUCCESS: Appended result. Model R²=-742.8899, Naive R²=-3.0159\n",
      "\n",
      "--- Iteration for test period 2014-07-31 - 2015-01-31 ---\n",
      "Initial train size: 343, test size: 27\n",
      "Sequence shapes - X_train: (323, 20, 10), y_train: (323,), X_test: (7, 20, 10), y_test: (7,)\n"
     ]
    },
    {
     "name": "stderr",
     "output_type": "stream",
     "text": [
      "/Users/dela/Developer/thesis/.venv/lib/python3.12/site-packages/keras/src/layers/rnn/rnn.py:199: UserWarning: Do not pass an `input_shape`/`input_dim` argument to a layer. When using Sequential models, prefer using an `Input(shape)` object as the first layer in the model instead.\n",
      "  super().__init__(**kwargs)\n"
     ]
    },
    {
     "name": "stdout",
     "output_type": "stream",
     "text": [
      "SUCCESS: Scaled R² - Model: -17.7076, Naive: 0.7370\n",
      "SUCCESS: Appended result. Model R²=-17.7076, Naive R²=0.7370\n",
      "\n",
      "--- Iteration for test period 2015-01-31 - 2015-07-31 ---\n",
      "Initial train size: 370, test size: 25\n",
      "Sequence shapes - X_train: (350, 20, 10), y_train: (350,), X_test: (5, 20, 10), y_test: (5,)\n"
     ]
    },
    {
     "name": "stderr",
     "output_type": "stream",
     "text": [
      "/Users/dela/Developer/thesis/.venv/lib/python3.12/site-packages/keras/src/layers/rnn/rnn.py:199: UserWarning: Do not pass an `input_shape`/`input_dim` argument to a layer. When using Sequential models, prefer using an `Input(shape)` object as the first layer in the model instead.\n",
      "  super().__init__(**kwargs)\n"
     ]
    },
    {
     "name": "stdout",
     "output_type": "stream",
     "text": [
      "SUCCESS: Scaled R² - Model: -1.2487, Naive: 0.5020\n",
      "SUCCESS: Appended result. Model R²=-1.2487, Naive R²=0.5020\n",
      "\n",
      "--- Iteration for test period 2015-07-31 - 2016-01-31 ---\n",
      "Initial train size: 395, test size: 27\n",
      "Sequence shapes - X_train: (375, 20, 10), y_train: (375,), X_test: (7, 20, 10), y_test: (7,)\n"
     ]
    },
    {
     "name": "stderr",
     "output_type": "stream",
     "text": [
      "/Users/dela/Developer/thesis/.venv/lib/python3.12/site-packages/keras/src/layers/rnn/rnn.py:199: UserWarning: Do not pass an `input_shape`/`input_dim` argument to a layer. When using Sequential models, prefer using an `Input(shape)` object as the first layer in the model instead.\n",
      "  super().__init__(**kwargs)\n"
     ]
    },
    {
     "name": "stdout",
     "output_type": "stream",
     "text": [
      "SUCCESS: Scaled R² - Model: -366.9318, Naive: 0.6274\n",
      "SUCCESS: Appended result. Model R²=-366.9318, Naive R²=0.6274\n",
      "\n",
      "--- Iteration for test period 2016-01-31 - 2016-07-31 ---\n",
      "Initial train size: 422, test size: 26\n",
      "Sequence shapes - X_train: (402, 20, 10), y_train: (402,), X_test: (6, 20, 10), y_test: (6,)\n"
     ]
    },
    {
     "name": "stderr",
     "output_type": "stream",
     "text": [
      "/Users/dela/Developer/thesis/.venv/lib/python3.12/site-packages/keras/src/layers/rnn/rnn.py:199: UserWarning: Do not pass an `input_shape`/`input_dim` argument to a layer. When using Sequential models, prefer using an `Input(shape)` object as the first layer in the model instead.\n",
      "  super().__init__(**kwargs)\n"
     ]
    },
    {
     "name": "stdout",
     "output_type": "stream",
     "text": [
      "SUCCESS: Scaled R² - Model: -63.3891, Naive: 0.4344\n",
      "SUCCESS: Appended result. Model R²=-63.3891, Naive R²=0.4344\n",
      "\n",
      "--- Iteration for test period 2016-07-31 - 2017-01-31 ---\n",
      "Initial train size: 448, test size: 26\n",
      "Sequence shapes - X_train: (428, 20, 10), y_train: (428,), X_test: (6, 20, 10), y_test: (6,)\n"
     ]
    },
    {
     "name": "stderr",
     "output_type": "stream",
     "text": [
      "/Users/dela/Developer/thesis/.venv/lib/python3.12/site-packages/keras/src/layers/rnn/rnn.py:199: UserWarning: Do not pass an `input_shape`/`input_dim` argument to a layer. When using Sequential models, prefer using an `Input(shape)` object as the first layer in the model instead.\n",
      "  super().__init__(**kwargs)\n"
     ]
    },
    {
     "name": "stdout",
     "output_type": "stream",
     "text": [
      "SUCCESS: Scaled R² - Model: -206.7063, Naive: 0.2880\n",
      "SUCCESS: Appended result. Model R²=-206.7063, Naive R²=0.2880\n",
      "\n",
      "--- Iteration for test period 2017-01-31 - 2017-07-31 ---\n",
      "Initial train size: 474, test size: 26\n",
      "Sequence shapes - X_train: (454, 20, 10), y_train: (454,), X_test: (6, 20, 10), y_test: (6,)\n"
     ]
    },
    {
     "name": "stderr",
     "output_type": "stream",
     "text": [
      "/Users/dela/Developer/thesis/.venv/lib/python3.12/site-packages/keras/src/layers/rnn/rnn.py:199: UserWarning: Do not pass an `input_shape`/`input_dim` argument to a layer. When using Sequential models, prefer using an `Input(shape)` object as the first layer in the model instead.\n",
      "  super().__init__(**kwargs)\n"
     ]
    },
    {
     "name": "stdout",
     "output_type": "stream",
     "text": [
      "SUCCESS: Scaled R² - Model: -6828.1887, Naive: -0.5264\n",
      "SUCCESS: Appended result. Model R²=-6828.1887, Naive R²=-0.5264\n",
      "\n",
      "--- Iteration for test period 2017-07-31 - 2018-01-31 ---\n",
      "Initial train size: 500, test size: 26\n",
      "Sequence shapes - X_train: (480, 20, 10), y_train: (480,), X_test: (6, 20, 10), y_test: (6,)\n"
     ]
    },
    {
     "name": "stderr",
     "output_type": "stream",
     "text": [
      "/Users/dela/Developer/thesis/.venv/lib/python3.12/site-packages/keras/src/layers/rnn/rnn.py:199: UserWarning: Do not pass an `input_shape`/`input_dim` argument to a layer. When using Sequential models, prefer using an `Input(shape)` object as the first layer in the model instead.\n",
      "  super().__init__(**kwargs)\n"
     ]
    },
    {
     "name": "stdout",
     "output_type": "stream",
     "text": [
      "SUCCESS: Scaled R² - Model: -1430.5562, Naive: 0.6562\n",
      "SUCCESS: Appended result. Model R²=-1430.5562, Naive R²=0.6562\n",
      "\n",
      "--- Iteration for test period 2018-01-31 - 2018-07-31 ---\n",
      "Initial train size: 526, test size: 26\n",
      "Sequence shapes - X_train: (506, 20, 10), y_train: (506,), X_test: (6, 20, 10), y_test: (6,)\n"
     ]
    },
    {
     "name": "stderr",
     "output_type": "stream",
     "text": [
      "/Users/dela/Developer/thesis/.venv/lib/python3.12/site-packages/keras/src/layers/rnn/rnn.py:199: UserWarning: Do not pass an `input_shape`/`input_dim` argument to a layer. When using Sequential models, prefer using an `Input(shape)` object as the first layer in the model instead.\n",
      "  super().__init__(**kwargs)\n"
     ]
    },
    {
     "name": "stdout",
     "output_type": "stream",
     "text": [
      "SUCCESS: Scaled R² - Model: -48.2259, Naive: 0.4836\n",
      "SUCCESS: Appended result. Model R²=-48.2259, Naive R²=0.4836\n",
      "\n",
      "--- Iteration for test period 2018-07-31 - 2019-01-31 ---\n",
      "Initial train size: 552, test size: 26\n",
      "Sequence shapes - X_train: (532, 20, 10), y_train: (532,), X_test: (6, 20, 10), y_test: (6,)\n"
     ]
    },
    {
     "name": "stderr",
     "output_type": "stream",
     "text": [
      "/Users/dela/Developer/thesis/.venv/lib/python3.12/site-packages/keras/src/layers/rnn/rnn.py:199: UserWarning: Do not pass an `input_shape`/`input_dim` argument to a layer. When using Sequential models, prefer using an `Input(shape)` object as the first layer in the model instead.\n",
      "  super().__init__(**kwargs)\n"
     ]
    },
    {
     "name": "stdout",
     "output_type": "stream",
     "text": [
      "SUCCESS: Scaled R² - Model: -17.1427, Naive: 0.6788\n",
      "SUCCESS: Appended result. Model R²=-17.1427, Naive R²=0.6788\n",
      "\n",
      "--- Iteration for test period 2019-01-31 - 2019-07-31 ---\n",
      "Initial train size: 578, test size: 26\n",
      "Sequence shapes - X_train: (558, 20, 10), y_train: (558,), X_test: (6, 20, 10), y_test: (6,)\n"
     ]
    },
    {
     "name": "stderr",
     "output_type": "stream",
     "text": [
      "/Users/dela/Developer/thesis/.venv/lib/python3.12/site-packages/keras/src/layers/rnn/rnn.py:199: UserWarning: Do not pass an `input_shape`/`input_dim` argument to a layer. When using Sequential models, prefer using an `Input(shape)` object as the first layer in the model instead.\n",
      "  super().__init__(**kwargs)\n"
     ]
    },
    {
     "name": "stdout",
     "output_type": "stream",
     "text": [
      "SUCCESS: Scaled R² - Model: -2197.1762, Naive: -4.3692\n",
      "SUCCESS: Appended result. Model R²=-2197.1762, Naive R²=-4.3692\n",
      "\n",
      "--- Iteration for test period 2019-07-31 - 2020-01-31 ---\n",
      "Initial train size: 604, test size: 26\n",
      "Sequence shapes - X_train: (584, 20, 10), y_train: (584,), X_test: (6, 20, 10), y_test: (6,)\n"
     ]
    },
    {
     "name": "stderr",
     "output_type": "stream",
     "text": [
      "/Users/dela/Developer/thesis/.venv/lib/python3.12/site-packages/keras/src/layers/rnn/rnn.py:199: UserWarning: Do not pass an `input_shape`/`input_dim` argument to a layer. When using Sequential models, prefer using an `Input(shape)` object as the first layer in the model instead.\n",
      "  super().__init__(**kwargs)\n"
     ]
    },
    {
     "name": "stdout",
     "output_type": "stream",
     "text": [
      "SUCCESS: Scaled R² - Model: -685.0283, Naive: 0.1803\n",
      "SUCCESS: Appended result. Model R²=-685.0283, Naive R²=0.1803\n",
      "\n",
      "--- Iteration for test period 2020-01-31 - 2020-07-31 ---\n",
      "Initial train size: 630, test size: 26\n",
      "Sequence shapes - X_train: (610, 20, 10), y_train: (610,), X_test: (6, 20, 10), y_test: (6,)\n"
     ]
    },
    {
     "name": "stderr",
     "output_type": "stream",
     "text": [
      "/Users/dela/Developer/thesis/.venv/lib/python3.12/site-packages/keras/src/layers/rnn/rnn.py:199: UserWarning: Do not pass an `input_shape`/`input_dim` argument to a layer. When using Sequential models, prefer using an `Input(shape)` object as the first layer in the model instead.\n",
      "  super().__init__(**kwargs)\n"
     ]
    },
    {
     "name": "stdout",
     "output_type": "stream",
     "text": [
      "SUCCESS: Scaled R² - Model: -3961.8502, Naive: 0.1502\n",
      "SUCCESS: Appended result. Model R²=-3961.8502, Naive R²=0.1502\n",
      "\n",
      "--- Iteration for test period 2020-07-31 - 2021-01-31 ---\n",
      "Initial train size: 656, test size: 27\n",
      "Sequence shapes - X_train: (636, 20, 10), y_train: (636,), X_test: (7, 20, 10), y_test: (7,)\n"
     ]
    },
    {
     "name": "stderr",
     "output_type": "stream",
     "text": [
      "/Users/dela/Developer/thesis/.venv/lib/python3.12/site-packages/keras/src/layers/rnn/rnn.py:199: UserWarning: Do not pass an `input_shape`/`input_dim` argument to a layer. When using Sequential models, prefer using an `Input(shape)` object as the first layer in the model instead.\n",
      "  super().__init__(**kwargs)\n"
     ]
    },
    {
     "name": "stdout",
     "output_type": "stream",
     "text": [
      "SUCCESS: Scaled R² - Model: -56.8370, Naive: 0.4634\n",
      "SUCCESS: Appended result. Model R²=-56.8370, Naive R²=0.4634\n",
      "\n",
      "--- Iteration for test period 2021-01-31 - 2021-07-31 ---\n",
      "Initial train size: 683, test size: 26\n",
      "Sequence shapes - X_train: (663, 20, 10), y_train: (663,), X_test: (6, 20, 10), y_test: (6,)\n"
     ]
    },
    {
     "name": "stderr",
     "output_type": "stream",
     "text": [
      "/Users/dela/Developer/thesis/.venv/lib/python3.12/site-packages/keras/src/layers/rnn/rnn.py:199: UserWarning: Do not pass an `input_shape`/`input_dim` argument to a layer. When using Sequential models, prefer using an `Input(shape)` object as the first layer in the model instead.\n",
      "  super().__init__(**kwargs)\n"
     ]
    },
    {
     "name": "stdout",
     "output_type": "stream",
     "text": [
      "SUCCESS: Scaled R² - Model: -88.6679, Naive: 0.6770\n",
      "SUCCESS: Appended result. Model R²=-88.6679, Naive R²=0.6770\n",
      "\n",
      "--- Iteration for test period 2021-07-31 - 2022-01-31 ---\n",
      "Initial train size: 709, test size: 26\n",
      "Sequence shapes - X_train: (689, 20, 10), y_train: (689,), X_test: (6, 20, 10), y_test: (6,)\n"
     ]
    },
    {
     "name": "stderr",
     "output_type": "stream",
     "text": [
      "/Users/dela/Developer/thesis/.venv/lib/python3.12/site-packages/keras/src/layers/rnn/rnn.py:199: UserWarning: Do not pass an `input_shape`/`input_dim` argument to a layer. When using Sequential models, prefer using an `Input(shape)` object as the first layer in the model instead.\n",
      "  super().__init__(**kwargs)\n"
     ]
    },
    {
     "name": "stdout",
     "output_type": "stream",
     "text": [
      "SUCCESS: Scaled R² - Model: -1179.5358, Naive: -0.4050\n",
      "SUCCESS: Appended result. Model R²=-1179.5358, Naive R²=-0.4050\n",
      "\n",
      "--- Iteration for test period 2022-01-31 - 2022-07-31 ---\n",
      "Initial train size: 735, test size: 26\n",
      "Sequence shapes - X_train: (715, 20, 10), y_train: (715,), X_test: (6, 20, 10), y_test: (6,)\n"
     ]
    },
    {
     "name": "stderr",
     "output_type": "stream",
     "text": [
      "/Users/dela/Developer/thesis/.venv/lib/python3.12/site-packages/keras/src/layers/rnn/rnn.py:199: UserWarning: Do not pass an `input_shape`/`input_dim` argument to a layer. When using Sequential models, prefer using an `Input(shape)` object as the first layer in the model instead.\n",
      "  super().__init__(**kwargs)\n"
     ]
    },
    {
     "name": "stdout",
     "output_type": "stream",
     "text": [
      "SUCCESS: Scaled R² - Model: -127.1223, Naive: 0.6663\n",
      "SUCCESS: Appended result. Model R²=-127.1223, Naive R²=0.6663\n",
      "\n",
      "--- Iteration for test period 2022-07-31 - 2023-01-31 ---\n",
      "Initial train size: 761, test size: 26\n",
      "Sequence shapes - X_train: (741, 20, 10), y_train: (741,), X_test: (6, 20, 10), y_test: (6,)\n"
     ]
    },
    {
     "name": "stderr",
     "output_type": "stream",
     "text": [
      "/Users/dela/Developer/thesis/.venv/lib/python3.12/site-packages/keras/src/layers/rnn/rnn.py:199: UserWarning: Do not pass an `input_shape`/`input_dim` argument to a layer. When using Sequential models, prefer using an `Input(shape)` object as the first layer in the model instead.\n",
      "  super().__init__(**kwargs)\n"
     ]
    },
    {
     "name": "stdout",
     "output_type": "stream",
     "text": [
      "SUCCESS: Scaled R² - Model: -34.9983, Naive: 0.5881\n",
      "SUCCESS: Appended result. Model R²=-34.9983, Naive R²=0.5881\n",
      "\n",
      "--- Iteration for test period 2023-01-31 - 2023-07-31 ---\n",
      "Initial train size: 787, test size: 26\n",
      "Sequence shapes - X_train: (767, 20, 10), y_train: (767,), X_test: (6, 20, 10), y_test: (6,)\n"
     ]
    },
    {
     "name": "stderr",
     "output_type": "stream",
     "text": [
      "/Users/dela/Developer/thesis/.venv/lib/python3.12/site-packages/keras/src/layers/rnn/rnn.py:199: UserWarning: Do not pass an `input_shape`/`input_dim` argument to a layer. When using Sequential models, prefer using an `Input(shape)` object as the first layer in the model instead.\n",
      "  super().__init__(**kwargs)\n"
     ]
    },
    {
     "name": "stdout",
     "output_type": "stream",
     "text": [
      "SUCCESS: Scaled R² - Model: -243902.2345, Naive: 0.4255\n",
      "SUCCESS: Appended result. Model R²=-243902.2345, Naive R²=0.4255\n",
      "\n",
      "--- Iteration for test period 2023-07-31 - 2024-01-31 ---\n",
      "Initial train size: 813, test size: 26\n",
      "Sequence shapes - X_train: (793, 20, 10), y_train: (793,), X_test: (6, 20, 10), y_test: (6,)\n"
     ]
    },
    {
     "name": "stderr",
     "output_type": "stream",
     "text": [
      "/Users/dela/Developer/thesis/.venv/lib/python3.12/site-packages/keras/src/layers/rnn/rnn.py:199: UserWarning: Do not pass an `input_shape`/`input_dim` argument to a layer. When using Sequential models, prefer using an `Input(shape)` object as the first layer in the model instead.\n",
      "  super().__init__(**kwargs)\n"
     ]
    },
    {
     "name": "stdout",
     "output_type": "stream",
     "text": [
      "SUCCESS: Scaled R² - Model: -5356.8606, Naive: 0.1860\n",
      "SUCCESS: Appended result. Model R²=-5356.8606, Naive R²=0.1860\n",
      "\n",
      "--- Iteration for test period 2024-01-31 - 2024-07-31 ---\n",
      "Initial train size: 839, test size: 26\n",
      "Sequence shapes - X_train: (819, 20, 10), y_train: (819,), X_test: (6, 20, 10), y_test: (6,)\n"
     ]
    },
    {
     "name": "stderr",
     "output_type": "stream",
     "text": [
      "/Users/dela/Developer/thesis/.venv/lib/python3.12/site-packages/keras/src/layers/rnn/rnn.py:199: UserWarning: Do not pass an `input_shape`/`input_dim` argument to a layer. When using Sequential models, prefer using an `Input(shape)` object as the first layer in the model instead.\n",
      "  super().__init__(**kwargs)\n"
     ]
    },
    {
     "name": "stdout",
     "output_type": "stream",
     "text": [
      "SUCCESS: Scaled R² - Model: -37.1975, Naive: 0.4185\n",
      "SUCCESS: Appended result. Model R²=-37.1975, Naive R²=0.4185\n",
      "\n",
      "--- LSTM Walk-Forward Results ---\n",
      "   test_start      r2_model  r2_naive\n",
      "0  2009-07-31 -1.914519e+04  0.548894\n",
      "1  2010-01-31 -8.256088e+03  0.373666\n",
      "2  2010-07-31 -5.327260e+02  0.417811\n",
      "3  2011-01-31 -8.903334e+06 -0.230000\n",
      "4  2011-07-31 -1.657090e+01  0.071861\n",
      "5  2012-01-31 -2.978637e+02  0.531181\n",
      "6  2012-07-31 -3.500376e+02  0.436406\n",
      "7  2013-01-31 -6.192464e+01 -2.114160\n",
      "8  2013-07-31 -2.758647e+00  0.701956\n",
      "9  2014-01-31 -7.428899e+02 -3.015919\n",
      "10 2014-07-31 -1.770758e+01  0.736994\n",
      "11 2015-01-31 -1.248707e+00  0.501974\n",
      "12 2015-07-31 -3.669318e+02  0.627432\n",
      "13 2016-01-31 -6.338915e+01  0.434405\n",
      "14 2016-07-31 -2.067063e+02  0.288004\n",
      "15 2017-01-31 -6.828189e+03 -0.526350\n",
      "16 2017-07-31 -1.430556e+03  0.656210\n",
      "17 2018-01-31 -4.822594e+01  0.483593\n",
      "18 2018-07-31 -1.714272e+01  0.678762\n",
      "19 2019-01-31 -2.197176e+03 -4.369159\n",
      "20 2019-07-31 -6.850283e+02  0.180295\n",
      "21 2020-01-31 -3.961850e+03  0.150150\n",
      "22 2020-07-31 -5.683701e+01  0.463437\n",
      "23 2021-01-31 -8.866792e+01  0.677024\n",
      "24 2021-07-31 -1.179536e+03 -0.404953\n",
      "25 2022-01-31 -1.271223e+02  0.666307\n",
      "26 2022-07-31 -3.499829e+01  0.588128\n",
      "27 2023-01-31 -2.439022e+05  0.425533\n",
      "28 2023-07-31 -5.356861e+03  0.185984\n",
      "29 2024-01-31 -3.719748e+01  0.418488\n",
      "\n",
      "Average LSTM Model R²: -306644.9279\n",
      "Average Naive R² (Weekly): 0.0195\n",
      "\n",
      "FAILURE: The LSTM model did not beat the naive baseline.\n"
     ]
    }
   ],
   "source": [
    "# --- 6. Walk-Forward Validation (WITH DEBUGGING) ---\n",
    "print(\"\\nStarting LSTM Walk-Forward Validation...\")\n",
    "results_lstm = []\n",
    "\n",
    "# We need a bit more data to start, so let's start the test set a bit later\n",
    "start_test_date = df_weekly.index.min() + pd.DateOffset(years=2)\n",
    "\n",
    "# Loop through time, testing on 6-month periods\n",
    "for end_test_date in pd.date_range(start_test_date, df_weekly.index.max(), freq='6M'):\n",
    "    start_test_date = end_test_date - pd.DateOffset(months=6)\n",
    "\n",
    "    # Define train and test sets for this fold\n",
    "    train = df_weekly[(df_weekly.index < start_test_date)]\n",
    "    test = df_weekly[(df_weekly.index >= start_test_date) & (df_weekly.index < end_test_date)]\n",
    "\n",
    "    print(f\"\\n--- Iteration for test period {start_test_date.date()} - {end_test_date.date()} ---\")\n",
    "    print(f\"Initial train size: {len(train)}, test size: {len(test)}\")\n",
    "\n",
    "    if len(train) < LOOKBACK_WEEKS * 2 or len(test) < LOOKBACK_WEEKS:\n",
    "        print(\"SKIPPED: Not enough data in train/test split.\")\n",
    "        continue\n",
    "\n",
    "    # Scale data\n",
    "    scaler, train_scaled, test_scaled = scale_data(train, test)\n",
    "\n",
    "    # Create sequences\n",
    "    X_train, y_train = create_sequences(train_scaled, LOOKBACK_WEEKS)\n",
    "    X_test, y_test = create_sequences(test_scaled, LOOKBACK_WEEKS)\n",
    "\n",
    "    print(f\"Sequence shapes - X_train: {X_train.shape}, y_train: {y_train.shape}, X_test: {X_test.shape}, y_test: {y_test.shape}\")\n",
    "\n",
    "    if len(X_train) == 0 or len(X_test) == 0:\n",
    "        print(\"SKIPPED: Not enough data to create sequences.\")\n",
    "        continue\n",
    "\n",
    "    # Build and train model for this fold\n",
    "    model = build_lstm_model(input_shape=(LOOKBACK_WEEKS, len(selected_features)))\n",
    "    # From paper: batch_size=128, epochs=100\n",
    "    model.fit(X_train, y_train, epochs=100, batch_size=128, verbose=0)\n",
    "\n",
    "\n",
    "    # Make predictions\n",
    "    y_pred_scaled = model.predict(X_test, verbose=0)\n",
    "\n",
    "    # --- SIMPLIFIED ROBUST EVALUATION ---\n",
    "    # Calculate R² directly on the scaled data. This avoids all inverse transform issues.\n",
    "    # Note: y_test is already scaled.\n",
    "    r2_model = r2_score(y_test, y_pred_scaled)\n",
    "\n",
    "    # For the naive baseline on scaled data, we predict the last value of the sequence\n",
    "    # The last value of each X_test sequence is X_test[:, -1, 0]\n",
    "    naive_pred_scaled = X_test[:, -1, 0]\n",
    "    r2_naive = r2_score(y_test, naive_pred_scaled)\n",
    "\n",
    "    print(\n",
    "        f\"SUCCESS: Scaled R² - Model: {r2_model:.4f}, Naive: {r2_naive:.4f}\")\n",
    "\n",
    "    # We still need to store the results. Let's store the scaled scores for now.\n",
    "    results_lstm.append({\n",
    "        'test_start': start_test_date,\n",
    "        'r2_model': r2_model,  # Storing the scaled R²\n",
    "        'r2_naive': r2_naive  # Storing the scaled R²\n",
    "    })\n",
    "    print(f\"SUCCESS: Appended result. Model R²={r2_model:.4f}, Naive R²={r2_naive:.4f}\")\n",
    "\n",
    "\n",
    "# --- 7. Final Analysis (WITH SAFETY CHECK) ---\n",
    "print(\"\\n--- LSTM Walk-Forward Results ---\")\n",
    "\n",
    "# Add a safety check before creating the DataFrame\n",
    "if not results_lstm:\n",
    "    print(\"WARNING: The results list is empty. The loop did not complete any successful iterations.\")\n",
    "    print(\"This is likely due to insufficient data after resampling to weekly.\")\n",
    "    print(\"Please check the debug output above to see why the loop was skipped.\")\n",
    "else:\n",
    "    results_lstm_df = pd.DataFrame(results_lstm)\n",
    "    print(results_lstm_df)\n",
    "\n",
    "    avg_r2_model_lstm = results_lstm_df['r2_model'].mean()\n",
    "    avg_r2_naive_lstm = results_lstm_df['r2_naive'].mean()\n",
    "\n",
    "    print(f\"\\nAverage LSTM Model R²: {avg_r2_model_lstm:.4f}\")\n",
    "    print(f\"Average Naive R² (Weekly): {avg_r2_naive_lstm:.4f}\")\n",
    "\n",
    "    if avg_r2_model_lstm > avg_r2_naive_lstm:\n",
    "        print(\"\\nSUCCESS: The LSTM model (from paper methodology) provided a meaningful edge.\")\n",
    "    else:\n",
    "        print(\"\\nFAILURE: The LSTM model did not beat the naive baseline.\")"
   ]
  }
 ],
 "metadata": {
  "kernelspec": {
   "display_name": ".venv",
   "language": "python",
   "name": "python3"
  },
  "language_info": {
   "codemirror_mode": {
    "name": "ipython",
    "version": 3
   },
   "file_extension": ".py",
   "mimetype": "text/x-python",
   "name": "python",
   "nbconvert_exporter": "python",
   "pygments_lexer": "ipython3",
   "version": "3.12.11"
  }
 },
 "nbformat": 4,
 "nbformat_minor": 5
}
