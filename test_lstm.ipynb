{
 "cells": [
  {
   "cell_type": "code",
   "execution_count": 62,
   "id": "f209be7b",
   "metadata": {},
   "outputs": [],
   "source": [
    "import pandas as pd\n",
    "import numpy as np\n",
    "import matplotlib.pyplot as plt\n",
    "\n",
    "from tensorflow.keras.models import Sequential, load_model\n",
    "from tensorflow.keras.losses import MeanSquaredError\n",
    "from tensorflow.keras.metrics import RootMeanSquaredError\n",
    "from tensorflow.keras.layers import Dense, InputLayer, LSTM\n",
    "from tensorflow.keras.callbacks import ModelCheckpoint\n",
    "from tensorflow.keras.optimizers import Adam"
   ]
  },
  {
   "cell_type": "code",
   "execution_count": null,
   "id": "2ae64afa",
   "metadata": {},
   "outputs": [],
   "source": []
  },
  {
   "cell_type": "markdown",
   "id": "34e67843",
   "metadata": {},
   "source": [
    "#### Load Dataset and Perform EDA"
   ]
  },
  {
   "cell_type": "code",
   "execution_count": 63,
   "id": "a03331f7",
   "metadata": {},
   "outputs": [
    {
     "data": {
      "text/html": [
       "<div>\n",
       "<style scoped>\n",
       "    .dataframe tbody tr th:only-of-type {\n",
       "        vertical-align: middle;\n",
       "    }\n",
       "\n",
       "    .dataframe tbody tr th {\n",
       "        vertical-align: top;\n",
       "    }\n",
       "\n",
       "    .dataframe thead th {\n",
       "        text-align: right;\n",
       "    }\n",
       "</style>\n",
       "<table border=\"1\" class=\"dataframe\">\n",
       "  <thead>\n",
       "    <tr style=\"text-align: right;\">\n",
       "      <th></th>\n",
       "      <th>Date</th>\n",
       "      <th>Buying</th>\n",
       "      <th>Selling</th>\n",
       "      <th>Mid Rate</th>\n",
       "      <th>GDP</th>\n",
       "      <th>Interbank weighted average rate</th>\n",
       "      <th>Monetary policy rate</th>\n",
       "      <th>Oil_Price</th>\n",
       "      <th>Cocoa_Price</th>\n",
       "      <th>Gold_Price</th>\n",
       "      <th>Headline Inflation</th>\n",
       "    </tr>\n",
       "  </thead>\n",
       "  <tbody>\n",
       "    <tr>\n",
       "      <th>0</th>\n",
       "      <td>30/11/2023</td>\n",
       "      <td>11.61</td>\n",
       "      <td>11.6264</td>\n",
       "      <td>11.6206</td>\n",
       "      <td>51281.1</td>\n",
       "      <td>29.1</td>\n",
       "      <td>30.0</td>\n",
       "      <td>81.85</td>\n",
       "      <td>2469.1</td>\n",
       "      <td>1726.39</td>\n",
       "      <td>26.41</td>\n",
       "    </tr>\n",
       "    <tr>\n",
       "      <th>1</th>\n",
       "      <td>29/11/2023</td>\n",
       "      <td>11.61</td>\n",
       "      <td>11.6169</td>\n",
       "      <td>11.6111</td>\n",
       "      <td>51281.1</td>\n",
       "      <td>29.1</td>\n",
       "      <td>30.0</td>\n",
       "      <td>81.85</td>\n",
       "      <td>2469.1</td>\n",
       "      <td>1726.39</td>\n",
       "      <td>26.41</td>\n",
       "    </tr>\n",
       "    <tr>\n",
       "      <th>2</th>\n",
       "      <td>28/11/2023</td>\n",
       "      <td>11.59</td>\n",
       "      <td>11.6049</td>\n",
       "      <td>11.5991</td>\n",
       "      <td>51281.1</td>\n",
       "      <td>29.1</td>\n",
       "      <td>30.0</td>\n",
       "      <td>81.85</td>\n",
       "      <td>2469.1</td>\n",
       "      <td>1726.39</td>\n",
       "      <td>26.41</td>\n",
       "    </tr>\n",
       "    <tr>\n",
       "      <th>3</th>\n",
       "      <td>27/11/2023</td>\n",
       "      <td>11.58</td>\n",
       "      <td>11.5958</td>\n",
       "      <td>11.59</td>\n",
       "      <td>51281.1</td>\n",
       "      <td>29.1</td>\n",
       "      <td>30.0</td>\n",
       "      <td>81.85</td>\n",
       "      <td>2469.1</td>\n",
       "      <td>1726.39</td>\n",
       "      <td>26.41</td>\n",
       "    </tr>\n",
       "    <tr>\n",
       "      <th>4</th>\n",
       "      <td>24/11/2023</td>\n",
       "      <td>11.58</td>\n",
       "      <td>11.5888</td>\n",
       "      <td>11.583</td>\n",
       "      <td>51281.1</td>\n",
       "      <td>29.1</td>\n",
       "      <td>30.0</td>\n",
       "      <td>81.85</td>\n",
       "      <td>2469.1</td>\n",
       "      <td>1726.39</td>\n",
       "      <td>26.41</td>\n",
       "    </tr>\n",
       "  </tbody>\n",
       "</table>\n",
       "</div>"
      ],
      "text/plain": [
       "         Date  Buying  Selling Mid Rate      GDP  \\\n",
       "0  30/11/2023   11.61  11.6264  11.6206  51281.1   \n",
       "1  29/11/2023   11.61  11.6169  11.6111  51281.1   \n",
       "2  28/11/2023   11.59  11.6049  11.5991  51281.1   \n",
       "3  27/11/2023   11.58  11.5958    11.59  51281.1   \n",
       "4  24/11/2023   11.58  11.5888   11.583  51281.1   \n",
       "\n",
       "   Interbank weighted average rate  Monetary policy rate  Oil_Price  \\\n",
       "0                             29.1                  30.0      81.85   \n",
       "1                             29.1                  30.0      81.85   \n",
       "2                             29.1                  30.0      81.85   \n",
       "3                             29.1                  30.0      81.85   \n",
       "4                             29.1                  30.0      81.85   \n",
       "\n",
       "   Cocoa_Price  Gold_Price  Headline Inflation  \n",
       "0       2469.1     1726.39               26.41  \n",
       "1       2469.1     1726.39               26.41  \n",
       "2       2469.1     1726.39               26.41  \n",
       "3       2469.1     1726.39               26.41  \n",
       "4       2469.1     1726.39               26.41  "
      ]
     },
     "execution_count": 63,
     "metadata": {},
     "output_type": "execute_result"
    }
   ],
   "source": [
    "dataset = pd.read_csv('datasets/cleaned/fx_predictions_dataset.csv')\n",
    "dataset.head()"
   ]
  },
  {
   "cell_type": "code",
   "execution_count": 64,
   "id": "54b363a1",
   "metadata": {},
   "outputs": [
    {
     "name": "stdout",
     "output_type": "stream",
     "text": [
      "<class 'pandas.core.frame.DataFrame'>\n",
      "RangeIndex: 3950 entries, 0 to 3949\n",
      "Data columns (total 11 columns):\n",
      " #   Column                           Non-Null Count  Dtype  \n",
      "---  ------                           --------------  -----  \n",
      " 0   Date                             3950 non-null   object \n",
      " 1   Buying                           3950 non-null   float64\n",
      " 2   Selling                          3950 non-null   object \n",
      " 3   Mid Rate                         3950 non-null   object \n",
      " 4   GDP                              3950 non-null   float64\n",
      " 5   Interbank weighted average rate  3950 non-null   float64\n",
      " 6   Monetary policy rate             3950 non-null   float64\n",
      " 7   Oil_Price                        3950 non-null   float64\n",
      " 8   Cocoa_Price                      3950 non-null   float64\n",
      " 9   Gold_Price                       3950 non-null   float64\n",
      " 10  Headline Inflation               3950 non-null   float64\n",
      "dtypes: float64(8), object(3)\n",
      "memory usage: 339.6+ KB\n"
     ]
    }
   ],
   "source": [
    "dataset.info()"
   ]
  },
  {
   "cell_type": "code",
   "execution_count": 65,
   "id": "459a362d",
   "metadata": {},
   "outputs": [
    {
     "name": "stdout",
     "output_type": "stream",
     "text": [
      "<class 'pandas.core.frame.DataFrame'>\n",
      "RangeIndex: 3950 entries, 0 to 3949\n",
      "Data columns (total 11 columns):\n",
      " #   Column                           Non-Null Count  Dtype         \n",
      "---  ------                           --------------  -----         \n",
      " 0   Date                             3950 non-null   datetime64[ns]\n",
      " 1   Buying                           3950 non-null   float64       \n",
      " 2   Selling                          3950 non-null   object        \n",
      " 3   Mid Rate                         3950 non-null   object        \n",
      " 4   GDP                              3950 non-null   float64       \n",
      " 5   Interbank weighted average rate  3950 non-null   float64       \n",
      " 6   Monetary policy rate             3950 non-null   float64       \n",
      " 7   Oil_Price                        3950 non-null   float64       \n",
      " 8   Cocoa_Price                      3950 non-null   float64       \n",
      " 9   Gold_Price                       3950 non-null   float64       \n",
      " 10  Headline Inflation               3950 non-null   float64       \n",
      "dtypes: datetime64[ns](1), float64(8), object(2)\n",
      "memory usage: 339.6+ KB\n"
     ]
    },
    {
     "name": "stderr",
     "output_type": "stream",
     "text": [
      "/var/folders/pq/lv4328kx4fjg40sltdfjtrcm0000gn/T/ipykernel_85180/3134352350.py:1: UserWarning: Parsing dates in %d/%m/%Y format when dayfirst=False (the default) was specified. Pass `dayfirst=True` or specify a format to silence this warning.\n",
      "  dataset['Date'] = pd.to_datetime(dataset['Date'])\n"
     ]
    }
   ],
   "source": [
    "dataset['Date'] = pd.to_datetime(dataset['Date'])\n",
    "dataset.info()"
   ]
  },
  {
   "cell_type": "code",
   "execution_count": 66,
   "id": "8462ccc2",
   "metadata": {},
   "outputs": [],
   "source": [
    "dataset.drop(columns=['Selling', 'Mid Rate'], inplace=True)"
   ]
  },
  {
   "cell_type": "code",
   "execution_count": 67,
   "id": "9b474997",
   "metadata": {},
   "outputs": [
    {
     "name": "stdout",
     "output_type": "stream",
     "text": [
      "<class 'pandas.core.frame.DataFrame'>\n",
      "RangeIndex: 3950 entries, 0 to 3949\n",
      "Data columns (total 9 columns):\n",
      " #   Column                           Non-Null Count  Dtype         \n",
      "---  ------                           --------------  -----         \n",
      " 0   Date                             3950 non-null   datetime64[ns]\n",
      " 1   Buying                           3950 non-null   float64       \n",
      " 2   GDP                              3950 non-null   float64       \n",
      " 3   Interbank weighted average rate  3950 non-null   float64       \n",
      " 4   Monetary policy rate             3950 non-null   float64       \n",
      " 5   Oil_Price                        3950 non-null   float64       \n",
      " 6   Cocoa_Price                      3950 non-null   float64       \n",
      " 7   Gold_Price                       3950 non-null   float64       \n",
      " 8   Headline Inflation               3950 non-null   float64       \n",
      "dtypes: datetime64[ns](1), float64(8)\n",
      "memory usage: 277.9 KB\n"
     ]
    }
   ],
   "source": [
    "dataset.info()"
   ]
  },
  {
   "cell_type": "code",
   "execution_count": 68,
   "id": "76f9392a",
   "metadata": {},
   "outputs": [],
   "source": [
    "dataset.rename(columns={'Interbank weighted average rate': 'InterBankAvgInterestRate', 'Monetary policy rate': 'MPR', 'Oil_Price': 'OilPrice',\n",
    "          'Cocoa_Price': 'CocoaPrice', 'Food Inflation': 'FoodInflation', 'Headline Inflation': 'HeadlineInflation'}, inplace=True)"
   ]
  },
  {
   "cell_type": "code",
   "execution_count": 69,
   "id": "b3645782",
   "metadata": {},
   "outputs": [
    {
     "name": "stdout",
     "output_type": "stream",
     "text": [
      "<class 'pandas.core.frame.DataFrame'>\n",
      "RangeIndex: 3950 entries, 0 to 3949\n",
      "Data columns (total 9 columns):\n",
      " #   Column                    Non-Null Count  Dtype         \n",
      "---  ------                    --------------  -----         \n",
      " 0   Date                      3950 non-null   datetime64[ns]\n",
      " 1   Buying                    3950 non-null   float64       \n",
      " 2   GDP                       3950 non-null   float64       \n",
      " 3   InterBankAvgInterestRate  3950 non-null   float64       \n",
      " 4   MPR                       3950 non-null   float64       \n",
      " 5   OilPrice                  3950 non-null   float64       \n",
      " 6   CocoaPrice                3950 non-null   float64       \n",
      " 7   Gold_Price                3950 non-null   float64       \n",
      " 8   HeadlineInflation         3950 non-null   float64       \n",
      "dtypes: datetime64[ns](1), float64(8)\n",
      "memory usage: 277.9 KB\n"
     ]
    }
   ],
   "source": [
    "dataset.info()"
   ]
  },
  {
   "cell_type": "code",
   "execution_count": 70,
   "id": "8f55cbe5",
   "metadata": {},
   "outputs": [],
   "source": [
    "dataset = dataset.set_index('Date').sort_index()"
   ]
  },
  {
   "cell_type": "code",
   "execution_count": 71,
   "id": "39073211",
   "metadata": {},
   "outputs": [
    {
     "data": {
      "text/html": [
       "<div>\n",
       "<style scoped>\n",
       "    .dataframe tbody tr th:only-of-type {\n",
       "        vertical-align: middle;\n",
       "    }\n",
       "\n",
       "    .dataframe tbody tr th {\n",
       "        vertical-align: top;\n",
       "    }\n",
       "\n",
       "    .dataframe thead th {\n",
       "        text-align: right;\n",
       "    }\n",
       "</style>\n",
       "<table border=\"1\" class=\"dataframe\">\n",
       "  <thead>\n",
       "    <tr style=\"text-align: right;\">\n",
       "      <th></th>\n",
       "      <th>Buying</th>\n",
       "      <th>GDP</th>\n",
       "      <th>InterBankAvgInterestRate</th>\n",
       "      <th>MPR</th>\n",
       "      <th>OilPrice</th>\n",
       "      <th>CocoaPrice</th>\n",
       "      <th>Gold_Price</th>\n",
       "      <th>HeadlineInflation</th>\n",
       "    </tr>\n",
       "    <tr>\n",
       "      <th>Date</th>\n",
       "      <th></th>\n",
       "      <th></th>\n",
       "      <th></th>\n",
       "      <th></th>\n",
       "      <th></th>\n",
       "      <th></th>\n",
       "      <th></th>\n",
       "      <th></th>\n",
       "    </tr>\n",
       "  </thead>\n",
       "  <tbody>\n",
       "    <tr>\n",
       "      <th>2008-01-02</th>\n",
       "      <td>0.95</td>\n",
       "      <td>18863.43405</td>\n",
       "      <td>12.2</td>\n",
       "      <td>13.5</td>\n",
       "      <td>91.92</td>\n",
       "      <td>2174.55</td>\n",
       "      <td>890.98</td>\n",
       "      <td>12.81</td>\n",
       "    </tr>\n",
       "    <tr>\n",
       "      <th>2008-01-03</th>\n",
       "      <td>0.95</td>\n",
       "      <td>18863.43405</td>\n",
       "      <td>12.2</td>\n",
       "      <td>13.5</td>\n",
       "      <td>91.92</td>\n",
       "      <td>2174.55</td>\n",
       "      <td>890.98</td>\n",
       "      <td>12.81</td>\n",
       "    </tr>\n",
       "    <tr>\n",
       "      <th>2008-01-04</th>\n",
       "      <td>0.95</td>\n",
       "      <td>18863.43405</td>\n",
       "      <td>12.2</td>\n",
       "      <td>13.5</td>\n",
       "      <td>91.92</td>\n",
       "      <td>2174.55</td>\n",
       "      <td>890.98</td>\n",
       "      <td>12.81</td>\n",
       "    </tr>\n",
       "    <tr>\n",
       "      <th>2008-01-07</th>\n",
       "      <td>0.96</td>\n",
       "      <td>18863.43405</td>\n",
       "      <td>12.2</td>\n",
       "      <td>13.5</td>\n",
       "      <td>91.92</td>\n",
       "      <td>2174.55</td>\n",
       "      <td>890.98</td>\n",
       "      <td>12.81</td>\n",
       "    </tr>\n",
       "    <tr>\n",
       "      <th>2008-01-08</th>\n",
       "      <td>0.96</td>\n",
       "      <td>18863.43405</td>\n",
       "      <td>12.2</td>\n",
       "      <td>13.5</td>\n",
       "      <td>91.92</td>\n",
       "      <td>2174.55</td>\n",
       "      <td>890.98</td>\n",
       "      <td>12.81</td>\n",
       "    </tr>\n",
       "  </tbody>\n",
       "</table>\n",
       "</div>"
      ],
      "text/plain": [
       "            Buying          GDP  InterBankAvgInterestRate   MPR  OilPrice  \\\n",
       "Date                                                                        \n",
       "2008-01-02    0.95  18863.43405                      12.2  13.5     91.92   \n",
       "2008-01-03    0.95  18863.43405                      12.2  13.5     91.92   \n",
       "2008-01-04    0.95  18863.43405                      12.2  13.5     91.92   \n",
       "2008-01-07    0.96  18863.43405                      12.2  13.5     91.92   \n",
       "2008-01-08    0.96  18863.43405                      12.2  13.5     91.92   \n",
       "\n",
       "            CocoaPrice  Gold_Price  HeadlineInflation  \n",
       "Date                                                   \n",
       "2008-01-02     2174.55      890.98              12.81  \n",
       "2008-01-03     2174.55      890.98              12.81  \n",
       "2008-01-04     2174.55      890.98              12.81  \n",
       "2008-01-07     2174.55      890.98              12.81  \n",
       "2008-01-08     2174.55      890.98              12.81  "
      ]
     },
     "execution_count": 71,
     "metadata": {},
     "output_type": "execute_result"
    }
   ],
   "source": [
    "dataset.head()"
   ]
  },
  {
   "cell_type": "code",
   "execution_count": 72,
   "id": "9690437a",
   "metadata": {},
   "outputs": [],
   "source": [
    "# dataset_80 = dataset.iloc[:int(len(dataset) * 0.8)]"
   ]
  },
  {
   "cell_type": "code",
   "execution_count": 73,
   "id": "5bffe5d0",
   "metadata": {},
   "outputs": [
    {
     "data": {
      "text/plain": [
       "3160"
      ]
     },
     "execution_count": 73,
     "metadata": {},
     "output_type": "execute_result"
    }
   ],
   "source": [
    "split_index = int(len(dataset) * 0.8)\n",
    "split_index"
   ]
  },
  {
   "cell_type": "code",
   "execution_count": 74,
   "id": "962203ee",
   "metadata": {},
   "outputs": [],
   "source": [
    "# 120 to accommodate the quarterly data. Since the data for gdp was spread into daily\n",
    "# the same values will be seen across 3 months, we use 120 to prevent this so the model\n",
    "# can see different values\n",
    "window_size = 120\n",
    "#120 *, 60, 90"
   ]
  },
  {
   "cell_type": "code",
   "execution_count": 75,
   "id": "a21733a2",
   "metadata": {},
   "outputs": [],
   "source": [
    "target_column = 'Buying'"
   ]
  },
  {
   "cell_type": "code",
   "execution_count": 76,
   "id": "43cc5df8",
   "metadata": {},
   "outputs": [],
   "source": [
    "from sklearn.preprocessing import MinMaxScaler\n",
    "\n",
    "\n",
    "scaler = MinMaxScaler(feature_range=(0, 1))\n",
    "scaled = scaler.fit_transform(dataset)"
   ]
  },
  {
   "cell_type": "code",
   "execution_count": null,
   "id": "efe3236b",
   "metadata": {},
   "outputs": [],
   "source": []
  },
  {
   "cell_type": "code",
   "execution_count": 77,
   "id": "c068c56b",
   "metadata": {},
   "outputs": [],
   "source": [
    "def create_sequences(features):\n",
    "    \"\"\"Converts 2D daily data into 3D sequences (Samples, Timesteps, Features).\"\"\"\n",
    "    x, y = [], []\n",
    "    for i in range(len(features) - window_size):\n",
    "        # X: The sequence of 'lookback' days leading up to the target day\n",
    "        x.append(features[i:i + window_size])\n",
    "        # y: The target value (Mid Rate) for the day immediately following the sequence\n",
    "        y.append(features[i + window_size])\n",
    "    return np.array(x), np.array(y)"
   ]
  },
  {
   "cell_type": "code",
   "execution_count": 78,
   "id": "d7ccf1a2",
   "metadata": {},
   "outputs": [],
   "source": [
    "x_train, y_train = create_sequences(scaled)\n",
    "x_test, y_test = create_sequences(scaled)"
   ]
  },
  {
   "cell_type": "code",
   "execution_count": 79,
   "id": "863e7520",
   "metadata": {},
   "outputs": [
    {
     "data": {
      "text/plain": [
       "((3830, 120, 8), (3830, 8), (3830, 120, 8), (3830, 8))"
      ]
     },
     "execution_count": 79,
     "metadata": {},
     "output_type": "execute_result"
    }
   ],
   "source": [
    "x_train.shape, y_train.shape, x_test.shape, y_test.shape"
   ]
  },
  {
   "cell_type": "code",
   "execution_count": 80,
   "id": "0983f5e8",
   "metadata": {},
   "outputs": [],
   "source": [
    " # The `epoch` is one complete iteration through the entire training dataset.\n",
    " # During each epoch, the model learns from the entire dataset and updates its weights. to minimize the loss function.\n",
    " # The `batch size` is the number of samples that will be propagated through the network at once.\n",
    " # The `learning rate` controls how much to change the model in response to the estimated error each time the model weights are updated.\n",
    "def train_neural_network(x_train, y_train, epochs=5, learning_rate=0.005):\n",
    "    model = Sequential()\n",
    "    model.add(InputLayer(input_shape=(x_train.shape[1], x_train.shape[2])))\n",
    "    # model.add(InputLayer(input_shape=(window_size, 1)))\n",
    "    model.add(LSTM(50, return_sequences=True))\n",
    "    # model.add(LSTM(64, return_sequences=True))\n",
    "    model.add(LSTM(50))\n",
    "    model.add(Dense(1))\n",
    "\n",
    "    model.compile(optimizer=Adam(learning_rate=learning_rate),\n",
    "                  loss=MeanSquaredError(),\n",
    "                  metrics=[RootMeanSquaredError()])\n",
    "\n",
    "    checkpoint = ModelCheckpoint('models/best_lstm_model.h5', monitor='loss',\n",
    "                                 save_best_only=True, mode='min', verbose=1)\n",
    "\n",
    "    history = model.fit(x_train, y_train, epochs=epochs, batch_size=32, callbacks=[checkpoint], verbose=1)\n",
    "\n",
    "    # history = model.fit(x_train, y_train, epochs=epochs, batch_size=32,\n",
    "    #                     validation_data=(x_val, y_val), callbacks=[checkpoint], verbose=1)\n",
    "    return model, history"
   ]
  },
  {
   "cell_type": "code",
   "execution_count": 81,
   "id": "ba2bea4c",
   "metadata": {},
   "outputs": [
    {
     "name": "stdout",
     "output_type": "stream",
     "text": [
      "Epoch 1/20\n"
     ]
    },
    {
     "name": "stderr",
     "output_type": "stream",
     "text": [
      "/Users/dela/Developer/thesis/.venv/lib/python3.12/site-packages/keras/src/layers/core/input_layer.py:27: UserWarning: Argument `input_shape` is deprecated. Use `shape` instead.\n",
      "  warnings.warn(\n"
     ]
    },
    {
     "name": "stdout",
     "output_type": "stream",
     "text": [
      "\u001b[1m120/120\u001b[0m \u001b[32m━━━━━━━━━━━━━━━━━━━━\u001b[0m\u001b[37m\u001b[0m \u001b[1m0s\u001b[0m 54ms/step - loss: 0.0693 - root_mean_squared_error: 0.2605\n",
      "Epoch 1: loss improved from None to 0.05640, saving model to models/best_lstm_model.h5\n"
     ]
    },
    {
     "name": "stderr",
     "output_type": "stream",
     "text": [
      "WARNING:absl:You are saving your model as an HDF5 file via `model.save()` or `keras.saving.save_model(model)`. This file format is considered legacy. We recommend using instead the native Keras format, e.g. `model.save('my_model.keras')` or `keras.saving.save_model(model, 'my_model.keras')`. \n"
     ]
    },
    {
     "name": "stdout",
     "output_type": "stream",
     "text": [
      "\u001b[1m120/120\u001b[0m \u001b[32m━━━━━━━━━━━━━━━━━━━━\u001b[0m\u001b[37m\u001b[0m \u001b[1m9s\u001b[0m 54ms/step - loss: 0.0564 - root_mean_squared_error: 0.2375\n",
      "Epoch 2/20\n",
      "\u001b[1m120/120\u001b[0m \u001b[32m━━━━━━━━━━━━━━━━━━━━\u001b[0m\u001b[37m\u001b[0m \u001b[1m0s\u001b[0m 53ms/step - loss: 0.0525 - root_mean_squared_error: 0.2291\n",
      "Epoch 2: loss improved from 0.05640 to 0.05192, saving model to models/best_lstm_model.h5\n"
     ]
    },
    {
     "name": "stderr",
     "output_type": "stream",
     "text": [
      "WARNING:absl:You are saving your model as an HDF5 file via `model.save()` or `keras.saving.save_model(model)`. This file format is considered legacy. We recommend using instead the native Keras format, e.g. `model.save('my_model.keras')` or `keras.saving.save_model(model, 'my_model.keras')`. \n"
     ]
    },
    {
     "name": "stdout",
     "output_type": "stream",
     "text": [
      "\u001b[1m120/120\u001b[0m \u001b[32m━━━━━━━━━━━━━━━━━━━━\u001b[0m\u001b[37m\u001b[0m \u001b[1m6s\u001b[0m 54ms/step - loss: 0.0519 - root_mean_squared_error: 0.2279\n",
      "Epoch 3/20\n",
      "\u001b[1m120/120\u001b[0m \u001b[32m━━━━━━━━━━━━━━━━━━━━\u001b[0m\u001b[37m\u001b[0m \u001b[1m0s\u001b[0m 59ms/step - loss: 0.0523 - root_mean_squared_error: 0.2287\n",
      "Epoch 3: loss improved from 0.05192 to 0.05189, saving model to models/best_lstm_model.h5\n"
     ]
    },
    {
     "name": "stderr",
     "output_type": "stream",
     "text": [
      "WARNING:absl:You are saving your model as an HDF5 file via `model.save()` or `keras.saving.save_model(model)`. This file format is considered legacy. We recommend using instead the native Keras format, e.g. `model.save('my_model.keras')` or `keras.saving.save_model(model, 'my_model.keras')`. \n"
     ]
    },
    {
     "name": "stdout",
     "output_type": "stream",
     "text": [
      "\u001b[1m120/120\u001b[0m \u001b[32m━━━━━━━━━━━━━━━━━━━━\u001b[0m\u001b[37m\u001b[0m \u001b[1m7s\u001b[0m 59ms/step - loss: 0.0519 - root_mean_squared_error: 0.2278\n",
      "Epoch 4/20\n",
      "\u001b[1m120/120\u001b[0m \u001b[32m━━━━━━━━━━━━━━━━━━━━\u001b[0m\u001b[37m\u001b[0m \u001b[1m0s\u001b[0m 65ms/step - loss: 0.0522 - root_mean_squared_error: 0.2285\n",
      "Epoch 4: loss improved from 0.05189 to 0.05187, saving model to models/best_lstm_model.h5\n"
     ]
    },
    {
     "name": "stderr",
     "output_type": "stream",
     "text": [
      "WARNING:absl:You are saving your model as an HDF5 file via `model.save()` or `keras.saving.save_model(model)`. This file format is considered legacy. We recommend using instead the native Keras format, e.g. `model.save('my_model.keras')` or `keras.saving.save_model(model, 'my_model.keras')`. \n"
     ]
    },
    {
     "name": "stdout",
     "output_type": "stream",
     "text": [
      "\u001b[1m120/120\u001b[0m \u001b[32m━━━━━━━━━━━━━━━━━━━━\u001b[0m\u001b[37m\u001b[0m \u001b[1m8s\u001b[0m 65ms/step - loss: 0.0519 - root_mean_squared_error: 0.2278\n",
      "Epoch 5/20\n",
      "\u001b[1m120/120\u001b[0m \u001b[32m━━━━━━━━━━━━━━━━━━━━\u001b[0m\u001b[37m\u001b[0m \u001b[1m0s\u001b[0m 69ms/step - loss: 0.0515 - root_mean_squared_error: 0.2270\n",
      "Epoch 5: loss improved from 0.05187 to 0.05186, saving model to models/best_lstm_model.h5\n"
     ]
    },
    {
     "name": "stderr",
     "output_type": "stream",
     "text": [
      "WARNING:absl:You are saving your model as an HDF5 file via `model.save()` or `keras.saving.save_model(model)`. This file format is considered legacy. We recommend using instead the native Keras format, e.g. `model.save('my_model.keras')` or `keras.saving.save_model(model, 'my_model.keras')`. \n"
     ]
    },
    {
     "name": "stdout",
     "output_type": "stream",
     "text": [
      "\u001b[1m120/120\u001b[0m \u001b[32m━━━━━━━━━━━━━━━━━━━━\u001b[0m\u001b[37m\u001b[0m \u001b[1m8s\u001b[0m 70ms/step - loss: 0.0519 - root_mean_squared_error: 0.2277\n",
      "Epoch 6/20\n",
      "\u001b[1m120/120\u001b[0m \u001b[32m━━━━━━━━━━━━━━━━━━━━\u001b[0m\u001b[37m\u001b[0m \u001b[1m0s\u001b[0m 64ms/step - loss: 0.0520 - root_mean_squared_error: 0.2281\n",
      "Epoch 6: loss improved from 0.05186 to 0.05186, saving model to models/best_lstm_model.h5\n"
     ]
    },
    {
     "name": "stderr",
     "output_type": "stream",
     "text": [
      "WARNING:absl:You are saving your model as an HDF5 file via `model.save()` or `keras.saving.save_model(model)`. This file format is considered legacy. We recommend using instead the native Keras format, e.g. `model.save('my_model.keras')` or `keras.saving.save_model(model, 'my_model.keras')`. \n"
     ]
    },
    {
     "name": "stdout",
     "output_type": "stream",
     "text": [
      "\u001b[1m120/120\u001b[0m \u001b[32m━━━━━━━━━━━━━━━━━━━━\u001b[0m\u001b[37m\u001b[0m \u001b[1m8s\u001b[0m 64ms/step - loss: 0.0519 - root_mean_squared_error: 0.2277\n",
      "Epoch 7/20\n",
      "\u001b[1m119/120\u001b[0m \u001b[32m━━━━━━━━━━━━━━━━━━━\u001b[0m\u001b[37m━\u001b[0m \u001b[1m0s\u001b[0m 53ms/step - loss: 0.0515 - root_mean_squared_error: 0.2269\n",
      "Epoch 7: loss improved from 0.05186 to 0.05185, saving model to models/best_lstm_model.h5\n"
     ]
    },
    {
     "name": "stderr",
     "output_type": "stream",
     "text": [
      "WARNING:absl:You are saving your model as an HDF5 file via `model.save()` or `keras.saving.save_model(model)`. This file format is considered legacy. We recommend using instead the native Keras format, e.g. `model.save('my_model.keras')` or `keras.saving.save_model(model, 'my_model.keras')`. \n"
     ]
    },
    {
     "name": "stdout",
     "output_type": "stream",
     "text": [
      "\u001b[1m120/120\u001b[0m \u001b[32m━━━━━━━━━━━━━━━━━━━━\u001b[0m\u001b[37m\u001b[0m \u001b[1m6s\u001b[0m 54ms/step - loss: 0.0519 - root_mean_squared_error: 0.2277\n",
      "Epoch 8/20\n",
      "\u001b[1m120/120\u001b[0m \u001b[32m━━━━━━━━━━━━━━━━━━━━\u001b[0m\u001b[37m\u001b[0m \u001b[1m0s\u001b[0m 51ms/step - loss: 0.0517 - root_mean_squared_error: 0.2273\n",
      "Epoch 8: loss improved from 0.05185 to 0.05185, saving model to models/best_lstm_model.h5\n"
     ]
    },
    {
     "name": "stderr",
     "output_type": "stream",
     "text": [
      "WARNING:absl:You are saving your model as an HDF5 file via `model.save()` or `keras.saving.save_model(model)`. This file format is considered legacy. We recommend using instead the native Keras format, e.g. `model.save('my_model.keras')` or `keras.saving.save_model(model, 'my_model.keras')`. \n"
     ]
    },
    {
     "name": "stdout",
     "output_type": "stream",
     "text": [
      "\u001b[1m120/120\u001b[0m \u001b[32m━━━━━━━━━━━━━━━━━━━━\u001b[0m\u001b[37m\u001b[0m \u001b[1m6s\u001b[0m 51ms/step - loss: 0.0518 - root_mean_squared_error: 0.2277\n",
      "Epoch 9/20\n",
      "\u001b[1m119/120\u001b[0m \u001b[32m━━━━━━━━━━━━━━━━━━━\u001b[0m\u001b[37m━\u001b[0m \u001b[1m0s\u001b[0m 61ms/step - loss: 0.0514 - root_mean_squared_error: 0.2268\n",
      "Epoch 9: loss improved from 0.05185 to 0.05185, saving model to models/best_lstm_model.h5\n"
     ]
    },
    {
     "name": "stderr",
     "output_type": "stream",
     "text": [
      "WARNING:absl:You are saving your model as an HDF5 file via `model.save()` or `keras.saving.save_model(model)`. This file format is considered legacy. We recommend using instead the native Keras format, e.g. `model.save('my_model.keras')` or `keras.saving.save_model(model, 'my_model.keras')`. \n"
     ]
    },
    {
     "name": "stdout",
     "output_type": "stream",
     "text": [
      "\u001b[1m120/120\u001b[0m \u001b[32m━━━━━━━━━━━━━━━━━━━━\u001b[0m\u001b[37m\u001b[0m \u001b[1m7s\u001b[0m 61ms/step - loss: 0.0518 - root_mean_squared_error: 0.2277\n",
      "Epoch 10/20\n",
      "\u001b[1m119/120\u001b[0m \u001b[32m━━━━━━━━━━━━━━━━━━━\u001b[0m\u001b[37m━\u001b[0m \u001b[1m0s\u001b[0m 51ms/step - loss: 0.0511 - root_mean_squared_error: 0.2260\n",
      "Epoch 10: loss did not improve from 0.05185\n",
      "\u001b[1m120/120\u001b[0m \u001b[32m━━━━━━━━━━━━━━━━━━━━\u001b[0m\u001b[37m\u001b[0m \u001b[1m6s\u001b[0m 52ms/step - loss: 0.0518 - root_mean_squared_error: 0.2277\n",
      "Epoch 11/20\n",
      "\u001b[1m120/120\u001b[0m \u001b[32m━━━━━━━━━━━━━━━━━━━━\u001b[0m\u001b[37m\u001b[0m \u001b[1m0s\u001b[0m 111ms/step - loss: 0.0521 - root_mean_squared_error: 0.2284\n",
      "Epoch 11: loss did not improve from 0.05185\n",
      "\u001b[1m120/120\u001b[0m \u001b[32m━━━━━━━━━━━━━━━━━━━━\u001b[0m\u001b[37m\u001b[0m \u001b[1m13s\u001b[0m 111ms/step - loss: 0.0518 - root_mean_squared_error: 0.2277\n",
      "Epoch 12/20\n",
      "\u001b[1m120/120\u001b[0m \u001b[32m━━━━━━━━━━━━━━━━━━━━\u001b[0m\u001b[37m\u001b[0m \u001b[1m0s\u001b[0m 90ms/step - loss: 0.0515 - root_mean_squared_error: 0.2270\n",
      "Epoch 12: loss improved from 0.05185 to 0.05184, saving model to models/best_lstm_model.h5\n"
     ]
    },
    {
     "name": "stderr",
     "output_type": "stream",
     "text": [
      "WARNING:absl:You are saving your model as an HDF5 file via `model.save()` or `keras.saving.save_model(model)`. This file format is considered legacy. We recommend using instead the native Keras format, e.g. `model.save('my_model.keras')` or `keras.saving.save_model(model, 'my_model.keras')`. \n"
     ]
    },
    {
     "name": "stdout",
     "output_type": "stream",
     "text": [
      "\u001b[1m120/120\u001b[0m \u001b[32m━━━━━━━━━━━━━━━━━━━━\u001b[0m\u001b[37m\u001b[0m \u001b[1m11s\u001b[0m 93ms/step - loss: 0.0518 - root_mean_squared_error: 0.2277\n",
      "Epoch 13/20\n",
      "\u001b[1m120/120\u001b[0m \u001b[32m━━━━━━━━━━━━━━━━━━━━\u001b[0m\u001b[37m\u001b[0m \u001b[1m0s\u001b[0m 79ms/step - loss: 0.0518 - root_mean_squared_error: 0.2276\n",
      "Epoch 13: loss improved from 0.05184 to 0.05184, saving model to models/best_lstm_model.h5\n"
     ]
    },
    {
     "name": "stderr",
     "output_type": "stream",
     "text": [
      "WARNING:absl:You are saving your model as an HDF5 file via `model.save()` or `keras.saving.save_model(model)`. This file format is considered legacy. We recommend using instead the native Keras format, e.g. `model.save('my_model.keras')` or `keras.saving.save_model(model, 'my_model.keras')`. \n"
     ]
    },
    {
     "name": "stdout",
     "output_type": "stream",
     "text": [
      "\u001b[1m120/120\u001b[0m \u001b[32m━━━━━━━━━━━━━━━━━━━━\u001b[0m\u001b[37m\u001b[0m \u001b[1m10s\u001b[0m 79ms/step - loss: 0.0518 - root_mean_squared_error: 0.2277\n",
      "Epoch 14/20\n",
      "\u001b[1m120/120\u001b[0m \u001b[32m━━━━━━━━━━━━━━━━━━━━\u001b[0m\u001b[37m\u001b[0m \u001b[1m0s\u001b[0m 113ms/step - loss: 0.0518 - root_mean_squared_error: 0.2275\n",
      "Epoch 14: loss improved from 0.05184 to 0.05184, saving model to models/best_lstm_model.h5\n"
     ]
    },
    {
     "name": "stderr",
     "output_type": "stream",
     "text": [
      "WARNING:absl:You are saving your model as an HDF5 file via `model.save()` or `keras.saving.save_model(model)`. This file format is considered legacy. We recommend using instead the native Keras format, e.g. `model.save('my_model.keras')` or `keras.saving.save_model(model, 'my_model.keras')`. \n"
     ]
    },
    {
     "name": "stdout",
     "output_type": "stream",
     "text": [
      "\u001b[1m120/120\u001b[0m \u001b[32m━━━━━━━━━━━━━━━━━━━━\u001b[0m\u001b[37m\u001b[0m \u001b[1m14s\u001b[0m 113ms/step - loss: 0.0518 - root_mean_squared_error: 0.2277\n",
      "Epoch 15/20\n",
      "\u001b[1m120/120\u001b[0m \u001b[32m━━━━━━━━━━━━━━━━━━━━\u001b[0m\u001b[37m\u001b[0m \u001b[1m0s\u001b[0m 78ms/step - loss: 0.0519 - root_mean_squared_error: 0.2278\n",
      "Epoch 15: loss improved from 0.05184 to 0.05184, saving model to models/best_lstm_model.h5\n"
     ]
    },
    {
     "name": "stderr",
     "output_type": "stream",
     "text": [
      "WARNING:absl:You are saving your model as an HDF5 file via `model.save()` or `keras.saving.save_model(model)`. This file format is considered legacy. We recommend using instead the native Keras format, e.g. `model.save('my_model.keras')` or `keras.saving.save_model(model, 'my_model.keras')`. \n"
     ]
    },
    {
     "name": "stdout",
     "output_type": "stream",
     "text": [
      "\u001b[1m120/120\u001b[0m \u001b[32m━━━━━━━━━━━━━━━━━━━━\u001b[0m\u001b[37m\u001b[0m \u001b[1m10s\u001b[0m 79ms/step - loss: 0.0518 - root_mean_squared_error: 0.2277\n",
      "Epoch 16/20\n",
      "\u001b[1m120/120\u001b[0m \u001b[32m━━━━━━━━━━━━━━━━━━━━\u001b[0m\u001b[37m\u001b[0m \u001b[1m0s\u001b[0m 93ms/step - loss: 0.0519 - root_mean_squared_error: 0.2279\n",
      "Epoch 16: loss did not improve from 0.05184\n",
      "\u001b[1m120/120\u001b[0m \u001b[32m━━━━━━━━━━━━━━━━━━━━\u001b[0m\u001b[37m\u001b[0m \u001b[1m11s\u001b[0m 93ms/step - loss: 0.0518 - root_mean_squared_error: 0.2277\n",
      "Epoch 17/20\n",
      "\u001b[1m120/120\u001b[0m \u001b[32m━━━━━━━━━━━━━━━━━━━━\u001b[0m\u001b[37m\u001b[0m \u001b[1m0s\u001b[0m 77ms/step - loss: 0.0519 - root_mean_squared_error: 0.2278\n",
      "Epoch 17: loss improved from 0.05184 to 0.05183, saving model to models/best_lstm_model.h5\n"
     ]
    },
    {
     "name": "stderr",
     "output_type": "stream",
     "text": [
      "WARNING:absl:You are saving your model as an HDF5 file via `model.save()` or `keras.saving.save_model(model)`. This file format is considered legacy. We recommend using instead the native Keras format, e.g. `model.save('my_model.keras')` or `keras.saving.save_model(model, 'my_model.keras')`. \n"
     ]
    },
    {
     "name": "stdout",
     "output_type": "stream",
     "text": [
      "\u001b[1m120/120\u001b[0m \u001b[32m━━━━━━━━━━━━━━━━━━━━\u001b[0m\u001b[37m\u001b[0m \u001b[1m9s\u001b[0m 78ms/step - loss: 0.0518 - root_mean_squared_error: 0.2277\n",
      "Epoch 18/20\n",
      "\u001b[1m120/120\u001b[0m \u001b[32m━━━━━━━━━━━━━━━━━━━━\u001b[0m\u001b[37m\u001b[0m \u001b[1m0s\u001b[0m 75ms/step - loss: 0.0522 - root_mean_squared_error: 0.2285\n",
      "Epoch 18: loss did not improve from 0.05183\n",
      "\u001b[1m120/120\u001b[0m \u001b[32m━━━━━━━━━━━━━━━━━━━━\u001b[0m\u001b[37m\u001b[0m \u001b[1m9s\u001b[0m 75ms/step - loss: 0.0518 - root_mean_squared_error: 0.2277\n",
      "Epoch 19/20\n",
      "\u001b[1m120/120\u001b[0m \u001b[32m━━━━━━━━━━━━━━━━━━━━\u001b[0m\u001b[37m\u001b[0m \u001b[1m0s\u001b[0m 59ms/step - loss: 0.0517 - root_mean_squared_error: 0.2273\n",
      "Epoch 19: loss improved from 0.05183 to 0.05182, saving model to models/best_lstm_model.h5\n"
     ]
    },
    {
     "name": "stderr",
     "output_type": "stream",
     "text": [
      "WARNING:absl:You are saving your model as an HDF5 file via `model.save()` or `keras.saving.save_model(model)`. This file format is considered legacy. We recommend using instead the native Keras format, e.g. `model.save('my_model.keras')` or `keras.saving.save_model(model, 'my_model.keras')`. \n"
     ]
    },
    {
     "name": "stdout",
     "output_type": "stream",
     "text": [
      "\u001b[1m120/120\u001b[0m \u001b[32m━━━━━━━━━━━━━━━━━━━━\u001b[0m\u001b[37m\u001b[0m \u001b[1m7s\u001b[0m 59ms/step - loss: 0.0518 - root_mean_squared_error: 0.2277\n",
      "Epoch 20/20\n",
      "\u001b[1m120/120\u001b[0m \u001b[32m━━━━━━━━━━━━━━━━━━━━\u001b[0m\u001b[37m\u001b[0m \u001b[1m0s\u001b[0m 56ms/step - loss: 0.0515 - root_mean_squared_error: 0.2270\n",
      "Epoch 20: loss did not improve from 0.05182\n",
      "\u001b[1m120/120\u001b[0m \u001b[32m━━━━━━━━━━━━━━━━━━━━\u001b[0m\u001b[37m\u001b[0m \u001b[1m7s\u001b[0m 57ms/step - loss: 0.0518 - root_mean_squared_error: 0.2277\n"
     ]
    }
   ],
   "source": [
    "model, history = train_neural_network(x_train, y_train, epochs=20, learning_rate=0.001)"
   ]
  },
  {
   "cell_type": "code",
   "execution_count": 82,
   "id": "12819cfc",
   "metadata": {},
   "outputs": [
    {
     "data": {
      "image/png": "[encoded data removed]",
      "text/plain": [
       "<Figure size 640x480 with 1 Axes>"
      ]
     },
     "metadata": {},
     "output_type": "display_data"
    }
   ],
   "source": [
    "plt.plot(history.history['loss'], label='train')\n",
    "# plt.plot(history.history['val_loss'], label='test')\n",
    "plt.legend()\n",
    "plt.show()"
   ]
  },
  {
   "cell_type": "code",
   "execution_count": 83,
   "id": "60d817ee",
   "metadata": {},
   "outputs": [
    {
     "name": "stderr",
     "output_type": "stream",
     "text": [
      "WARNING:absl:Compiled the loaded model, but the compiled metrics have yet to be built. `model.compile_metrics` will be empty until you train or evaluate the model.\n"
     ]
    }
   ],
   "source": [
    "model = load_model('models/best_lstm_model.h5')"
   ]
  },
  {
   "cell_type": "code",
   "execution_count": 84,
   "id": "88464d0c",
   "metadata": {},
   "outputs": [
    {
     "name": "stdout",
     "output_type": "stream",
     "text": [
      "\u001b[1m120/120\u001b[0m \u001b[32m━━━━━━━━━━━━━━━━━━━━\u001b[0m\u001b[37m\u001b[0m \u001b[1m3s\u001b[0m 23ms/step\n",
      "\u001b[1m120/120\u001b[0m \u001b[32m━━━━━━━━━━━━━━━━━━━━\u001b[0m\u001b[37m\u001b[0m \u001b[1m2s\u001b[0m 21ms/step\n"
     ]
    }
   ],
   "source": [
    "train_predictions = model.predict(x_train)\n",
    "test_predictions = model.predict(x_train)"
   ]
  },
  {
   "cell_type": "code",
   "execution_count": 85,
   "id": "19c5adb2",
   "metadata": {},
   "outputs": [],
   "source": [
    "# Inverse transform the predictions and true values to get back to the actual scale\n",
    "\n",
    "# If you used a scaler for y, e.g., MinMaxScaler, and you have it as `y_scaler`\n",
    "# The y_train and train_predictions may need to be reshaped for inverse_transform\n",
    "\n",
    "# Assuming y_scaler is available, and that predictions/targets are 2D\n",
    "# Only inverse transform the first column if scaler was fit on all features\n",
    "train_predictions_actual = scaler.inverse_transform(\n",
    "    np.concatenate([\n",
    "        train_predictions,\n",
    "        np.zeros((train_predictions.shape[0], scaler.n_features_in_ - train_predictions.shape[1]))\n",
    "    ], axis=1)\n",
    ")[:, 0].reshape(-1, 1)\n",
    "# Pad y_train with zeros to match the number of features used in scaler, then inverse transform and select target column\n",
    "# Ensure y_train is at least 2D for correct concatenation along axis=1\n",
    "if y_train.ndim == 1:\n",
    "    y_train_2d = y_train.reshape(-1, 1)\n",
    "else:\n",
    "    y_train_2d = y_train\n",
    "\n",
    "y_train_padded = np.concatenate([\n",
    "    y_train_2d,\n",
    "    np.zeros((y_train_2d.shape[0], scaler.n_features_in_ - 1))\n",
    "], axis=1)\n",
    "# Fix: Use the correct scaler for y, not the whole input scaler if available.\n",
    "# If you only scaled the target variable y, use that scaler (e.g. y_scaler) here.\n",
    "# Otherwise, for single-output with full-feature fit, pad to scaler.n_features_in_\n",
    "if hasattr(scaler, 'n_features_in_') and y_train_padded.shape[1] != scaler.n_features_in_:\n",
    "    n_missing = scaler.n_features_in_ - y_train_padded.shape[1]\n",
    "    if n_missing > 0:\n",
    "        y_train_padded = np.concatenate([\n",
    "            y_train_padded,\n",
    "            np.zeros((y_train_padded.shape[0], n_missing))\n",
    "        ], axis=1)\n",
    "    elif n_missing < 0:\n",
    "        y_train_padded = y_train_padded[:, :scaler.n_features_in_]\n",
    "\n",
    "y_train_actual = scaler.inverse_transform(y_train_padded)[:, 0].reshape(-1, 1)"
   ]
  },
  {
   "cell_type": "code",
   "execution_count": 86,
   "id": "e95e18fa",
   "metadata": {},
   "outputs": [
    {
     "data": {
      "image/png": "[encoded data removed]",
      "text/plain": [
       "<Figure size 1200x600 with 1 Axes>"
      ]
     },
     "metadata": {},
     "output_type": "display_data"
    }
   ],
   "source": [
    "\n",
    "\n",
    "# Create an x-axis of dates for the training period, if available\n",
    "# If your y_train came from a dataframe with Date index or column use it\n",
    "# Otherwise, just use np.arange or dataset index matching the training rows\n",
    "\n",
    "# Example: If you used a DataFrame and have its index as dates:\n",
    "# train_dates = dataset.index[:len(y_train_actual)]\n",
    "# If unavailable, default to row indices\n",
    "# Use actual date values from the training set if available\n",
    "# Assuming you have a DataFrame or Series with aligned dates for the y_train data\n",
    "# For example, if your training set comes from splitting a DataFrame with a Date index:\n",
    "if 'train_idx' in locals():\n",
    "    # Use train indices in original order (oldest to latest), we'll reverse later for plotting\n",
    "    train_dates = dataset.index[train_idx]\n",
    "elif hasattr(dataset, 'index') and len(dataset.index) >= len(y_train_actual):\n",
    "    train_dates = dataset.index[:len(y_train_actual)]\n",
    "elif 'train_dates' in globals():\n",
    "    train_dates = train_dates\n",
    "else:\n",
    "    raise ValueError(\"No date information found for training set.\")\n",
    "\n",
    "# Reverse both dates and actuals/predictions so that the latest date appears first on the plot,\n",
    "# and corresponding y values are matched in time\n",
    "train_dates = train_dates[::-1]\n",
    "y_train_actual = y_train_actual[::-1]\n",
    "train_predictions_actual = train_predictions_actual[::-1]\n",
    "\n",
    "plt.figure(figsize=(12, 6))\n",
    "plt.plot(train_dates, y_train_actual, label='Actual')\n",
    "plt.plot(train_dates, train_predictions_actual, label='Predicted')\n",
    "plt.xlabel('Time')\n",
    "plt.ylabel('Value')\n",
    "plt.title('Actual vs Predicted (Training Data)')\n",
    "plt.legend()\n",
    "plt.show()\n"
   ]
  },
  {
   "cell_type": "code",
   "execution_count": 87,
   "id": "e1c1c05e",
   "metadata": {},
   "outputs": [],
   "source": [
    "# # Replicate plot for test dataset\n",
    "\n",
    "# # Ensure y_test is at least 2D for correct concatenation along axis=1\n",
    "# if y_test.ndim == 1:\n",
    "#     y_test_2d = y_test.reshape(-1, 1)\n",
    "# else:\n",
    "#     y_test_2d = y_test\n",
    "\n",
    "# y_test_padded = np.concatenate([\n",
    "#     y_test_2d,\n",
    "#     np.zeros((y_test_2d.shape[0], scaler.n_features_in_ - 1))\n",
    "# ], axis=1)\n",
    "# y_test_actual = scaler.inverse_transform(y_test_padded)[:, 0].reshape(-1, 1)\n",
    "\n",
    "# # Prepare test_dates similarly as for train_dates\n",
    "# if 'test_idx' in locals():\n",
    "#     test_dates = dataset.index[test_idx][::-1]\n",
    "# elif hasattr(dataset, 'index') and len(dataset.index) >= len(y_test_actual):\n",
    "#     test_dates = dataset.index[-len(y_test_actual):][::-1]\n",
    "# elif 'test_dates' in globals():\n",
    "#     test_dates = test_dates[::-1]\n",
    "# else:\n",
    "#     raise ValueError(\"No date information found for test set.\")\n",
    "\n",
    "# plt.figure(figsize=(12, 6))\n",
    "# plt.plot(test_dates, y_test_actual, label='Actual')\n",
    "# # Compute test_predictions_actual if not defined\n",
    "# if 'test_predictions_actual' not in locals():\n",
    "#     # Ensure test_predictions is at least 2D for inverse_transform\n",
    "#     if test_predictions.ndim == 1:\n",
    "#         test_pred_2d = test_predictions.reshape(-1, 1)\n",
    "#     else:\n",
    "#         test_pred_2d = test_predictions\n",
    "\n",
    "#     test_pred_padded = np.concatenate([\n",
    "#         test_pred_2d,\n",
    "#         np.zeros((test_pred_2d.shape[0], scaler.n_features_in_ - 1))\n",
    "#     ], axis=1)\n",
    "#     test_predictions_actual = scaler.inverse_transform(test_pred_padded)[:, 0].reshape(-1, 1)\n",
    "\n",
    "# plt.plot(test_dates, test_predictions_actual[:len(test_dates)], label='Predicted')\n",
    "# plt.xlabel('Time')\n",
    "# plt.ylabel('Value')\n",
    "# plt.title('Actual vs Predicted (Test Data)')\n",
    "# plt.legend()\n",
    "# plt.show()\n"
   ]
  },
  {
   "cell_type": "code",
   "execution_count": 88,
   "id": "44f00446",
   "metadata": {},
   "outputs": [],
   "source": [
    "# from matplotlib.dates import MonthLocator, DateFormatter, YearLocator\n",
    "\n",
    "# def plot_predictions(pred, y_true, label, period):\n",
    "#     # Convert period to datetime if it's not already\n",
    "#     period = pd.to_datetime(period)\n",
    "\n",
    "#     # Plotting\n",
    "#     plt.figure(figsize=(10, 6))\n",
    "#     plt.plot(period, y_true, label='True Values', marker='o', color='black')\n",
    "#     plt.plot(period, pred, label='Predictions', marker='o', color='red')\n",
    "\n",
    "#     # Adding labels and title\n",
    "#     plt.xlabel('Date')\n",
    "#     plt.ylabel('Mean temperature')\n",
    "#     plt.title(label)\n",
    "\n",
    "#     # Adding legend\n",
    "#     plt.legend()\n",
    "\n",
    "#     if label == \"Train Data\":\n",
    "#         # Format X-axis to show only years\n",
    "#         plt.gca().xaxis.set_major_locator(YearLocator())\n",
    "#         plt.gca().xaxis.set_major_formatter(DateFormatter('%Y'))\n",
    "#     elif label == \"Test Data\":\n",
    "#         # Format X-axis to show only months\n",
    "#         plt.gca().xaxis.set_major_locator(MonthLocator())\n",
    "#         plt.gca().xaxis.set_major_formatter(DateFormatter('%b %Y'))\n",
    "\n",
    "#     # Rotate x-axis labels for better visibility\n",
    "#     plt.gcf().autofmt_xdate()\n",
    "\n",
    "#     # Show the plot\n",
    "#     plt.show()"
   ]
  },
  {
   "cell_type": "code",
   "execution_count": 89,
   "id": "f0944172",
   "metadata": {},
   "outputs": [],
   "source": [
    "# train_period = y_train[0:len(y_train) - window_size]['date']\n",
    "# test_period = y_test[0:len(y_test) - window_size]['date']"
   ]
  },
  {
   "cell_type": "code",
   "execution_count": 90,
   "id": "92727b00",
   "metadata": {},
   "outputs": [],
   "source": [
    "# plot_predictions(train_predictions, y_train, \"Train Data\", dataset.index[window_size:len(train_predictions)+window_size])"
   ]
  },
  {
   "cell_type": "code",
   "execution_count": 91,
   "id": "d8e0f397",
   "metadata": {},
   "outputs": [],
   "source": [
    "# # Plot train predictions\n",
    "# plt.figure(figsize=(10, 6))\n",
    "# plt.plot(y_train, label='True Train Values', color='blue')\n",
    "# plt.plot(train_predictions, label='Train Predictions', color='orange')\n",
    "# plt.title('Train Predictions vs True Values')\n",
    "# plt.xlabel('Samples')\n",
    "# plt.ylabel('Exchange Rate')\n",
    "# plt.legend()\n",
    "# plt.show()"
   ]
  },
  {
   "cell_type": "code",
   "execution_count": 92,
   "id": "b49a2417",
   "metadata": {},
   "outputs": [],
   "source": [
    "# # Plot test predictions\n",
    "# plt.figure(figsize=(10, 6))\n",
    "# plt.plot(y_test, label='True Test Values', color='blue')\n",
    "# plt.plot(test_predictions, label='Test Predictions', color='orange')\n",
    "# plt.title('Test Predictions vs True Values')\n",
    "# plt.xlabel('Samples')\n",
    "# plt.ylabel('Exchange Rate')\n",
    "# plt.legend()\n",
    "# plt.show()"
   ]
  },
  {
   "cell_type": "code",
   "execution_count": null,
   "id": "e4b6c321",
   "metadata": {},
   "outputs": [],
   "source": []
  }
 ],
 "metadata": {
  "kernelspec": {
   "display_name": ".venv",
   "language": "python",
   "name": "python3"
  },
  "language_info": {
   "codemirror_mode": {
    "name": "ipython",
    "version": 3
   },
   "file_extension": ".py",
   "mimetype": "text/x-python",
   "name": "python",
   "nbconvert_exporter": "python",
   "pygments_lexer": "ipython3",
   "version": "3.12.11"
  }
 },
 "nbformat": 4,
 "nbformat_minor": 5
}
