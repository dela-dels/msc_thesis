{
 "cells": [
  {
   "cell_type": "code",
   "execution_count": 26,
   "id": "f209be7b",
   "metadata": {},
   "outputs": [],
   "source": [
    "import pandas as pd\n",
    "import numpy as np\n",
    "import matplotlib.pyplot as plt\n",
    "\n",
    "from tensorflow.keras.models import Sequential, load_model\n",
    "from tensorflow.keras.losses import MeanSquaredError\n",
    "from tensorflow.keras.metrics import RootMeanSquaredError\n",
    "from tensorflow.keras.layers import Dense, InputLayer, LSTM\n",
    "from tensorflow.keras.callbacks import ModelCheckpoint\n",
    "from tensorflow.keras.optimizers import Adam"
   ]
  },
  {
   "cell_type": "code",
   "execution_count": null,
   "id": "2ae64afa",
   "metadata": {},
   "outputs": [],
   "source": []
  },
  {
   "cell_type": "markdown",
   "id": "34e67843",
   "metadata": {},
   "source": [
    "#### Load Dataset and Perform EDA"
   ]
  },
  {
   "cell_type": "code",
   "execution_count": 27,
   "id": "a03331f7",
   "metadata": {},
   "outputs": [
    {
     "data": {
      "text/html": [
       "<div>\n",
       "<style scoped>\n",
       "    .dataframe tbody tr th:only-of-type {\n",
       "        vertical-align: middle;\n",
       "    }\n",
       "\n",
       "    .dataframe tbody tr th {\n",
       "        vertical-align: top;\n",
       "    }\n",
       "\n",
       "    .dataframe thead th {\n",
       "        text-align: right;\n",
       "    }\n",
       "</style>\n",
       "<table border=\"1\" class=\"dataframe\">\n",
       "  <thead>\n",
       "    <tr style=\"text-align: right;\">\n",
       "      <th></th>\n",
       "      <th>Date</th>\n",
       "      <th>Buying</th>\n",
       "      <th>Selling</th>\n",
       "      <th>MidRate</th>\n",
       "      <th>MPR</th>\n",
       "      <th>FoodInflation</th>\n",
       "      <th>GhInflationRate</th>\n",
       "      <th>NonFoodInflation</th>\n",
       "      <th>BrentOil</th>\n",
       "      <th>Cocoa</th>\n",
       "      <th>...</th>\n",
       "      <th>GhCompositeIndex</th>\n",
       "      <th>FXDeposits</th>\n",
       "      <th>InterbankWeightedAvg</th>\n",
       "      <th>T-bill-182</th>\n",
       "      <th>T-bill-91</th>\n",
       "      <th>PrivateSectorCredit</th>\n",
       "      <th>TradeBalance</th>\n",
       "      <th>USGDP</th>\n",
       "      <th>USInflationRate</th>\n",
       "      <th>USInterestRate</th>\n",
       "    </tr>\n",
       "  </thead>\n",
       "  <tbody>\n",
       "    <tr>\n",
       "      <th>0</th>\n",
       "      <td>2022-12-01</td>\n",
       "      <td>13.0973</td>\n",
       "      <td>13.1105</td>\n",
       "      <td>13.1039</td>\n",
       "      <td>27.0</td>\n",
       "      <td>59.7</td>\n",
       "      <td>54.1</td>\n",
       "      <td>49.9</td>\n",
       "      <td>81.34</td>\n",
       "      <td>2538.57</td>\n",
       "      <td>...</td>\n",
       "      <td>0.00</td>\n",
       "      <td>45124.35</td>\n",
       "      <td>25.51</td>\n",
       "      <td>36.23</td>\n",
       "      <td>35.48</td>\n",
       "      <td>63753.45</td>\n",
       "      <td>450.75</td>\n",
       "      <td>22249.459</td>\n",
       "      <td>116.977</td>\n",
       "      <td>3.83</td>\n",
       "    </tr>\n",
       "    <tr>\n",
       "      <th>1</th>\n",
       "      <td>2022-11-30</td>\n",
       "      <td>13.0978</td>\n",
       "      <td>13.1110</td>\n",
       "      <td>13.1044</td>\n",
       "      <td>27.0</td>\n",
       "      <td>55.3</td>\n",
       "      <td>50.3</td>\n",
       "      <td>46.5</td>\n",
       "      <td>90.38</td>\n",
       "      <td>2469.10</td>\n",
       "      <td>...</td>\n",
       "      <td>-6.16</td>\n",
       "      <td>66496.63</td>\n",
       "      <td>25.80</td>\n",
       "      <td>35.68</td>\n",
       "      <td>34.62</td>\n",
       "      <td>73744.05</td>\n",
       "      <td>444.36</td>\n",
       "      <td>22249.459</td>\n",
       "      <td>116.554</td>\n",
       "      <td>3.83</td>\n",
       "    </tr>\n",
       "    <tr>\n",
       "      <th>2</th>\n",
       "      <td>2022-11-29</td>\n",
       "      <td>13.0980</td>\n",
       "      <td>13.1112</td>\n",
       "      <td>13.1046</td>\n",
       "      <td>27.0</td>\n",
       "      <td>55.3</td>\n",
       "      <td>50.3</td>\n",
       "      <td>46.5</td>\n",
       "      <td>90.38</td>\n",
       "      <td>2469.10</td>\n",
       "      <td>...</td>\n",
       "      <td>-6.16</td>\n",
       "      <td>66496.63</td>\n",
       "      <td>25.80</td>\n",
       "      <td>35.68</td>\n",
       "      <td>34.62</td>\n",
       "      <td>73744.05</td>\n",
       "      <td>444.36</td>\n",
       "      <td>22249.459</td>\n",
       "      <td>116.554</td>\n",
       "      <td>3.83</td>\n",
       "    </tr>\n",
       "    <tr>\n",
       "      <th>3</th>\n",
       "      <td>2022-11-28</td>\n",
       "      <td>13.0982</td>\n",
       "      <td>13.1114</td>\n",
       "      <td>13.1048</td>\n",
       "      <td>27.0</td>\n",
       "      <td>55.3</td>\n",
       "      <td>50.3</td>\n",
       "      <td>46.5</td>\n",
       "      <td>90.38</td>\n",
       "      <td>2469.10</td>\n",
       "      <td>...</td>\n",
       "      <td>-6.16</td>\n",
       "      <td>66496.63</td>\n",
       "      <td>25.80</td>\n",
       "      <td>35.68</td>\n",
       "      <td>34.62</td>\n",
       "      <td>73744.05</td>\n",
       "      <td>444.36</td>\n",
       "      <td>22249.459</td>\n",
       "      <td>116.554</td>\n",
       "      <td>3.83</td>\n",
       "    </tr>\n",
       "    <tr>\n",
       "      <th>4</th>\n",
       "      <td>2022-11-25</td>\n",
       "      <td>13.0985</td>\n",
       "      <td>13.1117</td>\n",
       "      <td>13.1051</td>\n",
       "      <td>27.0</td>\n",
       "      <td>55.3</td>\n",
       "      <td>50.3</td>\n",
       "      <td>46.5</td>\n",
       "      <td>90.38</td>\n",
       "      <td>2469.10</td>\n",
       "      <td>...</td>\n",
       "      <td>-6.16</td>\n",
       "      <td>66496.63</td>\n",
       "      <td>25.80</td>\n",
       "      <td>35.68</td>\n",
       "      <td>34.62</td>\n",
       "      <td>73744.05</td>\n",
       "      <td>444.36</td>\n",
       "      <td>22249.459</td>\n",
       "      <td>116.554</td>\n",
       "      <td>3.83</td>\n",
       "    </tr>\n",
       "  </tbody>\n",
       "</table>\n",
       "<p>5 rows × 27 columns</p>\n",
       "</div>"
      ],
      "text/plain": [
       "         Date   Buying  Selling  MidRate   MPR  FoodInflation  \\\n",
       "0  2022-12-01  13.0973  13.1105  13.1039  27.0           59.7   \n",
       "1  2022-11-30  13.0978  13.1110  13.1044  27.0           55.3   \n",
       "2  2022-11-29  13.0980  13.1112  13.1046  27.0           55.3   \n",
       "3  2022-11-28  13.0982  13.1114  13.1048  27.0           55.3   \n",
       "4  2022-11-25  13.0985  13.1117  13.1051  27.0           55.3   \n",
       "\n",
       "   GhInflationRate  NonFoodInflation  BrentOil    Cocoa  ...  \\\n",
       "0             54.1              49.9     81.34  2538.57  ...   \n",
       "1             50.3              46.5     90.38  2469.10  ...   \n",
       "2             50.3              46.5     90.38  2469.10  ...   \n",
       "3             50.3              46.5     90.38  2469.10  ...   \n",
       "4             50.3              46.5     90.38  2469.10  ...   \n",
       "\n",
       "   GhCompositeIndex  FXDeposits  InterbankWeightedAvg  T-bill-182  T-bill-91  \\\n",
       "0              0.00    45124.35                 25.51       36.23      35.48   \n",
       "1             -6.16    66496.63                 25.80       35.68      34.62   \n",
       "2             -6.16    66496.63                 25.80       35.68      34.62   \n",
       "3             -6.16    66496.63                 25.80       35.68      34.62   \n",
       "4             -6.16    66496.63                 25.80       35.68      34.62   \n",
       "\n",
       "   PrivateSectorCredit  TradeBalance      USGDP  USInflationRate  \\\n",
       "0             63753.45        450.75  22249.459          116.977   \n",
       "1             73744.05        444.36  22249.459          116.554   \n",
       "2             73744.05        444.36  22249.459          116.554   \n",
       "3             73744.05        444.36  22249.459          116.554   \n",
       "4             73744.05        444.36  22249.459          116.554   \n",
       "\n",
       "   USInterestRate  \n",
       "0            3.83  \n",
       "1            3.83  \n",
       "2            3.83  \n",
       "3            3.83  \n",
       "4            3.83  \n",
       "\n",
       "[5 rows x 27 columns]"
      ]
     },
     "execution_count": 27,
     "metadata": {},
     "output_type": "execute_result"
    }
   ],
   "source": [
    "dataset = pd.read_csv('datasets/cleaned/merged_fx_dataset.csv')\n",
    "dataset.head()"
   ]
  },
  {
   "cell_type": "code",
   "execution_count": 28,
   "id": "54b363a1",
   "metadata": {},
   "outputs": [
    {
     "name": "stdout",
     "output_type": "stream",
     "text": [
      "<class 'pandas.core.frame.DataFrame'>\n",
      "RangeIndex: 3703 entries, 0 to 3702\n",
      "Data columns (total 27 columns):\n",
      " #   Column                Non-Null Count  Dtype  \n",
      "---  ------                --------------  -----  \n",
      " 0   Date                  3703 non-null   object \n",
      " 1   Buying                3703 non-null   float64\n",
      " 2   Selling               3701 non-null   float64\n",
      " 3   MidRate               3701 non-null   float64\n",
      " 4   MPR                   3703 non-null   float64\n",
      " 5   FoodInflation         3703 non-null   float64\n",
      " 6   GhInflationRate       3703 non-null   float64\n",
      " 7   NonFoodInflation      3703 non-null   float64\n",
      " 8   BrentOil              3703 non-null   float64\n",
      " 9   Cocoa                 3703 non-null   float64\n",
      " 10  Gold                  3703 non-null   float64\n",
      " 11  GhInterestRate        3703 non-null   float64\n",
      " 12  NetForeignAssets      3703 non-null   float64\n",
      " 13  NIR                   3703 non-null   float64\n",
      " 14  Imports               3703 non-null   float64\n",
      " 15  Exports               3703 non-null   float64\n",
      " 16  GhGDP                 3703 non-null   float64\n",
      " 17  GhCompositeIndex      3703 non-null   float64\n",
      " 18  FXDeposits            3703 non-null   float64\n",
      " 19  InterbankWeightedAvg  3703 non-null   float64\n",
      " 20  T-bill-182            3703 non-null   float64\n",
      " 21  T-bill-91             3703 non-null   float64\n",
      " 22  PrivateSectorCredit   3703 non-null   float64\n",
      " 23  TradeBalance          3703 non-null   float64\n",
      " 24  USGDP                 3703 non-null   float64\n",
      " 25  USInflationRate       3703 non-null   float64\n",
      " 26  USInterestRate        3703 non-null   float64\n",
      "dtypes: float64(26), object(1)\n",
      "memory usage: 781.2+ KB\n"
     ]
    }
   ],
   "source": [
    "dataset.info()"
   ]
  },
  {
   "cell_type": "code",
   "execution_count": 29,
   "id": "459a362d",
   "metadata": {},
   "outputs": [
    {
     "name": "stdout",
     "output_type": "stream",
     "text": [
      "<class 'pandas.core.frame.DataFrame'>\n",
      "RangeIndex: 3703 entries, 0 to 3702\n",
      "Data columns (total 27 columns):\n",
      " #   Column                Non-Null Count  Dtype         \n",
      "---  ------                --------------  -----         \n",
      " 0   Date                  3703 non-null   datetime64[ns]\n",
      " 1   Buying                3703 non-null   float64       \n",
      " 2   Selling               3701 non-null   float64       \n",
      " 3   MidRate               3701 non-null   float64       \n",
      " 4   MPR                   3703 non-null   float64       \n",
      " 5   FoodInflation         3703 non-null   float64       \n",
      " 6   GhInflationRate       3703 non-null   float64       \n",
      " 7   NonFoodInflation      3703 non-null   float64       \n",
      " 8   BrentOil              3703 non-null   float64       \n",
      " 9   Cocoa                 3703 non-null   float64       \n",
      " 10  Gold                  3703 non-null   float64       \n",
      " 11  GhInterestRate        3703 non-null   float64       \n",
      " 12  NetForeignAssets      3703 non-null   float64       \n",
      " 13  NIR                   3703 non-null   float64       \n",
      " 14  Imports               3703 non-null   float64       \n",
      " 15  Exports               3703 non-null   float64       \n",
      " 16  GhGDP                 3703 non-null   float64       \n",
      " 17  GhCompositeIndex      3703 non-null   float64       \n",
      " 18  FXDeposits            3703 non-null   float64       \n",
      " 19  InterbankWeightedAvg  3703 non-null   float64       \n",
      " 20  T-bill-182            3703 non-null   float64       \n",
      " 21  T-bill-91             3703 non-null   float64       \n",
      " 22  PrivateSectorCredit   3703 non-null   float64       \n",
      " 23  TradeBalance          3703 non-null   float64       \n",
      " 24  USGDP                 3703 non-null   float64       \n",
      " 25  USInflationRate       3703 non-null   float64       \n",
      " 26  USInterestRate        3703 non-null   float64       \n",
      "dtypes: datetime64[ns](1), float64(26)\n",
      "memory usage: 781.2 KB\n"
     ]
    }
   ],
   "source": [
    "dataset['Date'] = pd.to_datetime(dataset['Date'])\n",
    "dataset.info()"
   ]
  },
  {
   "cell_type": "code",
   "execution_count": 31,
   "id": "8462ccc2",
   "metadata": {},
   "outputs": [],
   "source": [
    "dataset.drop(columns=['Selling', 'MidRate'], inplace=True)"
   ]
  },
  {
   "cell_type": "code",
   "execution_count": 32,
   "id": "9b474997",
   "metadata": {},
   "outputs": [
    {
     "name": "stdout",
     "output_type": "stream",
     "text": [
      "<class 'pandas.core.frame.DataFrame'>\n",
      "RangeIndex: 3703 entries, 0 to 3702\n",
      "Data columns (total 25 columns):\n",
      " #   Column                Non-Null Count  Dtype         \n",
      "---  ------                --------------  -----         \n",
      " 0   Date                  3703 non-null   datetime64[ns]\n",
      " 1   Buying                3703 non-null   float64       \n",
      " 2   MPR                   3703 non-null   float64       \n",
      " 3   FoodInflation         3703 non-null   float64       \n",
      " 4   GhInflationRate       3703 non-null   float64       \n",
      " 5   NonFoodInflation      3703 non-null   float64       \n",
      " 6   BrentOil              3703 non-null   float64       \n",
      " 7   Cocoa                 3703 non-null   float64       \n",
      " 8   Gold                  3703 non-null   float64       \n",
      " 9   GhInterestRate        3703 non-null   float64       \n",
      " 10  NetForeignAssets      3703 non-null   float64       \n",
      " 11  NIR                   3703 non-null   float64       \n",
      " 12  Imports               3703 non-null   float64       \n",
      " 13  Exports               3703 non-null   float64       \n",
      " 14  GhGDP                 3703 non-null   float64       \n",
      " 15  GhCompositeIndex      3703 non-null   float64       \n",
      " 16  FXDeposits            3703 non-null   float64       \n",
      " 17  InterbankWeightedAvg  3703 non-null   float64       \n",
      " 18  T-bill-182            3703 non-null   float64       \n",
      " 19  T-bill-91             3703 non-null   float64       \n",
      " 20  PrivateSectorCredit   3703 non-null   float64       \n",
      " 21  TradeBalance          3703 non-null   float64       \n",
      " 22  USGDP                 3703 non-null   float64       \n",
      " 23  USInflationRate       3703 non-null   float64       \n",
      " 24  USInterestRate        3703 non-null   float64       \n",
      "dtypes: datetime64[ns](1), float64(24)\n",
      "memory usage: 723.4 KB\n"
     ]
    }
   ],
   "source": [
    "dataset.info()"
   ]
  },
  {
   "cell_type": "code",
   "execution_count": 33,
   "id": "76f9392a",
   "metadata": {},
   "outputs": [],
   "source": [
    "dataset.rename(columns={'Interbank weighted average rate': 'InterBankAvgInterestRate', 'Monetary policy rate': 'MPR', 'Oil_Price': 'OilPrice',\n",
    "          'Cocoa_Price': 'CocoaPrice', 'Food Inflation': 'FoodInflation', 'Headline Inflation': 'HeadlineInflation'}, inplace=True)"
   ]
  },
  {
   "cell_type": "code",
   "execution_count": 34,
   "id": "b3645782",
   "metadata": {},
   "outputs": [
    {
     "name": "stdout",
     "output_type": "stream",
     "text": [
      "<class 'pandas.core.frame.DataFrame'>\n",
      "RangeIndex: 3703 entries, 0 to 3702\n",
      "Data columns (total 25 columns):\n",
      " #   Column                Non-Null Count  Dtype         \n",
      "---  ------                --------------  -----         \n",
      " 0   Date                  3703 non-null   datetime64[ns]\n",
      " 1   Buying                3703 non-null   float64       \n",
      " 2   MPR                   3703 non-null   float64       \n",
      " 3   FoodInflation         3703 non-null   float64       \n",
      " 4   GhInflationRate       3703 non-null   float64       \n",
      " 5   NonFoodInflation      3703 non-null   float64       \n",
      " 6   BrentOil              3703 non-null   float64       \n",
      " 7   Cocoa                 3703 non-null   float64       \n",
      " 8   Gold                  3703 non-null   float64       \n",
      " 9   GhInterestRate        3703 non-null   float64       \n",
      " 10  NetForeignAssets      3703 non-null   float64       \n",
      " 11  NIR                   3703 non-null   float64       \n",
      " 12  Imports               3703 non-null   float64       \n",
      " 13  Exports               3703 non-null   float64       \n",
      " 14  GhGDP                 3703 non-null   float64       \n",
      " 15  GhCompositeIndex      3703 non-null   float64       \n",
      " 16  FXDeposits            3703 non-null   float64       \n",
      " 17  InterbankWeightedAvg  3703 non-null   float64       \n",
      " 18  T-bill-182            3703 non-null   float64       \n",
      " 19  T-bill-91             3703 non-null   float64       \n",
      " 20  PrivateSectorCredit   3703 non-null   float64       \n",
      " 21  TradeBalance          3703 non-null   float64       \n",
      " 22  USGDP                 3703 non-null   float64       \n",
      " 23  USInflationRate       3703 non-null   float64       \n",
      " 24  USInterestRate        3703 non-null   float64       \n",
      "dtypes: datetime64[ns](1), float64(24)\n",
      "memory usage: 723.4 KB\n"
     ]
    }
   ],
   "source": [
    "dataset.info()"
   ]
  },
  {
   "cell_type": "code",
   "execution_count": 35,
   "id": "8f55cbe5",
   "metadata": {},
   "outputs": [],
   "source": [
    "dataset = dataset.set_index('Date').sort_index()"
   ]
  },
  {
   "cell_type": "code",
   "execution_count": 36,
   "id": "39073211",
   "metadata": {},
   "outputs": [
    {
     "data": {
      "text/html": [
       "<div>\n",
       "<style scoped>\n",
       "    .dataframe tbody tr th:only-of-type {\n",
       "        vertical-align: middle;\n",
       "    }\n",
       "\n",
       "    .dataframe tbody tr th {\n",
       "        vertical-align: top;\n",
       "    }\n",
       "\n",
       "    .dataframe thead th {\n",
       "        text-align: right;\n",
       "    }\n",
       "</style>\n",
       "<table border=\"1\" class=\"dataframe\">\n",
       "  <thead>\n",
       "    <tr style=\"text-align: right;\">\n",
       "      <th></th>\n",
       "      <th>Buying</th>\n",
       "      <th>MPR</th>\n",
       "      <th>FoodInflation</th>\n",
       "      <th>GhInflationRate</th>\n",
       "      <th>NonFoodInflation</th>\n",
       "      <th>BrentOil</th>\n",
       "      <th>Cocoa</th>\n",
       "      <th>Gold</th>\n",
       "      <th>GhInterestRate</th>\n",
       "      <th>NetForeignAssets</th>\n",
       "      <th>...</th>\n",
       "      <th>GhCompositeIndex</th>\n",
       "      <th>FXDeposits</th>\n",
       "      <th>InterbankWeightedAvg</th>\n",
       "      <th>T-bill-182</th>\n",
       "      <th>T-bill-91</th>\n",
       "      <th>PrivateSectorCredit</th>\n",
       "      <th>TradeBalance</th>\n",
       "      <th>USGDP</th>\n",
       "      <th>USInflationRate</th>\n",
       "      <th>USInterestRate</th>\n",
       "    </tr>\n",
       "    <tr>\n",
       "      <th>Date</th>\n",
       "      <th></th>\n",
       "      <th></th>\n",
       "      <th></th>\n",
       "      <th></th>\n",
       "      <th></th>\n",
       "      <th></th>\n",
       "      <th></th>\n",
       "      <th></th>\n",
       "      <th></th>\n",
       "      <th></th>\n",
       "      <th></th>\n",
       "      <th></th>\n",
       "      <th></th>\n",
       "      <th></th>\n",
       "      <th></th>\n",
       "      <th></th>\n",
       "      <th></th>\n",
       "      <th></th>\n",
       "      <th></th>\n",
       "      <th></th>\n",
       "      <th></th>\n",
       "    </tr>\n",
       "  </thead>\n",
       "  <tbody>\n",
       "    <tr>\n",
       "      <th>2008-01-02</th>\n",
       "      <td>0.9545</td>\n",
       "      <td>13.5</td>\n",
       "      <td>10.64</td>\n",
       "      <td>12.81</td>\n",
       "      <td>14.4</td>\n",
       "      <td>91.9</td>\n",
       "      <td>2174.5</td>\n",
       "      <td>891.0</td>\n",
       "      <td>12.175</td>\n",
       "      <td>1979.35</td>\n",
       "      <td>...</td>\n",
       "      <td>25.89</td>\n",
       "      <td>1127.98</td>\n",
       "      <td>12.16</td>\n",
       "      <td>11.03</td>\n",
       "      <td>10.72</td>\n",
       "      <td>3336.9</td>\n",
       "      <td>-417.88</td>\n",
       "      <td>16843.003</td>\n",
       "      <td>87.093</td>\n",
       "      <td>4.11</td>\n",
       "    </tr>\n",
       "    <tr>\n",
       "      <th>2008-01-03</th>\n",
       "      <td>0.9545</td>\n",
       "      <td>13.5</td>\n",
       "      <td>10.64</td>\n",
       "      <td>12.81</td>\n",
       "      <td>14.4</td>\n",
       "      <td>91.9</td>\n",
       "      <td>2174.5</td>\n",
       "      <td>891.0</td>\n",
       "      <td>12.175</td>\n",
       "      <td>1979.35</td>\n",
       "      <td>...</td>\n",
       "      <td>25.89</td>\n",
       "      <td>1127.98</td>\n",
       "      <td>12.16</td>\n",
       "      <td>11.03</td>\n",
       "      <td>10.72</td>\n",
       "      <td>3336.9</td>\n",
       "      <td>-417.88</td>\n",
       "      <td>16843.003</td>\n",
       "      <td>87.093</td>\n",
       "      <td>4.25</td>\n",
       "    </tr>\n",
       "    <tr>\n",
       "      <th>2008-01-04</th>\n",
       "      <td>0.9543</td>\n",
       "      <td>13.5</td>\n",
       "      <td>10.64</td>\n",
       "      <td>12.81</td>\n",
       "      <td>14.4</td>\n",
       "      <td>91.9</td>\n",
       "      <td>2174.5</td>\n",
       "      <td>891.0</td>\n",
       "      <td>12.175</td>\n",
       "      <td>1979.35</td>\n",
       "      <td>...</td>\n",
       "      <td>25.89</td>\n",
       "      <td>1127.98</td>\n",
       "      <td>12.16</td>\n",
       "      <td>11.03</td>\n",
       "      <td>10.72</td>\n",
       "      <td>3336.9</td>\n",
       "      <td>-417.88</td>\n",
       "      <td>16843.003</td>\n",
       "      <td>87.093</td>\n",
       "      <td>4.18</td>\n",
       "    </tr>\n",
       "    <tr>\n",
       "      <th>2008-01-07</th>\n",
       "      <td>0.9551</td>\n",
       "      <td>13.5</td>\n",
       "      <td>10.64</td>\n",
       "      <td>12.81</td>\n",
       "      <td>14.4</td>\n",
       "      <td>91.9</td>\n",
       "      <td>2174.5</td>\n",
       "      <td>891.0</td>\n",
       "      <td>12.175</td>\n",
       "      <td>1979.35</td>\n",
       "      <td>...</td>\n",
       "      <td>25.89</td>\n",
       "      <td>1127.98</td>\n",
       "      <td>12.16</td>\n",
       "      <td>11.03</td>\n",
       "      <td>10.72</td>\n",
       "      <td>3336.9</td>\n",
       "      <td>-417.88</td>\n",
       "      <td>16843.003</td>\n",
       "      <td>87.093</td>\n",
       "      <td>4.27</td>\n",
       "    </tr>\n",
       "    <tr>\n",
       "      <th>2008-01-08</th>\n",
       "      <td>0.9576</td>\n",
       "      <td>13.5</td>\n",
       "      <td>10.64</td>\n",
       "      <td>12.81</td>\n",
       "      <td>14.4</td>\n",
       "      <td>91.9</td>\n",
       "      <td>2174.5</td>\n",
       "      <td>891.0</td>\n",
       "      <td>12.175</td>\n",
       "      <td>1979.35</td>\n",
       "      <td>...</td>\n",
       "      <td>25.89</td>\n",
       "      <td>1127.98</td>\n",
       "      <td>12.16</td>\n",
       "      <td>11.03</td>\n",
       "      <td>10.72</td>\n",
       "      <td>3336.9</td>\n",
       "      <td>-417.88</td>\n",
       "      <td>16843.003</td>\n",
       "      <td>87.093</td>\n",
       "      <td>4.27</td>\n",
       "    </tr>\n",
       "  </tbody>\n",
       "</table>\n",
       "<p>5 rows × 24 columns</p>\n",
       "</div>"
      ],
      "text/plain": [
       "            Buying   MPR  FoodInflation  GhInflationRate  NonFoodInflation  \\\n",
       "Date                                                                         \n",
       "2008-01-02  0.9545  13.5          10.64            12.81              14.4   \n",
       "2008-01-03  0.9545  13.5          10.64            12.81              14.4   \n",
       "2008-01-04  0.9543  13.5          10.64            12.81              14.4   \n",
       "2008-01-07  0.9551  13.5          10.64            12.81              14.4   \n",
       "2008-01-08  0.9576  13.5          10.64            12.81              14.4   \n",
       "\n",
       "            BrentOil   Cocoa   Gold  GhInterestRate  NetForeignAssets  ...  \\\n",
       "Date                                                                   ...   \n",
       "2008-01-02      91.9  2174.5  891.0          12.175           1979.35  ...   \n",
       "2008-01-03      91.9  2174.5  891.0          12.175           1979.35  ...   \n",
       "2008-01-04      91.9  2174.5  891.0          12.175           1979.35  ...   \n",
       "2008-01-07      91.9  2174.5  891.0          12.175           1979.35  ...   \n",
       "2008-01-08      91.9  2174.5  891.0          12.175           1979.35  ...   \n",
       "\n",
       "            GhCompositeIndex  FXDeposits  InterbankWeightedAvg  T-bill-182  \\\n",
       "Date                                                                         \n",
       "2008-01-02             25.89     1127.98                 12.16       11.03   \n",
       "2008-01-03             25.89     1127.98                 12.16       11.03   \n",
       "2008-01-04             25.89     1127.98                 12.16       11.03   \n",
       "2008-01-07             25.89     1127.98                 12.16       11.03   \n",
       "2008-01-08             25.89     1127.98                 12.16       11.03   \n",
       "\n",
       "            T-bill-91  PrivateSectorCredit  TradeBalance      USGDP  \\\n",
       "Date                                                                  \n",
       "2008-01-02      10.72               3336.9       -417.88  16843.003   \n",
       "2008-01-03      10.72               3336.9       -417.88  16843.003   \n",
       "2008-01-04      10.72               3336.9       -417.88  16843.003   \n",
       "2008-01-07      10.72               3336.9       -417.88  16843.003   \n",
       "2008-01-08      10.72               3336.9       -417.88  16843.003   \n",
       "\n",
       "            USInflationRate  USInterestRate  \n",
       "Date                                         \n",
       "2008-01-02           87.093            4.11  \n",
       "2008-01-03           87.093            4.25  \n",
       "2008-01-04           87.093            4.18  \n",
       "2008-01-07           87.093            4.27  \n",
       "2008-01-08           87.093            4.27  \n",
       "\n",
       "[5 rows x 24 columns]"
      ]
     },
     "execution_count": 36,
     "metadata": {},
     "output_type": "execute_result"
    }
   ],
   "source": [
    "dataset.head()"
   ]
  },
  {
   "cell_type": "code",
   "execution_count": 37,
   "id": "9690437a",
   "metadata": {},
   "outputs": [],
   "source": [
    "# dataset_80 = dataset.iloc[:int(len(dataset) * 0.8)]"
   ]
  },
  {
   "cell_type": "code",
   "execution_count": 38,
   "id": "5bffe5d0",
   "metadata": {},
   "outputs": [
    {
     "data": {
      "text/plain": [
       "2962"
      ]
     },
     "execution_count": 38,
     "metadata": {},
     "output_type": "execute_result"
    }
   ],
   "source": [
    "split_index = int(len(dataset) * 0.8)\n",
    "split_index"
   ]
  },
  {
   "cell_type": "code",
   "execution_count": 39,
   "id": "962203ee",
   "metadata": {},
   "outputs": [],
   "source": [
    "# 120 to accommodate the quarterly data. Since the data for gdp was spread into daily\n",
    "# the same values will be seen across 3 months, we use 120 to prevent this so the model\n",
    "# can see different values\n",
    "window_size = 120\n",
    "#120 *, 60, 90"
   ]
  },
  {
   "cell_type": "code",
   "execution_count": 40,
   "id": "a21733a2",
   "metadata": {},
   "outputs": [],
   "source": [
    "target_column = 'Buying'"
   ]
  },
  {
   "cell_type": "code",
   "execution_count": 41,
   "id": "43cc5df8",
   "metadata": {},
   "outputs": [],
   "source": [
    "from sklearn.preprocessing import MinMaxScaler\n",
    "\n",
    "\n",
    "scaler = MinMaxScaler(feature_range=(0, 1))\n",
    "scaled = scaler.fit_transform(dataset)"
   ]
  },
  {
   "cell_type": "code",
   "execution_count": null,
   "id": "efe3236b",
   "metadata": {},
   "outputs": [],
   "source": []
  },
  {
   "cell_type": "code",
   "execution_count": 42,
   "id": "c068c56b",
   "metadata": {},
   "outputs": [],
   "source": [
    "def create_sequences(features):\n",
    "    \"\"\"Converts 2D daily data into 3D sequences (Samples, Timesteps, Features).\"\"\"\n",
    "    x, y = [], []\n",
    "    for i in range(len(features) - window_size):\n",
    "        # X: The sequence of 'lookback' days leading up to the target day\n",
    "        x.append(features[i:i + window_size])\n",
    "        # y: The target value (Mid Rate) for the day immediately following the sequence\n",
    "        y.append(features[i + window_size])\n",
    "    return np.array(x), np.array(y)"
   ]
  },
  {
   "cell_type": "code",
   "execution_count": 43,
   "id": "d7ccf1a2",
   "metadata": {},
   "outputs": [],
   "source": [
    "x_train, y_train = create_sequences(scaled)\n",
    "x_test, y_test = create_sequences(scaled)"
   ]
  },
  {
   "cell_type": "code",
   "execution_count": 44,
   "id": "863e7520",
   "metadata": {},
   "outputs": [
    {
     "data": {
      "text/plain": [
       "((3583, 120, 24), (3583, 24), (3583, 120, 24), (3583, 24))"
      ]
     },
     "execution_count": 44,
     "metadata": {},
     "output_type": "execute_result"
    }
   ],
   "source": [
    "x_train.shape, y_train.shape, x_test.shape, y_test.shape"
   ]
  },
  {
   "cell_type": "code",
   "execution_count": 45,
   "id": "0983f5e8",
   "metadata": {},
   "outputs": [],
   "source": [
    " # The `epoch` is one complete iteration through the entire training dataset.\n",
    " # During each epoch, the model learns from the entire dataset and updates its weights. to minimize the loss function.\n",
    " # The `batch size` is the number of samples that will be propagated through the network at once.\n",
    " # The `learning rate` controls how much to change the model in response to the estimated error each time the model weights are updated.\n",
    "def train_neural_network(x_train, y_train, epochs=5, learning_rate=0.005):\n",
    "    model = Sequential()\n",
    "    model.add(InputLayer(input_shape=(x_train.shape[1], x_train.shape[2])))\n",
    "    # model.add(InputLayer(input_shape=(window_size, 1)))\n",
    "    model.add(LSTM(50, return_sequences=True))\n",
    "    # model.add(LSTM(64, return_sequences=True))\n",
    "    model.add(LSTM(50))\n",
    "    model.add(Dense(1))\n",
    "\n",
    "    model.compile(optimizer=Adam(learning_rate=learning_rate),\n",
    "                  loss=MeanSquaredError(),\n",
    "                  metrics=[RootMeanSquaredError()])\n",
    "\n",
    "    checkpoint = ModelCheckpoint('models/best_lstm_model.h5', monitor='loss',\n",
    "                                 save_best_only=True, mode='min', verbose=1)\n",
    "\n",
    "    history = model.fit(x_train, y_train, epochs=epochs, batch_size=32, callbacks=[checkpoint], verbose=1)\n",
    "\n",
    "    # history = model.fit(x_train, y_train, epochs=epochs, batch_size=32,\n",
    "    #                     validation_data=(x_val, y_val), callbacks=[checkpoint], verbose=1)\n",
    "    return model, history"
   ]
  },
  {
   "cell_type": "code",
   "execution_count": 52,
   "id": "ba2bea4c",
   "metadata": {},
   "outputs": [
    {
     "name": "stdout",
     "output_type": "stream",
     "text": [
      "Epoch 1/20\n"
     ]
    },
    {
     "name": "stderr",
     "output_type": "stream",
     "text": [
      "/Users/dela/Developer/thesis/.venv/lib/python3.12/site-packages/keras/src/layers/core/input_layer.py:27: UserWarning: Argument `input_shape` is deprecated. Use `shape` instead.\n",
      "  warnings.warn(\n"
     ]
    },
    {
     "name": "stdout",
     "output_type": "stream",
     "text": [
      "\u001b[1m112/112\u001b[0m \u001b[32m━━━━━━━━━━━━━━━━━━━━\u001b[0m\u001b[37m\u001b[0m \u001b[1m0s\u001b[0m 53ms/step - loss: 0.0663 - root_mean_squared_error: 0.2566\n",
      "Epoch 1: loss improved from None to 0.05989, saving model to models/best_lstm_model.h5\n"
     ]
    },
    {
     "name": "stderr",
     "output_type": "stream",
     "text": [
      "WARNING:absl:You are saving your model as an HDF5 file via `model.save()` or `keras.saving.save_model(model)`. This file format is considered legacy. We recommend using instead the native Keras format, e.g. `model.save('my_model.keras')` or `keras.saving.save_model(model, 'my_model.keras')`. \n"
     ]
    },
    {
     "name": "stdout",
     "output_type": "stream",
     "text": [
      "\u001b[1m112/112\u001b[0m \u001b[32m━━━━━━━━━━━━━━━━━━━━\u001b[0m\u001b[37m\u001b[0m \u001b[1m9s\u001b[0m 53ms/step - loss: 0.0599 - root_mean_squared_error: 0.2447\n",
      "Epoch 2/20\n",
      "\u001b[1m112/112\u001b[0m \u001b[32m━━━━━━━━━━━━━━━━━━━━\u001b[0m\u001b[37m\u001b[0m \u001b[1m0s\u001b[0m 54ms/step - loss: 0.0574 - root_mean_squared_error: 0.2395\n",
      "Epoch 2: loss improved from 0.05989 to 0.05745, saving model to models/best_lstm_model.h5\n"
     ]
    },
    {
     "name": "stderr",
     "output_type": "stream",
     "text": [
      "WARNING:absl:You are saving your model as an HDF5 file via `model.save()` or `keras.saving.save_model(model)`. This file format is considered legacy. We recommend using instead the native Keras format, e.g. `model.save('my_model.keras')` or `keras.saving.save_model(model, 'my_model.keras')`. \n"
     ]
    },
    {
     "name": "stdout",
     "output_type": "stream",
     "text": [
      "\u001b[1m112/112\u001b[0m \u001b[32m━━━━━━━━━━━━━━━━━━━━\u001b[0m\u001b[37m\u001b[0m \u001b[1m6s\u001b[0m 54ms/step - loss: 0.0574 - root_mean_squared_error: 0.2397\n",
      "Epoch 3/20\n",
      "\u001b[1m112/112\u001b[0m \u001b[32m━━━━━━━━━━━━━━━━━━━━\u001b[0m\u001b[37m\u001b[0m \u001b[1m0s\u001b[0m 52ms/step - loss: 0.0576 - root_mean_squared_error: 0.2400\n",
      "Epoch 3: loss improved from 0.05745 to 0.05743, saving model to models/best_lstm_model.h5\n"
     ]
    },
    {
     "name": "stderr",
     "output_type": "stream",
     "text": [
      "WARNING:absl:You are saving your model as an HDF5 file via `model.save()` or `keras.saving.save_model(model)`. This file format is considered legacy. We recommend using instead the native Keras format, e.g. `model.save('my_model.keras')` or `keras.saving.save_model(model, 'my_model.keras')`. \n"
     ]
    },
    {
     "name": "stdout",
     "output_type": "stream",
     "text": [
      "\u001b[1m112/112\u001b[0m \u001b[32m━━━━━━━━━━━━━━━━━━━━\u001b[0m\u001b[37m\u001b[0m \u001b[1m6s\u001b[0m 53ms/step - loss: 0.0574 - root_mean_squared_error: 0.2396\n",
      "Epoch 4/20\n",
      "\u001b[1m112/112\u001b[0m \u001b[32m━━━━━━━━━━━━━━━━━━━━\u001b[0m\u001b[37m\u001b[0m \u001b[1m0s\u001b[0m 53ms/step - loss: 0.0573 - root_mean_squared_error: 0.2393\n",
      "Epoch 4: loss improved from 0.05743 to 0.05743, saving model to models/best_lstm_model.h5\n"
     ]
    },
    {
     "name": "stderr",
     "output_type": "stream",
     "text": [
      "WARNING:absl:You are saving your model as an HDF5 file via `model.save()` or `keras.saving.save_model(model)`. This file format is considered legacy. We recommend using instead the native Keras format, e.g. `model.save('my_model.keras')` or `keras.saving.save_model(model, 'my_model.keras')`. \n"
     ]
    },
    {
     "name": "stdout",
     "output_type": "stream",
     "text": [
      "\u001b[1m112/112\u001b[0m \u001b[32m━━━━━━━━━━━━━━━━━━━━\u001b[0m\u001b[37m\u001b[0m \u001b[1m6s\u001b[0m 53ms/step - loss: 0.0574 - root_mean_squared_error: 0.2396\n",
      "Epoch 5/20\n",
      "\u001b[1m111/112\u001b[0m \u001b[32m━━━━━━━━━━━━━━━━━━━\u001b[0m\u001b[37m━\u001b[0m \u001b[1m0s\u001b[0m 53ms/step - loss: 0.0573 - root_mean_squared_error: 0.2393\n",
      "Epoch 5: loss improved from 0.05743 to 0.05742, saving model to models/best_lstm_model.h5\n"
     ]
    },
    {
     "name": "stderr",
     "output_type": "stream",
     "text": [
      "WARNING:absl:You are saving your model as an HDF5 file via `model.save()` or `keras.saving.save_model(model)`. This file format is considered legacy. We recommend using instead the native Keras format, e.g. `model.save('my_model.keras')` or `keras.saving.save_model(model, 'my_model.keras')`. \n"
     ]
    },
    {
     "name": "stdout",
     "output_type": "stream",
     "text": [
      "\u001b[1m112/112\u001b[0m \u001b[32m━━━━━━━━━━━━━━━━━━━━\u001b[0m\u001b[37m\u001b[0m \u001b[1m6s\u001b[0m 53ms/step - loss: 0.0574 - root_mean_squared_error: 0.2396\n",
      "Epoch 6/20\n",
      "\u001b[1m112/112\u001b[0m \u001b[32m━━━━━━━━━━━━━━━━━━━━\u001b[0m\u001b[37m\u001b[0m \u001b[1m0s\u001b[0m 50ms/step - loss: 0.0579 - root_mean_squared_error: 0.2407\n",
      "Epoch 6: loss improved from 0.05742 to 0.05742, saving model to models/best_lstm_model.h5\n"
     ]
    },
    {
     "name": "stderr",
     "output_type": "stream",
     "text": [
      "WARNING:absl:You are saving your model as an HDF5 file via `model.save()` or `keras.saving.save_model(model)`. This file format is considered legacy. We recommend using instead the native Keras format, e.g. `model.save('my_model.keras')` or `keras.saving.save_model(model, 'my_model.keras')`. \n"
     ]
    },
    {
     "name": "stdout",
     "output_type": "stream",
     "text": [
      "\u001b[1m112/112\u001b[0m \u001b[32m━━━━━━━━━━━━━━━━━━━━\u001b[0m\u001b[37m\u001b[0m \u001b[1m6s\u001b[0m 50ms/step - loss: 0.0574 - root_mean_squared_error: 0.2396\n",
      "Epoch 7/20\n",
      "\u001b[1m111/112\u001b[0m \u001b[32m━━━━━━━━━━━━━━━━━━━\u001b[0m\u001b[37m━\u001b[0m \u001b[1m0s\u001b[0m 53ms/step - loss: 0.0572 - root_mean_squared_error: 0.2391\n",
      "Epoch 7: loss improved from 0.05742 to 0.05741, saving model to models/best_lstm_model.h5\n"
     ]
    },
    {
     "name": "stderr",
     "output_type": "stream",
     "text": [
      "WARNING:absl:You are saving your model as an HDF5 file via `model.save()` or `keras.saving.save_model(model)`. This file format is considered legacy. We recommend using instead the native Keras format, e.g. `model.save('my_model.keras')` or `keras.saving.save_model(model, 'my_model.keras')`. \n"
     ]
    },
    {
     "name": "stdout",
     "output_type": "stream",
     "text": [
      "\u001b[1m112/112\u001b[0m \u001b[32m━━━━━━━━━━━━━━━━━━━━\u001b[0m\u001b[37m\u001b[0m \u001b[1m6s\u001b[0m 53ms/step - loss: 0.0574 - root_mean_squared_error: 0.2396\n",
      "Epoch 8/20\n",
      "\u001b[1m112/112\u001b[0m \u001b[32m━━━━━━━━━━━━━━━━━━━━\u001b[0m\u001b[37m\u001b[0m \u001b[1m0s\u001b[0m 52ms/step - loss: 0.0576 - root_mean_squared_error: 0.2400\n",
      "Epoch 8: loss did not improve from 0.05741\n",
      "\u001b[1m112/112\u001b[0m \u001b[32m━━━━━━━━━━━━━━━━━━━━\u001b[0m\u001b[37m\u001b[0m \u001b[1m6s\u001b[0m 52ms/step - loss: 0.0574 - root_mean_squared_error: 0.2396\n",
      "Epoch 9/20\n",
      "\u001b[1m112/112\u001b[0m \u001b[32m━━━━━━━━━━━━━━━━━━━━\u001b[0m\u001b[37m\u001b[0m \u001b[1m0s\u001b[0m 54ms/step - loss: 0.0575 - root_mean_squared_error: 0.2398\n",
      "Epoch 9: loss did not improve from 0.05741\n",
      "\u001b[1m112/112\u001b[0m \u001b[32m━━━━━━━━━━━━━━━━━━━━\u001b[0m\u001b[37m\u001b[0m \u001b[1m6s\u001b[0m 54ms/step - loss: 0.0574 - root_mean_squared_error: 0.2396\n",
      "Epoch 10/20\n",
      "\u001b[1m112/112\u001b[0m \u001b[32m━━━━━━━━━━━━━━━━━━━━\u001b[0m\u001b[37m\u001b[0m \u001b[1m0s\u001b[0m 53ms/step - loss: 0.0573 - root_mean_squared_error: 0.2394\n",
      "Epoch 10: loss improved from 0.05741 to 0.05741, saving model to models/best_lstm_model.h5\n"
     ]
    },
    {
     "name": "stderr",
     "output_type": "stream",
     "text": [
      "WARNING:absl:You are saving your model as an HDF5 file via `model.save()` or `keras.saving.save_model(model)`. This file format is considered legacy. We recommend using instead the native Keras format, e.g. `model.save('my_model.keras')` or `keras.saving.save_model(model, 'my_model.keras')`. \n"
     ]
    },
    {
     "name": "stdout",
     "output_type": "stream",
     "text": [
      "\u001b[1m112/112\u001b[0m \u001b[32m━━━━━━━━━━━━━━━━━━━━\u001b[0m\u001b[37m\u001b[0m \u001b[1m6s\u001b[0m 53ms/step - loss: 0.0574 - root_mean_squared_error: 0.2396\n",
      "Epoch 11/20\n",
      "\u001b[1m112/112\u001b[0m \u001b[32m━━━━━━━━━━━━━━━━━━━━\u001b[0m\u001b[37m\u001b[0m \u001b[1m0s\u001b[0m 52ms/step - loss: 0.0571 - root_mean_squared_error: 0.2389\n",
      "Epoch 11: loss improved from 0.05741 to 0.05741, saving model to models/best_lstm_model.h5\n"
     ]
    },
    {
     "name": "stderr",
     "output_type": "stream",
     "text": [
      "WARNING:absl:You are saving your model as an HDF5 file via `model.save()` or `keras.saving.save_model(model)`. This file format is considered legacy. We recommend using instead the native Keras format, e.g. `model.save('my_model.keras')` or `keras.saving.save_model(model, 'my_model.keras')`. \n"
     ]
    },
    {
     "name": "stdout",
     "output_type": "stream",
     "text": [
      "\u001b[1m112/112\u001b[0m \u001b[32m━━━━━━━━━━━━━━━━━━━━\u001b[0m\u001b[37m\u001b[0m \u001b[1m6s\u001b[0m 53ms/step - loss: 0.0574 - root_mean_squared_error: 0.2396\n",
      "Epoch 12/20\n",
      "\u001b[1m112/112\u001b[0m \u001b[32m━━━━━━━━━━━━━━━━━━━━\u001b[0m\u001b[37m\u001b[0m \u001b[1m0s\u001b[0m 54ms/step - loss: 0.0577 - root_mean_squared_error: 0.2402\n",
      "Epoch 12: loss did not improve from 0.05741\n",
      "\u001b[1m112/112\u001b[0m \u001b[32m━━━━━━━━━━━━━━━━━━━━\u001b[0m\u001b[37m\u001b[0m \u001b[1m6s\u001b[0m 55ms/step - loss: 0.0574 - root_mean_squared_error: 0.2396\n",
      "Epoch 13/20\n",
      "\u001b[1m112/112\u001b[0m \u001b[32m━━━━━━━━━━━━━━━━━━━━\u001b[0m\u001b[37m\u001b[0m \u001b[1m0s\u001b[0m 54ms/step - loss: 0.0577 - root_mean_squared_error: 0.2401\n",
      "Epoch 13: loss improved from 0.05741 to 0.05741, saving model to models/best_lstm_model.h5\n"
     ]
    },
    {
     "name": "stderr",
     "output_type": "stream",
     "text": [
      "WARNING:absl:You are saving your model as an HDF5 file via `model.save()` or `keras.saving.save_model(model)`. This file format is considered legacy. We recommend using instead the native Keras format, e.g. `model.save('my_model.keras')` or `keras.saving.save_model(model, 'my_model.keras')`. \n"
     ]
    },
    {
     "name": "stdout",
     "output_type": "stream",
     "text": [
      "\u001b[1m112/112\u001b[0m \u001b[32m━━━━━━━━━━━━━━━━━━━━\u001b[0m\u001b[37m\u001b[0m \u001b[1m6s\u001b[0m 54ms/step - loss: 0.0574 - root_mean_squared_error: 0.2396\n",
      "Epoch 14/20\n",
      "\u001b[1m112/112\u001b[0m \u001b[32m━━━━━━━━━━━━━━━━━━━━\u001b[0m\u001b[37m\u001b[0m \u001b[1m0s\u001b[0m 55ms/step - loss: 0.0571 - root_mean_squared_error: 0.2389\n",
      "Epoch 14: loss did not improve from 0.05741\n",
      "\u001b[1m112/112\u001b[0m \u001b[32m━━━━━━━━━━━━━━━━━━━━\u001b[0m\u001b[37m\u001b[0m \u001b[1m6s\u001b[0m 55ms/step - loss: 0.0574 - root_mean_squared_error: 0.2396\n",
      "Epoch 15/20\n",
      "\u001b[1m112/112\u001b[0m \u001b[32m━━━━━━━━━━━━━━━━━━━━\u001b[0m\u001b[37m\u001b[0m \u001b[1m0s\u001b[0m 53ms/step - loss: 0.0574 - root_mean_squared_error: 0.2396\n",
      "Epoch 15: loss did not improve from 0.05741\n",
      "\u001b[1m112/112\u001b[0m \u001b[32m━━━━━━━━━━━━━━━━━━━━\u001b[0m\u001b[37m\u001b[0m \u001b[1m6s\u001b[0m 54ms/step - loss: 0.0574 - root_mean_squared_error: 0.2396\n",
      "Epoch 16/20\n",
      "\u001b[1m112/112\u001b[0m \u001b[32m━━━━━━━━━━━━━━━━━━━━\u001b[0m\u001b[37m\u001b[0m \u001b[1m0s\u001b[0m 55ms/step - loss: 0.0577 - root_mean_squared_error: 0.2402\n",
      "Epoch 16: loss did not improve from 0.05741\n",
      "\u001b[1m112/112\u001b[0m \u001b[32m━━━━━━━━━━━━━━━━━━━━\u001b[0m\u001b[37m\u001b[0m \u001b[1m6s\u001b[0m 55ms/step - loss: 0.0574 - root_mean_squared_error: 0.2396\n",
      "Epoch 17/20\n",
      "\u001b[1m112/112\u001b[0m \u001b[32m━━━━━━━━━━━━━━━━━━━━\u001b[0m\u001b[37m\u001b[0m \u001b[1m0s\u001b[0m 55ms/step - loss: 0.0575 - root_mean_squared_error: 0.2397\n",
      "Epoch 17: loss improved from 0.05741 to 0.05741, saving model to models/best_lstm_model.h5\n"
     ]
    },
    {
     "name": "stderr",
     "output_type": "stream",
     "text": [
      "WARNING:absl:You are saving your model as an HDF5 file via `model.save()` or `keras.saving.save_model(model)`. This file format is considered legacy. We recommend using instead the native Keras format, e.g. `model.save('my_model.keras')` or `keras.saving.save_model(model, 'my_model.keras')`. \n"
     ]
    },
    {
     "name": "stdout",
     "output_type": "stream",
     "text": [
      "\u001b[1m112/112\u001b[0m \u001b[32m━━━━━━━━━━━━━━━━━━━━\u001b[0m\u001b[37m\u001b[0m \u001b[1m6s\u001b[0m 56ms/step - loss: 0.0574 - root_mean_squared_error: 0.2396\n",
      "Epoch 18/20\n",
      "\u001b[1m112/112\u001b[0m \u001b[32m━━━━━━━━━━━━━━━━━━━━\u001b[0m\u001b[37m\u001b[0m \u001b[1m0s\u001b[0m 61ms/step - loss: 0.0573 - root_mean_squared_error: 0.2394\n",
      "Epoch 18: loss did not improve from 0.05741\n",
      "\u001b[1m112/112\u001b[0m \u001b[32m━━━━━━━━━━━━━━━━━━━━\u001b[0m\u001b[37m\u001b[0m \u001b[1m7s\u001b[0m 61ms/step - loss: 0.0574 - root_mean_squared_error: 0.2396\n",
      "Epoch 19/20\n",
      "\u001b[1m112/112\u001b[0m \u001b[32m━━━━━━━━━━━━━━━━━━━━\u001b[0m\u001b[37m\u001b[0m \u001b[1m0s\u001b[0m 60ms/step - loss: 0.0575 - root_mean_squared_error: 0.2398\n",
      "Epoch 19: loss did not improve from 0.05741\n",
      "\u001b[1m112/112\u001b[0m \u001b[32m━━━━━━━━━━━━━━━━━━━━\u001b[0m\u001b[37m\u001b[0m \u001b[1m7s\u001b[0m 60ms/step - loss: 0.0574 - root_mean_squared_error: 0.2396\n",
      "Epoch 20/20\n",
      "\u001b[1m112/112\u001b[0m \u001b[32m━━━━━━━━━━━━━━━━━━━━\u001b[0m\u001b[37m\u001b[0m \u001b[1m0s\u001b[0m 53ms/step - loss: 0.0574 - root_mean_squared_error: 0.2395\n",
      "Epoch 20: loss did not improve from 0.05741\n",
      "\u001b[1m112/112\u001b[0m \u001b[32m━━━━━━━━━━━━━━━━━━━━\u001b[0m\u001b[37m\u001b[0m \u001b[1m6s\u001b[0m 54ms/step - loss: 0.0574 - root_mean_squared_error: 0.2396\n"
     ]
    }
   ],
   "source": [
    "model, history = train_neural_network(x_train, y_train, epochs=20, learning_rate=0.001)"
   ]
  },
  {
   "cell_type": "code",
   "execution_count": 53,
   "id": "12819cfc",
   "metadata": {},
   "outputs": [
    {
     "data": {
      "image/png": "[encoded data removed]",
      "text/plain": [
       "<Figure size 640x480 with 1 Axes>"
      ]
     },
     "metadata": {},
     "output_type": "display_data"
    }
   ],
   "source": [
    "plt.plot(history.history['loss'], label='train')\n",
    "# plt.plot(history.history['val_loss'], label='test')\n",
    "plt.legend()\n",
    "plt.show()"
   ]
  },
  {
   "cell_type": "code",
   "execution_count": 48,
   "id": "60d817ee",
   "metadata": {},
   "outputs": [
    {
     "name": "stderr",
     "output_type": "stream",
     "text": [
      "WARNING:absl:Compiled the loaded model, but the compiled metrics have yet to be built. `model.compile_metrics` will be empty until you train or evaluate the model.\n"
     ]
    }
   ],
   "source": [
    "model = load_model('models/best_lstm_model.h5')"
   ]
  },
  {
   "cell_type": "code",
   "execution_count": 54,
   "id": "88464d0c",
   "metadata": {},
   "outputs": [
    {
     "name": "stdout",
     "output_type": "stream",
     "text": [
      "\u001b[1m112/112\u001b[0m \u001b[32m━━━━━━━━━━━━━━━━━━━━\u001b[0m\u001b[37m\u001b[0m \u001b[1m2s\u001b[0m 18ms/step\n",
      "\u001b[1m112/112\u001b[0m \u001b[32m━━━━━━━━━━━━━━━━━━━━\u001b[0m\u001b[37m\u001b[0m \u001b[1m2s\u001b[0m 16ms/step\n"
     ]
    }
   ],
   "source": [
    "train_predictions = model.predict(x_train)\n",
    "test_predictions = model.predict(x_test)"
   ]
  },
  {
   "cell_type": "code",
   "execution_count": 55,
   "id": "19c5adb2",
   "metadata": {},
   "outputs": [],
   "source": [
    "# Inverse transform the predictions and true values to get back to the actual scale\n",
    "\n",
    "# If you used a scaler for y, e.g., MinMaxScaler, and you have it as `y_scaler`\n",
    "# The y_train and train_predictions may need to be reshaped for inverse_transform\n",
    "\n",
    "# Assuming y_scaler is available, and that predictions/targets are 2D\n",
    "# Only inverse transform the first column if scaler was fit on all features\n",
    "train_predictions_actual = scaler.inverse_transform(\n",
    "    np.concatenate([\n",
    "        train_predictions,\n",
    "        np.zeros((train_predictions.shape[0], scaler.n_features_in_ - train_predictions.shape[1]))\n",
    "    ], axis=1)\n",
    ")[:, 0].reshape(-1, 1)\n",
    "# Pad y_train with zeros to match the number of features used in scaler, then inverse transform and select target column\n",
    "# Ensure y_train is at least 2D for correct concatenation along axis=1\n",
    "if y_train.ndim == 1:\n",
    "    y_train_2d = y_train.reshape(-1, 1)\n",
    "else:\n",
    "    y_train_2d = y_train\n",
    "\n",
    "y_train_padded = np.concatenate([\n",
    "    y_train_2d,\n",
    "    np.zeros((y_train_2d.shape[0], scaler.n_features_in_ - 1))\n",
    "], axis=1)\n",
    "# Fix: Use the correct scaler for y, not the whole input scaler if available.\n",
    "# If you only scaled the target variable y, use that scaler (e.g. y_scaler) here.\n",
    "# Otherwise, for single-output with full-feature fit, pad to scaler.n_features_in_\n",
    "if hasattr(scaler, 'n_features_in_') and y_train_padded.shape[1] != scaler.n_features_in_:\n",
    "    n_missing = scaler.n_features_in_ - y_train_padded.shape[1]\n",
    "    if n_missing > 0:\n",
    "        y_train_padded = np.concatenate([\n",
    "            y_train_padded,\n",
    "            np.zeros((y_train_padded.shape[0], n_missing))\n",
    "        ], axis=1)\n",
    "    elif n_missing < 0:\n",
    "        y_train_padded = y_train_padded[:, :scaler.n_features_in_]\n",
    "\n",
    "y_train_actual = scaler.inverse_transform(y_train_padded)[:, 0].reshape(-1, 1)"
   ]
  },
  {
   "cell_type": "code",
   "execution_count": 56,
   "id": "e95e18fa",
   "metadata": {},
   "outputs": [
    {
     "data": {
      "image/png": "[encoded data removed]",
      "text/plain": [
       "<Figure size 1200x600 with 1 Axes>"
      ]
     },
     "metadata": {},
     "output_type": "display_data"
    }
   ],
   "source": [
    "\n",
    "\n",
    "# Create an x-axis of dates for the training period, if available\n",
    "# If your y_train came from a dataframe with Date index or column use it\n",
    "# Otherwise, just use np.arange or dataset index matching the training rows\n",
    "\n",
    "# Example: If you used a DataFrame and have its index as dates:\n",
    "# train_dates = dataset.index[:len(y_train_actual)]\n",
    "# If unavailable, default to row indices\n",
    "# Use actual date values from the training set if available\n",
    "# Assuming you have a DataFrame or Series with aligned dates for the y_train data\n",
    "# For example, if your training set comes from splitting a DataFrame with a Date index:\n",
    "if 'train_idx' in locals():\n",
    "    # Use train indices in original order (oldest to latest), we'll reverse later for plotting\n",
    "    train_dates = dataset.index[train_idx]\n",
    "elif hasattr(dataset, 'index') and len(dataset.index) >= len(y_train_actual):\n",
    "    train_dates = dataset.index[:len(y_train_actual)]\n",
    "elif 'train_dates' in globals():\n",
    "    train_dates = train_dates\n",
    "else:\n",
    "    raise ValueError(\"No date information found for training set.\")\n",
    "\n",
    "# Reverse both dates and actuals/predictions so that the latest date appears first on the plot,\n",
    "# and corresponding y values are matched in time\n",
    "train_dates = train_dates[::-1]\n",
    "y_train_actual = y_train_actual[::-1]\n",
    "train_predictions_actual = train_predictions_actual[::-1]\n",
    "\n",
    "plt.figure(figsize=(12, 6))\n",
    "plt.plot(train_dates, y_train_actual, label='Actual')\n",
    "plt.plot(train_dates, train_predictions_actual, label='Predicted')\n",
    "plt.xlabel('Time')\n",
    "plt.ylabel('Value')\n",
    "plt.title('Actual vs Predicted (Training Data)')\n",
    "plt.legend()\n",
    "plt.show()\n"
   ]
  },
  {
   "cell_type": "code",
   "execution_count": 57,
   "id": "e4b6c321",
   "metadata": {},
   "outputs": [
    {
     "name": "stdout",
     "output_type": "stream",
     "text": [
      "Training MSE: 3.069820\n",
      "Training MAE: 1.471920\n",
      "Training RMSE: 1.752090\n",
      "Training R2 Score: 0.272223\n"
     ]
    }
   ],
   "source": [
    "from sklearn.metrics import mean_squared_error, mean_absolute_error, r2_score\n",
    "import numpy as np\n",
    "\n",
    "# y_train_actual and train_predictions_actual should be aligned arrays of actual vs predicted, already reversed above\n",
    "# Flatten to 1D for metric functions if necessary\n",
    "y_true = y_train_actual.flatten()\n",
    "y_pred = train_predictions_actual.flatten()\n",
    "\n",
    "mse = mean_squared_error(y_true, y_pred)\n",
    "mae = mean_absolute_error(y_true, y_pred)\n",
    "rmse = np.sqrt(mse)\n",
    "r2 = r2_score(y_true, y_pred)\n",
    "\n",
    "print(f\"Training MSE: {mse:.6f}\")\n",
    "print(f\"Training MAE: {mae:.6f}\")\n",
    "print(f\"Training RMSE: {rmse:.6f}\")\n",
    "print(f\"Training R2 Score: {r2:.6f}\")\n"
   ]
  }
 ],
 "metadata": {
  "kernelspec": {
   "display_name": ".venv",
   "language": "python",
   "name": "python3"
  },
  "language_info": {
   "codemirror_mode": {
    "name": "ipython",
    "version": 3
   },
   "file_extension": ".py",
   "mimetype": "text/x-python",
   "name": "python",
   "nbconvert_exporter": "python",
   "pygments_lexer": "ipython3",
   "version": "3.12.11"
  }
 },
 "nbformat": 4,
 "nbformat_minor": 5
}
