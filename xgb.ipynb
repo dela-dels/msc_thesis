{
 "cells": [
  {
   "cell_type": "code",
   "execution_count": null,
   "id": "3e1866db",
   "metadata": {},
   "outputs": [],
   "source": [
    "from xgboost import XGBRegressor\n",
    "from sklearn.metrics import mean_absolute_error, mean_squared_error, r2_score\n",
    "from sklearn.pipeline import Pipeline\n",
    "from sklearn.preprocessing import MinMaxScaler\n",
    "from sklearn.model_selection import TimeSeriesSplit\n",
    "import matplotlib.pyplot as plt\n",
    "import pandas as pd\n",
    "import numpy as np\n",
    "import warnings\n",
    "warnings.filterwarnings(\"ignore\")"
   ]
  },
  {
   "cell_type": "code",
   "execution_count": 2,
   "id": "295f7ba1",
   "metadata": {},
   "outputs": [],
   "source": [
    "# ---------- CONFIG ----------\n",
    "DATA_PATH = \"datasets/cleaned/merged_fx_dataset.csv\"   # change if needed\n",
    "OUT_DIR = \"./\"\n",
    "TEST_FRACTION = 0.2\n",
    "MIN_TEST_WEEKS = 60\n",
    "Y_COL = \"Buying\""
   ]
  },
  {
   "cell_type": "code",
   "execution_count": 3,
   "id": "ee683f92",
   "metadata": {},
   "outputs": [],
   "source": [
    "# ---------- HELPERS ----------\n",
    "def evaluate_metrics(y_true, y_pred):\n",
    "    mae = mean_absolute_error(y_true, y_pred)\n",
    "    rmse = np.sqrt(mean_squared_error(y_true, y_pred))\n",
    "    r2 = r2_score(y_true, y_pred)\n",
    "    return {\"MAE\": mae, \"RMSE\": rmse, \"R2\": r2}\n",
    "\n",
    "\n",
    "def is_strictly_positive(s: pd.Series) -> bool:\n",
    "    x = s.dropna()\n",
    "    return (len(x) > 0) and (x.min() > 0)\n",
    "\n",
    "\n",
    "def make_ml_features(frame: pd.DataFrame, y_col=\"y\", max_lag=4, roll_windows=(4, 8)):\n",
    "    out = frame.copy()\n",
    "    # y lags\n",
    "    for L in range(1, max_lag + 1):\n",
    "        out[f\"{y_col}_lag{L}\"] = out[y_col].shift(L)\n",
    "    # exog lags\n",
    "    ex_cols = [c for c in frame.columns if c != y_col]\n",
    "    for L in range(1, max_lag + 1):\n",
    "        for c in ex_cols:\n",
    "            out[f\"{c}_lag{L}\"] = out[c].shift(L)\n",
    "    # rolling stats on y\n",
    "    for w in roll_windows:\n",
    "        out[f\"{y_col}_rollmean_{w}\"] = out[y_col].rolling(w).mean()\n",
    "        out[f\"{y_col}_rollstd_{w}\"] = out[y_col].rolling(w).std()\n",
    "    return out\n",
    "\n",
    "\n",
    "def invert_dlog_to_level(dlog_series: pd.Series, start_log_value: float) -> pd.Series:\n",
    "    \"\"\"Reconstruct levels from Δlog series given the last pre-period log level.\"\"\"\n",
    "    cumlog = np.cumsum(dlog_series.values) + start_log_value\n",
    "    return pd.Series(np.exp(cumlog), index=dlog_series.index, name=\"Level\")"
   ]
  },
  {
   "cell_type": "code",
   "execution_count": 4,
   "id": "f7997d70",
   "metadata": {},
   "outputs": [],
   "source": [
    "# ---------- 1) LOAD & CLEAN ----------\n",
    "df = pd.read_csv(DATA_PATH)\n",
    "assert \"Date\" in df.columns and Y_COL in df.columns, \"Dataset must have 'Date' and 'Buying' columns.\"\n",
    "df[\"Date\"] = pd.to_datetime(df[\"Date\"])\n",
    "df = df.sort_values(\"Date\").drop_duplicates(\"Date\").set_index(\"Date\")"
   ]
  },
  {
   "cell_type": "code",
   "execution_count": 5,
   "id": "dbd59133",
   "metadata": {},
   "outputs": [
    {
     "data": {
      "application/vnd.microsoft.datawrangler.viewer.v0+json": {
       "columns": [
        {
         "name": "Date",
         "rawType": "datetime64[ns]",
         "type": "datetime"
        },
        {
         "name": "Buying",
         "rawType": "float64",
         "type": "float"
        },
        {
         "name": "Selling",
         "rawType": "float64",
         "type": "float"
        },
        {
         "name": "MidRate",
         "rawType": "float64",
         "type": "float"
        },
        {
         "name": "MPR",
         "rawType": "float64",
         "type": "float"
        },
        {
         "name": "FoodInflation",
         "rawType": "float64",
         "type": "float"
        },
        {
         "name": "GhInflationRate",
         "rawType": "float64",
         "type": "float"
        },
        {
         "name": "NonFoodInflation",
         "rawType": "float64",
         "type": "float"
        },
        {
         "name": "BrentOil",
         "rawType": "float64",
         "type": "float"
        },
        {
         "name": "Cocoa",
         "rawType": "float64",
         "type": "float"
        },
        {
         "name": "Gold",
         "rawType": "float64",
         "type": "float"
        },
        {
         "name": "GhInterestRate",
         "rawType": "float64",
         "type": "float"
        },
        {
         "name": "NetForeignAssets",
         "rawType": "float64",
         "type": "float"
        },
        {
         "name": "NIR",
         "rawType": "float64",
         "type": "float"
        },
        {
         "name": "Imports",
         "rawType": "float64",
         "type": "float"
        },
        {
         "name": "Exports",
         "rawType": "float64",
         "type": "float"
        },
        {
         "name": "GhGDP",
         "rawType": "float64",
         "type": "float"
        },
        {
         "name": "GhCompositeIndex",
         "rawType": "float64",
         "type": "float"
        },
        {
         "name": "FXDeposits",
         "rawType": "float64",
         "type": "float"
        },
        {
         "name": "InterbankWeightedAvg",
         "rawType": "float64",
         "type": "float"
        },
        {
         "name": "T-bill-182",
         "rawType": "float64",
         "type": "float"
        },
        {
         "name": "T-bill-91",
         "rawType": "float64",
         "type": "float"
        },
        {
         "name": "PrivateSectorCredit",
         "rawType": "float64",
         "type": "float"
        },
        {
         "name": "TradeBalance",
         "rawType": "float64",
         "type": "float"
        },
        {
         "name": "USGDP",
         "rawType": "float64",
         "type": "float"
        },
        {
         "name": "USInflationRate",
         "rawType": "float64",
         "type": "float"
        },
        {
         "name": "USInterestRate",
         "rawType": "float64",
         "type": "float"
        }
       ],
       "ref": "8fc4ec46-a2d7-4cee-b21c-0bdacc9991b6",
       "rows": [
        [
         "2008-01-02 00:00:00",
         "0.9545",
         "0.9799",
         "0.9672",
         "13.5",
         "10.64",
         "12.81",
         "14.4",
         "91.9",
         "2174.5",
         "891.0",
         "12.175",
         "1979.35",
         "1674.3",
         "781.9",
         "406.1",
         "18863.43405",
         "25.89",
         "1127.98",
         "12.16",
         "11.03",
         "10.72",
         "3336.9",
         "-417.88",
         "16843.003",
         "87.093",
         "4.11"
        ],
        [
         "2008-01-03 00:00:00",
         "0.9545",
         "0.9799",
         "0.9672",
         "13.5",
         "10.64",
         "12.81",
         "14.4",
         "91.9",
         "2174.5",
         "891.0",
         "12.175",
         "1979.35",
         "1674.3",
         "781.9",
         "406.1",
         "18863.43405",
         "25.89",
         "1127.98",
         "12.16",
         "11.03",
         "10.72",
         "3336.9",
         "-417.88",
         "16843.003",
         "87.093",
         "4.25"
        ],
        [
         "2008-01-04 00:00:00",
         "0.9543",
         "0.9798",
         "0.9671",
         "13.5",
         "10.64",
         "12.81",
         "14.4",
         "91.9",
         "2174.5",
         "891.0",
         "12.175",
         "1979.35",
         "1674.3",
         "781.9",
         "406.1",
         "18863.43405",
         "25.89",
         "1127.98",
         "12.16",
         "11.03",
         "10.72",
         "3336.9",
         "-417.88",
         "16843.003",
         "87.093",
         "4.18"
        ],
        [
         "2008-01-07 00:00:00",
         "0.9551",
         "0.9809",
         "0.968",
         "13.5",
         "10.64",
         "12.81",
         "14.4",
         "91.9",
         "2174.5",
         "891.0",
         "12.175",
         "1979.35",
         "1674.3",
         "781.9",
         "406.1",
         "18863.43405",
         "25.89",
         "1127.98",
         "12.16",
         "11.03",
         "10.72",
         "3336.9",
         "-417.88",
         "16843.003",
         "87.093",
         "4.27"
        ],
        [
         "2008-01-08 00:00:00",
         "0.9576",
         "0.98",
         "0.9688",
         "13.5",
         "10.64",
         "12.81",
         "14.4",
         "91.9",
         "2174.5",
         "891.0",
         "12.175",
         "1979.35",
         "1674.3",
         "781.9",
         "406.1",
         "18863.43405",
         "25.89",
         "1127.98",
         "12.16",
         "11.03",
         "10.72",
         "3336.9",
         "-417.88",
         "16843.003",
         "87.093",
         "4.27"
        ]
       ],
       "shape": {
        "columns": 26,
        "rows": 5
       }
      },
      "text/html": [
       "<div>\n",
       "<style scoped>\n",
       "    .dataframe tbody tr th:only-of-type {\n",
       "        vertical-align: middle;\n",
       "    }\n",
       "\n",
       "    .dataframe tbody tr th {\n",
       "        vertical-align: top;\n",
       "    }\n",
       "\n",
       "    .dataframe thead th {\n",
       "        text-align: right;\n",
       "    }\n",
       "</style>\n",
       "<table border=\"1\" class=\"dataframe\">\n",
       "  <thead>\n",
       "    <tr style=\"text-align: right;\">\n",
       "      <th></th>\n",
       "      <th>Buying</th>\n",
       "      <th>Selling</th>\n",
       "      <th>MidRate</th>\n",
       "      <th>MPR</th>\n",
       "      <th>FoodInflation</th>\n",
       "      <th>GhInflationRate</th>\n",
       "      <th>NonFoodInflation</th>\n",
       "      <th>BrentOil</th>\n",
       "      <th>Cocoa</th>\n",
       "      <th>Gold</th>\n",
       "      <th>...</th>\n",
       "      <th>GhCompositeIndex</th>\n",
       "      <th>FXDeposits</th>\n",
       "      <th>InterbankWeightedAvg</th>\n",
       "      <th>T-bill-182</th>\n",
       "      <th>T-bill-91</th>\n",
       "      <th>PrivateSectorCredit</th>\n",
       "      <th>TradeBalance</th>\n",
       "      <th>USGDP</th>\n",
       "      <th>USInflationRate</th>\n",
       "      <th>USInterestRate</th>\n",
       "    </tr>\n",
       "    <tr>\n",
       "      <th>Date</th>\n",
       "      <th></th>\n",
       "      <th></th>\n",
       "      <th></th>\n",
       "      <th></th>\n",
       "      <th></th>\n",
       "      <th></th>\n",
       "      <th></th>\n",
       "      <th></th>\n",
       "      <th></th>\n",
       "      <th></th>\n",
       "      <th></th>\n",
       "      <th></th>\n",
       "      <th></th>\n",
       "      <th></th>\n",
       "      <th></th>\n",
       "      <th></th>\n",
       "      <th></th>\n",
       "      <th></th>\n",
       "      <th></th>\n",
       "      <th></th>\n",
       "      <th></th>\n",
       "    </tr>\n",
       "  </thead>\n",
       "  <tbody>\n",
       "    <tr>\n",
       "      <th>2008-01-02</th>\n",
       "      <td>0.9545</td>\n",
       "      <td>0.9799</td>\n",
       "      <td>0.9672</td>\n",
       "      <td>13.5</td>\n",
       "      <td>10.64</td>\n",
       "      <td>12.81</td>\n",
       "      <td>14.4</td>\n",
       "      <td>91.9</td>\n",
       "      <td>2174.5</td>\n",
       "      <td>891.0</td>\n",
       "      <td>...</td>\n",
       "      <td>25.89</td>\n",
       "      <td>1127.98</td>\n",
       "      <td>12.16</td>\n",
       "      <td>11.03</td>\n",
       "      <td>10.72</td>\n",
       "      <td>3336.9</td>\n",
       "      <td>-417.88</td>\n",
       "      <td>16843.003</td>\n",
       "      <td>87.093</td>\n",
       "      <td>4.11</td>\n",
       "    </tr>\n",
       "    <tr>\n",
       "      <th>2008-01-03</th>\n",
       "      <td>0.9545</td>\n",
       "      <td>0.9799</td>\n",
       "      <td>0.9672</td>\n",
       "      <td>13.5</td>\n",
       "      <td>10.64</td>\n",
       "      <td>12.81</td>\n",
       "      <td>14.4</td>\n",
       "      <td>91.9</td>\n",
       "      <td>2174.5</td>\n",
       "      <td>891.0</td>\n",
       "      <td>...</td>\n",
       "      <td>25.89</td>\n",
       "      <td>1127.98</td>\n",
       "      <td>12.16</td>\n",
       "      <td>11.03</td>\n",
       "      <td>10.72</td>\n",
       "      <td>3336.9</td>\n",
       "      <td>-417.88</td>\n",
       "      <td>16843.003</td>\n",
       "      <td>87.093</td>\n",
       "      <td>4.25</td>\n",
       "    </tr>\n",
       "    <tr>\n",
       "      <th>2008-01-04</th>\n",
       "      <td>0.9543</td>\n",
       "      <td>0.9798</td>\n",
       "      <td>0.9671</td>\n",
       "      <td>13.5</td>\n",
       "      <td>10.64</td>\n",
       "      <td>12.81</td>\n",
       "      <td>14.4</td>\n",
       "      <td>91.9</td>\n",
       "      <td>2174.5</td>\n",
       "      <td>891.0</td>\n",
       "      <td>...</td>\n",
       "      <td>25.89</td>\n",
       "      <td>1127.98</td>\n",
       "      <td>12.16</td>\n",
       "      <td>11.03</td>\n",
       "      <td>10.72</td>\n",
       "      <td>3336.9</td>\n",
       "      <td>-417.88</td>\n",
       "      <td>16843.003</td>\n",
       "      <td>87.093</td>\n",
       "      <td>4.18</td>\n",
       "    </tr>\n",
       "    <tr>\n",
       "      <th>2008-01-07</th>\n",
       "      <td>0.9551</td>\n",
       "      <td>0.9809</td>\n",
       "      <td>0.9680</td>\n",
       "      <td>13.5</td>\n",
       "      <td>10.64</td>\n",
       "      <td>12.81</td>\n",
       "      <td>14.4</td>\n",
       "      <td>91.9</td>\n",
       "      <td>2174.5</td>\n",
       "      <td>891.0</td>\n",
       "      <td>...</td>\n",
       "      <td>25.89</td>\n",
       "      <td>1127.98</td>\n",
       "      <td>12.16</td>\n",
       "      <td>11.03</td>\n",
       "      <td>10.72</td>\n",
       "      <td>3336.9</td>\n",
       "      <td>-417.88</td>\n",
       "      <td>16843.003</td>\n",
       "      <td>87.093</td>\n",
       "      <td>4.27</td>\n",
       "    </tr>\n",
       "    <tr>\n",
       "      <th>2008-01-08</th>\n",
       "      <td>0.9576</td>\n",
       "      <td>0.9800</td>\n",
       "      <td>0.9688</td>\n",
       "      <td>13.5</td>\n",
       "      <td>10.64</td>\n",
       "      <td>12.81</td>\n",
       "      <td>14.4</td>\n",
       "      <td>91.9</td>\n",
       "      <td>2174.5</td>\n",
       "      <td>891.0</td>\n",
       "      <td>...</td>\n",
       "      <td>25.89</td>\n",
       "      <td>1127.98</td>\n",
       "      <td>12.16</td>\n",
       "      <td>11.03</td>\n",
       "      <td>10.72</td>\n",
       "      <td>3336.9</td>\n",
       "      <td>-417.88</td>\n",
       "      <td>16843.003</td>\n",
       "      <td>87.093</td>\n",
       "      <td>4.27</td>\n",
       "    </tr>\n",
       "  </tbody>\n",
       "</table>\n",
       "<p>5 rows × 26 columns</p>\n",
       "</div>"
      ],
      "text/plain": [
       "            Buying  Selling  MidRate   MPR  FoodInflation  GhInflationRate  \\\n",
       "Date                                                                         \n",
       "2008-01-02  0.9545   0.9799   0.9672  13.5          10.64            12.81   \n",
       "2008-01-03  0.9545   0.9799   0.9672  13.5          10.64            12.81   \n",
       "2008-01-04  0.9543   0.9798   0.9671  13.5          10.64            12.81   \n",
       "2008-01-07  0.9551   0.9809   0.9680  13.5          10.64            12.81   \n",
       "2008-01-08  0.9576   0.9800   0.9688  13.5          10.64            12.81   \n",
       "\n",
       "            NonFoodInflation  BrentOil   Cocoa   Gold  ...  GhCompositeIndex  \\\n",
       "Date                                                   ...                     \n",
       "2008-01-02              14.4      91.9  2174.5  891.0  ...             25.89   \n",
       "2008-01-03              14.4      91.9  2174.5  891.0  ...             25.89   \n",
       "2008-01-04              14.4      91.9  2174.5  891.0  ...             25.89   \n",
       "2008-01-07              14.4      91.9  2174.5  891.0  ...             25.89   \n",
       "2008-01-08              14.4      91.9  2174.5  891.0  ...             25.89   \n",
       "\n",
       "            FXDeposits  InterbankWeightedAvg  T-bill-182  T-bill-91  \\\n",
       "Date                                                                  \n",
       "2008-01-02     1127.98                 12.16       11.03      10.72   \n",
       "2008-01-03     1127.98                 12.16       11.03      10.72   \n",
       "2008-01-04     1127.98                 12.16       11.03      10.72   \n",
       "2008-01-07     1127.98                 12.16       11.03      10.72   \n",
       "2008-01-08     1127.98                 12.16       11.03      10.72   \n",
       "\n",
       "            PrivateSectorCredit  TradeBalance      USGDP  USInflationRate  \\\n",
       "Date                                                                        \n",
       "2008-01-02               3336.9       -417.88  16843.003           87.093   \n",
       "2008-01-03               3336.9       -417.88  16843.003           87.093   \n",
       "2008-01-04               3336.9       -417.88  16843.003           87.093   \n",
       "2008-01-07               3336.9       -417.88  16843.003           87.093   \n",
       "2008-01-08               3336.9       -417.88  16843.003           87.093   \n",
       "\n",
       "            USInterestRate  \n",
       "Date                        \n",
       "2008-01-02            4.11  \n",
       "2008-01-03            4.25  \n",
       "2008-01-04            4.18  \n",
       "2008-01-07            4.27  \n",
       "2008-01-08            4.27  \n",
       "\n",
       "[5 rows x 26 columns]"
      ]
     },
     "execution_count": 5,
     "metadata": {},
     "output_type": "execute_result"
    }
   ],
   "source": [
    "df.head()"
   ]
  },
  {
   "cell_type": "code",
   "execution_count": 6,
   "id": "782dd9e9",
   "metadata": {},
   "outputs": [
    {
     "data": {
      "application/vnd.microsoft.datawrangler.viewer.v0+json": {
       "columns": [
        {
         "name": "Date",
         "rawType": "datetime64[ns]",
         "type": "datetime"
        },
        {
         "name": "Buying",
         "rawType": "float64",
         "type": "float"
        },
        {
         "name": "Selling",
         "rawType": "float64",
         "type": "float"
        },
        {
         "name": "MidRate",
         "rawType": "float64",
         "type": "float"
        },
        {
         "name": "MPR",
         "rawType": "float64",
         "type": "float"
        },
        {
         "name": "FoodInflation",
         "rawType": "float64",
         "type": "float"
        },
        {
         "name": "GhInflationRate",
         "rawType": "float64",
         "type": "float"
        },
        {
         "name": "NonFoodInflation",
         "rawType": "float64",
         "type": "float"
        },
        {
         "name": "BrentOil",
         "rawType": "float64",
         "type": "float"
        },
        {
         "name": "Cocoa",
         "rawType": "float64",
         "type": "float"
        },
        {
         "name": "Gold",
         "rawType": "float64",
         "type": "float"
        },
        {
         "name": "GhInterestRate",
         "rawType": "float64",
         "type": "float"
        },
        {
         "name": "NetForeignAssets",
         "rawType": "float64",
         "type": "float"
        },
        {
         "name": "NIR",
         "rawType": "float64",
         "type": "float"
        },
        {
         "name": "Imports",
         "rawType": "float64",
         "type": "float"
        },
        {
         "name": "Exports",
         "rawType": "float64",
         "type": "float"
        },
        {
         "name": "GhGDP",
         "rawType": "float64",
         "type": "float"
        },
        {
         "name": "GhCompositeIndex",
         "rawType": "float64",
         "type": "float"
        },
        {
         "name": "FXDeposits",
         "rawType": "float64",
         "type": "float"
        },
        {
         "name": "InterbankWeightedAvg",
         "rawType": "float64",
         "type": "float"
        },
        {
         "name": "T-bill-182",
         "rawType": "float64",
         "type": "float"
        },
        {
         "name": "T-bill-91",
         "rawType": "float64",
         "type": "float"
        },
        {
         "name": "PrivateSectorCredit",
         "rawType": "float64",
         "type": "float"
        },
        {
         "name": "TradeBalance",
         "rawType": "float64",
         "type": "float"
        },
        {
         "name": "USGDP",
         "rawType": "float64",
         "type": "float"
        },
        {
         "name": "USInflationRate",
         "rawType": "float64",
         "type": "float"
        },
        {
         "name": "USInterestRate",
         "rawType": "float64",
         "type": "float"
        }
       ],
       "ref": "149f0275-bb42-4622-9538-d6568989852a",
       "rows": [
        [
         "2022-11-25 00:00:00",
         "13.0985",
         "13.1117",
         "13.1051",
         "27.0",
         "55.3",
         "50.3",
         "46.5",
         "90.38",
         "2469.1",
         "1726.39",
         "25.8",
         "-2167.127029",
         "2299.090848",
         "1010.36",
         "1535.87",
         "48793.5",
         "-6.16",
         "66496.63",
         "25.8",
         "35.68",
         "34.62",
         "73744.05",
         "444.36",
         "22249.459",
         "116.554",
         "3.83"
        ],
        [
         "2022-11-28 00:00:00",
         "13.0982",
         "13.1114",
         "13.1048",
         "27.0",
         "55.3",
         "50.3",
         "46.5",
         "90.38",
         "2469.1",
         "1726.39",
         "25.8",
         "-2167.127029",
         "2299.090848",
         "1010.36",
         "1535.87",
         "48793.5",
         "-6.16",
         "66496.63",
         "25.8",
         "35.68",
         "34.62",
         "73744.05",
         "444.36",
         "22249.459",
         "116.554",
         "3.83"
        ],
        [
         "2022-11-29 00:00:00",
         "13.098",
         "13.1112",
         "13.1046",
         "27.0",
         "55.3",
         "50.3",
         "46.5",
         "90.38",
         "2469.1",
         "1726.39",
         "25.8",
         "-2167.127029",
         "2299.090848",
         "1010.36",
         "1535.87",
         "48793.5",
         "-6.16",
         "66496.63",
         "25.8",
         "35.68",
         "34.62",
         "73744.05",
         "444.36",
         "22249.459",
         "116.554",
         "3.83"
        ],
        [
         "2022-11-30 00:00:00",
         "13.0978",
         "13.111",
         "13.1044",
         "27.0",
         "55.3",
         "50.3",
         "46.5",
         "90.38",
         "2469.1",
         "1726.39",
         "25.8",
         "-2167.127029",
         "2299.090848",
         "1010.36",
         "1535.87",
         "48793.5",
         "-6.16",
         "66496.63",
         "25.8",
         "35.68",
         "34.62",
         "73744.05",
         "444.36",
         "22249.459",
         "116.554",
         "3.83"
        ],
        [
         "2022-12-01 00:00:00",
         "13.0973",
         "13.1105",
         "13.1039",
         "27.0",
         "59.7",
         "54.1",
         "49.9",
         "81.34",
         "2538.57",
         "1796.21",
         "25.508",
         "-1838.225691",
         "2673.172463",
         "1099.63",
         "1592.76",
         "48793.5",
         "0.0",
         "45124.35",
         "25.51",
         "36.23",
         "35.48",
         "63753.45",
         "450.75",
         "22249.459",
         "116.977",
         "3.83"
        ]
       ],
       "shape": {
        "columns": 26,
        "rows": 5
       }
      },
      "text/html": [
       "<div>\n",
       "<style scoped>\n",
       "    .dataframe tbody tr th:only-of-type {\n",
       "        vertical-align: middle;\n",
       "    }\n",
       "\n",
       "    .dataframe tbody tr th {\n",
       "        vertical-align: top;\n",
       "    }\n",
       "\n",
       "    .dataframe thead th {\n",
       "        text-align: right;\n",
       "    }\n",
       "</style>\n",
       "<table border=\"1\" class=\"dataframe\">\n",
       "  <thead>\n",
       "    <tr style=\"text-align: right;\">\n",
       "      <th></th>\n",
       "      <th>Buying</th>\n",
       "      <th>Selling</th>\n",
       "      <th>MidRate</th>\n",
       "      <th>MPR</th>\n",
       "      <th>FoodInflation</th>\n",
       "      <th>GhInflationRate</th>\n",
       "      <th>NonFoodInflation</th>\n",
       "      <th>BrentOil</th>\n",
       "      <th>Cocoa</th>\n",
       "      <th>Gold</th>\n",
       "      <th>...</th>\n",
       "      <th>GhCompositeIndex</th>\n",
       "      <th>FXDeposits</th>\n",
       "      <th>InterbankWeightedAvg</th>\n",
       "      <th>T-bill-182</th>\n",
       "      <th>T-bill-91</th>\n",
       "      <th>PrivateSectorCredit</th>\n",
       "      <th>TradeBalance</th>\n",
       "      <th>USGDP</th>\n",
       "      <th>USInflationRate</th>\n",
       "      <th>USInterestRate</th>\n",
       "    </tr>\n",
       "    <tr>\n",
       "      <th>Date</th>\n",
       "      <th></th>\n",
       "      <th></th>\n",
       "      <th></th>\n",
       "      <th></th>\n",
       "      <th></th>\n",
       "      <th></th>\n",
       "      <th></th>\n",
       "      <th></th>\n",
       "      <th></th>\n",
       "      <th></th>\n",
       "      <th></th>\n",
       "      <th></th>\n",
       "      <th></th>\n",
       "      <th></th>\n",
       "      <th></th>\n",
       "      <th></th>\n",
       "      <th></th>\n",
       "      <th></th>\n",
       "      <th></th>\n",
       "      <th></th>\n",
       "      <th></th>\n",
       "    </tr>\n",
       "  </thead>\n",
       "  <tbody>\n",
       "    <tr>\n",
       "      <th>2022-11-25</th>\n",
       "      <td>13.0985</td>\n",
       "      <td>13.1117</td>\n",
       "      <td>13.1051</td>\n",
       "      <td>27.0</td>\n",
       "      <td>55.3</td>\n",
       "      <td>50.3</td>\n",
       "      <td>46.5</td>\n",
       "      <td>90.38</td>\n",
       "      <td>2469.10</td>\n",
       "      <td>1726.39</td>\n",
       "      <td>...</td>\n",
       "      <td>-6.16</td>\n",
       "      <td>66496.63</td>\n",
       "      <td>25.80</td>\n",
       "      <td>35.68</td>\n",
       "      <td>34.62</td>\n",
       "      <td>73744.05</td>\n",
       "      <td>444.36</td>\n",
       "      <td>22249.459</td>\n",
       "      <td>116.554</td>\n",
       "      <td>3.83</td>\n",
       "    </tr>\n",
       "    <tr>\n",
       "      <th>2022-11-28</th>\n",
       "      <td>13.0982</td>\n",
       "      <td>13.1114</td>\n",
       "      <td>13.1048</td>\n",
       "      <td>27.0</td>\n",
       "      <td>55.3</td>\n",
       "      <td>50.3</td>\n",
       "      <td>46.5</td>\n",
       "      <td>90.38</td>\n",
       "      <td>2469.10</td>\n",
       "      <td>1726.39</td>\n",
       "      <td>...</td>\n",
       "      <td>-6.16</td>\n",
       "      <td>66496.63</td>\n",
       "      <td>25.80</td>\n",
       "      <td>35.68</td>\n",
       "      <td>34.62</td>\n",
       "      <td>73744.05</td>\n",
       "      <td>444.36</td>\n",
       "      <td>22249.459</td>\n",
       "      <td>116.554</td>\n",
       "      <td>3.83</td>\n",
       "    </tr>\n",
       "    <tr>\n",
       "      <th>2022-11-29</th>\n",
       "      <td>13.0980</td>\n",
       "      <td>13.1112</td>\n",
       "      <td>13.1046</td>\n",
       "      <td>27.0</td>\n",
       "      <td>55.3</td>\n",
       "      <td>50.3</td>\n",
       "      <td>46.5</td>\n",
       "      <td>90.38</td>\n",
       "      <td>2469.10</td>\n",
       "      <td>1726.39</td>\n",
       "      <td>...</td>\n",
       "      <td>-6.16</td>\n",
       "      <td>66496.63</td>\n",
       "      <td>25.80</td>\n",
       "      <td>35.68</td>\n",
       "      <td>34.62</td>\n",
       "      <td>73744.05</td>\n",
       "      <td>444.36</td>\n",
       "      <td>22249.459</td>\n",
       "      <td>116.554</td>\n",
       "      <td>3.83</td>\n",
       "    </tr>\n",
       "    <tr>\n",
       "      <th>2022-11-30</th>\n",
       "      <td>13.0978</td>\n",
       "      <td>13.1110</td>\n",
       "      <td>13.1044</td>\n",
       "      <td>27.0</td>\n",
       "      <td>55.3</td>\n",
       "      <td>50.3</td>\n",
       "      <td>46.5</td>\n",
       "      <td>90.38</td>\n",
       "      <td>2469.10</td>\n",
       "      <td>1726.39</td>\n",
       "      <td>...</td>\n",
       "      <td>-6.16</td>\n",
       "      <td>66496.63</td>\n",
       "      <td>25.80</td>\n",
       "      <td>35.68</td>\n",
       "      <td>34.62</td>\n",
       "      <td>73744.05</td>\n",
       "      <td>444.36</td>\n",
       "      <td>22249.459</td>\n",
       "      <td>116.554</td>\n",
       "      <td>3.83</td>\n",
       "    </tr>\n",
       "    <tr>\n",
       "      <th>2022-12-01</th>\n",
       "      <td>13.0973</td>\n",
       "      <td>13.1105</td>\n",
       "      <td>13.1039</td>\n",
       "      <td>27.0</td>\n",
       "      <td>59.7</td>\n",
       "      <td>54.1</td>\n",
       "      <td>49.9</td>\n",
       "      <td>81.34</td>\n",
       "      <td>2538.57</td>\n",
       "      <td>1796.21</td>\n",
       "      <td>...</td>\n",
       "      <td>0.00</td>\n",
       "      <td>45124.35</td>\n",
       "      <td>25.51</td>\n",
       "      <td>36.23</td>\n",
       "      <td>35.48</td>\n",
       "      <td>63753.45</td>\n",
       "      <td>450.75</td>\n",
       "      <td>22249.459</td>\n",
       "      <td>116.977</td>\n",
       "      <td>3.83</td>\n",
       "    </tr>\n",
       "  </tbody>\n",
       "</table>\n",
       "<p>5 rows × 26 columns</p>\n",
       "</div>"
      ],
      "text/plain": [
       "             Buying  Selling  MidRate   MPR  FoodInflation  GhInflationRate  \\\n",
       "Date                                                                          \n",
       "2022-11-25  13.0985  13.1117  13.1051  27.0           55.3             50.3   \n",
       "2022-11-28  13.0982  13.1114  13.1048  27.0           55.3             50.3   \n",
       "2022-11-29  13.0980  13.1112  13.1046  27.0           55.3             50.3   \n",
       "2022-11-30  13.0978  13.1110  13.1044  27.0           55.3             50.3   \n",
       "2022-12-01  13.0973  13.1105  13.1039  27.0           59.7             54.1   \n",
       "\n",
       "            NonFoodInflation  BrentOil    Cocoa     Gold  ...  \\\n",
       "Date                                                      ...   \n",
       "2022-11-25              46.5     90.38  2469.10  1726.39  ...   \n",
       "2022-11-28              46.5     90.38  2469.10  1726.39  ...   \n",
       "2022-11-29              46.5     90.38  2469.10  1726.39  ...   \n",
       "2022-11-30              46.5     90.38  2469.10  1726.39  ...   \n",
       "2022-12-01              49.9     81.34  2538.57  1796.21  ...   \n",
       "\n",
       "            GhCompositeIndex  FXDeposits  InterbankWeightedAvg  T-bill-182  \\\n",
       "Date                                                                         \n",
       "2022-11-25             -6.16    66496.63                 25.80       35.68   \n",
       "2022-11-28             -6.16    66496.63                 25.80       35.68   \n",
       "2022-11-29             -6.16    66496.63                 25.80       35.68   \n",
       "2022-11-30             -6.16    66496.63                 25.80       35.68   \n",
       "2022-12-01              0.00    45124.35                 25.51       36.23   \n",
       "\n",
       "            T-bill-91  PrivateSectorCredit  TradeBalance      USGDP  \\\n",
       "Date                                                                  \n",
       "2022-11-25      34.62             73744.05        444.36  22249.459   \n",
       "2022-11-28      34.62             73744.05        444.36  22249.459   \n",
       "2022-11-29      34.62             73744.05        444.36  22249.459   \n",
       "2022-11-30      34.62             73744.05        444.36  22249.459   \n",
       "2022-12-01      35.48             63753.45        450.75  22249.459   \n",
       "\n",
       "            USInflationRate  USInterestRate  \n",
       "Date                                         \n",
       "2022-11-25          116.554            3.83  \n",
       "2022-11-28          116.554            3.83  \n",
       "2022-11-29          116.554            3.83  \n",
       "2022-11-30          116.554            3.83  \n",
       "2022-12-01          116.977            3.83  \n",
       "\n",
       "[5 rows x 26 columns]"
      ]
     },
     "execution_count": 6,
     "metadata": {},
     "output_type": "execute_result"
    }
   ],
   "source": [
    "df.tail()"
   ]
  },
  {
   "cell_type": "code",
   "execution_count": 7,
   "id": "df66971c",
   "metadata": {},
   "outputs": [
    {
     "name": "stdout",
     "output_type": "stream",
     "text": [
      "<class 'pandas.core.frame.DataFrame'>\n",
      "DatetimeIndex: 3703 entries, 2008-01-02 to 2022-12-01\n",
      "Data columns (total 26 columns):\n",
      " #   Column                Non-Null Count  Dtype  \n",
      "---  ------                --------------  -----  \n",
      " 0   Buying                3703 non-null   float64\n",
      " 1   Selling               3701 non-null   float64\n",
      " 2   MidRate               3701 non-null   float64\n",
      " 3   MPR                   3703 non-null   float64\n",
      " 4   FoodInflation         3703 non-null   float64\n",
      " 5   GhInflationRate       3703 non-null   float64\n",
      " 6   NonFoodInflation      3703 non-null   float64\n",
      " 7   BrentOil              3703 non-null   float64\n",
      " 8   Cocoa                 3703 non-null   float64\n",
      " 9   Gold                  3703 non-null   float64\n",
      " 10  GhInterestRate        3703 non-null   float64\n",
      " 11  NetForeignAssets      3703 non-null   float64\n",
      " 12  NIR                   3703 non-null   float64\n",
      " 13  Imports               3703 non-null   float64\n",
      " 14  Exports               3703 non-null   float64\n",
      " 15  GhGDP                 3703 non-null   float64\n",
      " 16  GhCompositeIndex      3703 non-null   float64\n",
      " 17  FXDeposits            3703 non-null   float64\n",
      " 18  InterbankWeightedAvg  3703 non-null   float64\n",
      " 19  T-bill-182            3703 non-null   float64\n",
      " 20  T-bill-91             3703 non-null   float64\n",
      " 21  PrivateSectorCredit   3703 non-null   float64\n",
      " 22  TradeBalance          3703 non-null   float64\n",
      " 23  USGDP                 3703 non-null   float64\n",
      " 24  USInflationRate       3703 non-null   float64\n",
      " 25  USInterestRate        3703 non-null   float64\n",
      "dtypes: float64(26)\n",
      "memory usage: 781.1 KB\n"
     ]
    }
   ],
   "source": [
    "df.info()"
   ]
  },
  {
   "cell_type": "code",
   "execution_count": 8,
   "id": "be0b0829",
   "metadata": {},
   "outputs": [
    {
     "data": {
      "text/plain": [
       "<Axes: xlabel='Date'>"
      ]
     },
     "execution_count": 8,
     "metadata": {},
     "output_type": "execute_result"
    },
    {
     "data": {
      "image/png": "[encoded data removed]",
      "text/plain": [
       "<Figure size 640x480 with 1 Axes>"
      ]
     },
     "metadata": {},
     "output_type": "display_data"
    }
   ],
   "source": [
    "df[Y_COL].plot()"
   ]
  },
  {
   "cell_type": "code",
   "execution_count": 9,
   "id": "f4b11c9f",
   "metadata": {},
   "outputs": [],
   "source": [
    "df.drop(columns=['NonFoodInflation', 'FoodInflation', 'Selling', 'MidRate',\n",
    "        'Imports', 'Exports', 'InterbankWeightedAvg', 'MPR', 'T-bill-91'], inplace=True)"
   ]
  },
  {
   "cell_type": "code",
   "execution_count": 10,
   "id": "0cb59139",
   "metadata": {},
   "outputs": [],
   "source": [
    "# df.drop(columns=['Selling'], inplace=True)\n",
    "# df.drop(columns=['Selling', 'Buying'], inplace=True)"
   ]
  },
  {
   "cell_type": "code",
   "execution_count": 11,
   "id": "ca7f1c53",
   "metadata": {},
   "outputs": [],
   "source": [
    "# Fix exact-zero targets → NaN → interpolate (common data issue)\n",
    "if (df[Y_COL] == 0).any():\n",
    "    df.loc[df[Y_COL] == 0, Y_COL] = np.nan\n",
    "    df[Y_COL] = df[Y_COL].interpolate(method=\"time\").ffill().bfill()\n",
    "\n",
    "# Choose predictors: macro + commodities; drop near-duplicates of target\n",
    "# drop_cols = {\"Buying\", \"MidRate\", \"Selling\"}\n",
    "# drop_cols = {\"MidRate\"}\n",
    "drop_cols = {Y_COL}\n",
    "exog_cols = [c for c in df.columns if c not in drop_cols]\n",
    "num_cols = [c for c in exog_cols if np.issubdtype(\n",
    "    df[c].dropna().dtype, np.number)]\n",
    "\n",
    "work = df[[Y_COL] + num_cols].copy()"
   ]
  },
  {
   "cell_type": "code",
   "execution_count": 12,
   "id": "3d9ad3d4",
   "metadata": {},
   "outputs": [],
   "source": [
    "FEATURES = df.columns.tolist()"
   ]
  },
  {
   "cell_type": "code",
   "execution_count": 16,
   "id": "dcfb2721",
   "metadata": {},
   "outputs": [],
   "source": [
    "work = df.dropna(subset=[Y_COL] + FEATURES)"
   ]
  },
  {
   "cell_type": "code",
   "execution_count": 17,
   "id": "f811fa27",
   "metadata": {},
   "outputs": [],
   "source": [
    "# ---------- 2) RESAMPLE TO WEEKLY & BUILD Δ FEATURES ----------\n",
    "wk = work.resample(\"W-FRI\").last().dropna(how=\"all\")"
   ]
  },
  {
   "cell_type": "code",
   "execution_count": 18,
   "id": "e243139e",
   "metadata": {},
   "outputs": [],
   "source": [
    "wk[\"log_Buying\"] = np.log(wk[Y_COL])\n",
    "wk[\"y\"] = wk[\"log_Buying\"].diff()  # target: Δlog(Buying)\n",
    "\n",
    "# Exogenous deltas (Δlog if strictly positive; else simple diff)\n",
    "X_delta = pd.DataFrame(index=wk.index)\n",
    "for c in num_cols:\n",
    "    s = wk[c]\n",
    "    if is_strictly_positive(s):\n",
    "        X_delta[c + \"_dlog\"] = np.log(s).diff()\n",
    "    else:\n",
    "        X_delta[c + \"_diff\"] = s.diff()\n",
    "\n",
    "data = pd.concat([wk[[\"y\"]], X_delta], axis=1).dropna()"
   ]
  },
  {
   "cell_type": "code",
   "execution_count": 19,
   "id": "fb6a8749",
   "metadata": {},
   "outputs": [],
   "source": [
    "# ---------- 3) FEATURE ENGINEERING FOR XGB ----------\n",
    "ml_df = make_ml_features(data, y_col=\"y\", max_lag=4,\n",
    "                         roll_windows=(4, 8)).dropna()"
   ]
  },
  {
   "cell_type": "code",
   "execution_count": 20,
   "id": "3244683d",
   "metadata": {},
   "outputs": [],
   "source": [
    "# Time split\n",
    "n = len(ml_df)\n",
    "test_size = max(int(TEST_FRACTION * n), MIN_TEST_WEEKS)\n",
    "train_df = ml_df.iloc[:-test_size].copy()\n",
    "test_df = ml_df.iloc[-test_size:].copy()\n",
    "y_train, X_train = train_df[\"y\"], train_df.drop(columns=[\"y\"])\n",
    "y_test,  X_test = test_df[\"y\"],  test_df.drop(columns=[\"y\"])"
   ]
  },
  {
   "cell_type": "code",
   "execution_count": 21,
   "id": "a03756c8",
   "metadata": {},
   "outputs": [],
   "source": [
    "xgb_pipe = Pipeline(steps=[\n",
    "    (\"scaler\", MinMaxScaler()),\n",
    "    (\"xgb\", XGBRegressor(\n",
    "        n_estimators=400,\n",
    "        learning_rate=0.05,\n",
    "        max_depth=4,\n",
    "        subsample=0.8,\n",
    "        colsample_bytree=0.8,\n",
    "        objective=\"reg:squarederror\",\n",
    "        random_state=42,\n",
    "        n_jobs=4\n",
    "    ))\n",
    "])"
   ]
  },
  {
   "cell_type": "code",
   "execution_count": 22,
   "id": "9bf1781a",
   "metadata": {},
   "outputs": [],
   "source": [
    "# Rolling-origin CV on train\n",
    "tscv = TimeSeriesSplit(n_splits=5)\n",
    "cv_preds = np.empty_like(y_train.values)\n",
    "cv_preds[:] = np.nan\n",
    "for tr_idx, val_idx in tscv.split(X_train):\n",
    "    X_tr, X_val = X_train.iloc[tr_idx], X_train.iloc[val_idx]\n",
    "    y_tr, y_val = y_train.iloc[tr_idx], y_train.iloc[val_idx]\n",
    "    xgb_pipe.fit(X_tr, y_tr)\n",
    "    cv_preds[val_idx] = xgb_pipe.predict(X_val)"
   ]
  },
  {
   "cell_type": "code",
   "execution_count": 23,
   "id": "d7f961a9",
   "metadata": {},
   "outputs": [],
   "source": [
    "mask = ~np.isnan(cv_preds)\n",
    "cv_metrics = evaluate_metrics(y_train.values[mask], cv_preds[mask])\n",
    "\n",
    "# Fit final on full train, eval on test\n",
    "xgb_pipe.fit(X_train, y_train)\n",
    "test_pred = xgb_pipe.predict(X_test)\n",
    "test_metrics = evaluate_metrics(y_test.values, test_pred)\n",
    "# test_metrics = evaluate_metrics(y_test.values, test_pred)"
   ]
  },
  {
   "cell_type": "code",
   "execution_count": 24,
   "id": "a53df333",
   "metadata": {},
   "outputs": [
    {
     "data": {
      "application/vnd.microsoft.datawrangler.viewer.v0+json": {
       "columns": [
        {
         "name": "index",
         "rawType": "int64",
         "type": "integer"
        },
        {
         "name": "Model",
         "rawType": "object",
         "type": "string"
        },
        {
         "name": "Split",
         "rawType": "object",
         "type": "string"
        },
        {
         "name": "MAE",
         "rawType": "float64",
         "type": "float"
        },
        {
         "name": "RMSE",
         "rawType": "float64",
         "type": "float"
        },
        {
         "name": "R2",
         "rawType": "float64",
         "type": "float"
        }
       ],
       "ref": "168f38d9-1757-4235-aea0-b121a88510c4",
       "rows": [
        [
         "0",
         "XGBoost (lags+rolls)",
         "CV",
         "0.00424",
         "0.011003",
         "0.240538"
        ],
        [
         "1",
         "XGBoost (lags+rolls)",
         "TEST",
         "0.00479",
         "0.016903",
         "0.301631"
        ]
       ],
       "shape": {
        "columns": 5,
        "rows": 2
       }
      },
      "text/html": [
       "<div>\n",
       "<style scoped>\n",
       "    .dataframe tbody tr th:only-of-type {\n",
       "        vertical-align: middle;\n",
       "    }\n",
       "\n",
       "    .dataframe tbody tr th {\n",
       "        vertical-align: top;\n",
       "    }\n",
       "\n",
       "    .dataframe thead th {\n",
       "        text-align: right;\n",
       "    }\n",
       "</style>\n",
       "<table border=\"1\" class=\"dataframe\">\n",
       "  <thead>\n",
       "    <tr style=\"text-align: right;\">\n",
       "      <th></th>\n",
       "      <th>Model</th>\n",
       "      <th>Split</th>\n",
       "      <th>MAE</th>\n",
       "      <th>RMSE</th>\n",
       "      <th>R2</th>\n",
       "    </tr>\n",
       "  </thead>\n",
       "  <tbody>\n",
       "    <tr>\n",
       "      <th>0</th>\n",
       "      <td>XGBoost (lags+rolls)</td>\n",
       "      <td>CV</td>\n",
       "      <td>0.00424</td>\n",
       "      <td>0.011003</td>\n",
       "      <td>0.240538</td>\n",
       "    </tr>\n",
       "    <tr>\n",
       "      <th>1</th>\n",
       "      <td>XGBoost (lags+rolls)</td>\n",
       "      <td>TEST</td>\n",
       "      <td>0.00479</td>\n",
       "      <td>0.016903</td>\n",
       "      <td>0.301631</td>\n",
       "    </tr>\n",
       "  </tbody>\n",
       "</table>\n",
       "</div>"
      ],
      "text/plain": [
       "                  Model Split      MAE      RMSE        R2\n",
       "0  XGBoost (lags+rolls)    CV  0.00424  0.011003  0.240538\n",
       "1  XGBoost (lags+rolls)  TEST  0.00479  0.016903  0.301631"
      ]
     },
     "execution_count": 24,
     "metadata": {},
     "output_type": "execute_result"
    }
   ],
   "source": [
    "metrics_df = pd.DataFrame([\n",
    "    {\"Model\": \"XGBoost (lags+rolls)\", \"Split\": \"CV\",   **\n",
    "     {k: round(v, 6) for k, v in cv_metrics.items()}},\n",
    "    {\"Model\": \"XGBoost (lags+rolls)\", \"Split\": \"TEST\", **\n",
    "     {k: round(v, 6) for k, v in test_metrics.items()}},\n",
    "])\n",
    "metrics_df"
   ]
  },
  {
   "cell_type": "code",
   "execution_count": null,
   "id": "d114c2b9",
   "metadata": {},
   "outputs": [],
   "source": [
    "preds_df = pd.DataFrame({\n",
    "    \"Date\": y_test.index,\n",
    "    \"y_true_dlog\": y_test.values,\n",
    "    \"y_pred_dlog\": test_pred\n",
    "}).set_index(\"Date\")\n",
    "\n",
    "# preds_path = os.path.join(OUT_DIR, \"xgb_fx_predictions.csv\")\n",
    "# preds_df.to_csv(preds_path)\n",
    "\n",
    "xgb_model = xgb_pipe.named_steps[\"xgb\"]\n",
    "fi = pd.DataFrame({\"Feature\": X_train.columns, \"Importance\": xgb_model.feature_importances_}) \\\n",
    "       .sort_values(\"Importance\", ascending=False).reset_index(drop=True)\n",
    "fi_top = fi.head(min(30, len(fi)))\n",
    "# fi_path = os.path.join(OUT_DIR, \"xgb_feature_importances_top30.csv\")\n",
    "# fi_top.to_csv(fi_path, index=False)"
   ]
  },
  {
   "cell_type": "code",
   "execution_count": 26,
   "id": "af5bcf7c",
   "metadata": {},
   "outputs": [
    {
     "data": {
      "application/vnd.microsoft.datawrangler.viewer.v0+json": {
       "columns": [
        {
         "name": "index",
         "rawType": "int64",
         "type": "integer"
        },
        {
         "name": "Feature",
         "rawType": "object",
         "type": "string"
        },
        {
         "name": "Importance",
         "rawType": "float32",
         "type": "float"
        }
       ],
       "ref": "86f17833-5b45-41b7-a7a2-cd0a49e8c4f9",
       "rows": [
        [
         "0",
         "FXDeposits_dlog_lag1",
         "0.23790343"
        ],
        [
         "1",
         "FXDeposits_dlog",
         "0.103224315"
        ],
        [
         "2",
         "y_rollmean_4",
         "0.06261102"
        ],
        [
         "3",
         "y_rollstd_8",
         "0.045870334"
        ],
        [
         "4",
         "PrivateSectorCredit_dlog",
         "0.04468303"
        ],
        [
         "5",
         "y_rollstd_4",
         "0.03848423"
        ],
        [
         "6",
         "y_rollmean_8",
         "0.034783002"
        ],
        [
         "7",
         "y_lag1",
         "0.032220144"
        ],
        [
         "8",
         "y_lag3",
         "0.028753458"
        ],
        [
         "9",
         "y_lag4",
         "0.025853492"
        ],
        [
         "10",
         "y_lag2",
         "0.02408321"
        ],
        [
         "11",
         "FXDeposits_dlog_lag2",
         "0.018162563"
        ],
        [
         "12",
         "GhInflationRate_dlog_lag4",
         "0.01755808"
        ],
        [
         "13",
         "BrentOil_dlog",
         "0.01692303"
        ],
        [
         "14",
         "Cocoa_dlog_lag1",
         "0.016756423"
        ],
        [
         "15",
         "USInterestRate_dlog_lag3",
         "0.016732411"
        ],
        [
         "16",
         "NIR_dlog_lag3",
         "0.013053276"
        ],
        [
         "17",
         "PrivateSectorCredit_dlog_lag1",
         "0.012994181"
        ],
        [
         "18",
         "Cocoa_dlog",
         "0.012735402"
        ],
        [
         "19",
         "GhInflationRate_dlog_lag2",
         "0.010730914"
        ],
        [
         "20",
         "T-bill-182_dlog",
         "0.01004169"
        ],
        [
         "21",
         "GhInterestRate_dlog",
         "0.009757062"
        ],
        [
         "22",
         "GhGDP_dlog",
         "0.009700125"
        ],
        [
         "23",
         "GhInflationRate_dlog",
         "0.009254912"
        ],
        [
         "24",
         "GhInflationRate_dlog_lag1",
         "0.0076951883"
        ],
        [
         "25",
         "USInterestRate_dlog",
         "0.0074637565"
        ],
        [
         "26",
         "NetForeignAssets_diff",
         "0.0051613487"
        ],
        [
         "27",
         "NIR_dlog_lag1",
         "0.0049823346"
        ],
        [
         "28",
         "GhInflationRate_dlog_lag3",
         "0.0048261536"
        ],
        [
         "29",
         "TradeBalance_diff",
         "0.0047398754"
        ]
       ],
       "shape": {
        "columns": 2,
        "rows": 30
       }
      },
      "text/html": [
       "<div>\n",
       "<style scoped>\n",
       "    .dataframe tbody tr th:only-of-type {\n",
       "        vertical-align: middle;\n",
       "    }\n",
       "\n",
       "    .dataframe tbody tr th {\n",
       "        vertical-align: top;\n",
       "    }\n",
       "\n",
       "    .dataframe thead th {\n",
       "        text-align: right;\n",
       "    }\n",
       "</style>\n",
       "<table border=\"1\" class=\"dataframe\">\n",
       "  <thead>\n",
       "    <tr style=\"text-align: right;\">\n",
       "      <th></th>\n",
       "      <th>Feature</th>\n",
       "      <th>Importance</th>\n",
       "    </tr>\n",
       "  </thead>\n",
       "  <tbody>\n",
       "    <tr>\n",
       "      <th>0</th>\n",
       "      <td>FXDeposits_dlog_lag1</td>\n",
       "      <td>0.237903</td>\n",
       "    </tr>\n",
       "    <tr>\n",
       "      <th>1</th>\n",
       "      <td>FXDeposits_dlog</td>\n",
       "      <td>0.103224</td>\n",
       "    </tr>\n",
       "    <tr>\n",
       "      <th>2</th>\n",
       "      <td>y_rollmean_4</td>\n",
       "      <td>0.062611</td>\n",
       "    </tr>\n",
       "    <tr>\n",
       "      <th>3</th>\n",
       "      <td>y_rollstd_8</td>\n",
       "      <td>0.045870</td>\n",
       "    </tr>\n",
       "    <tr>\n",
       "      <th>4</th>\n",
       "      <td>PrivateSectorCredit_dlog</td>\n",
       "      <td>0.044683</td>\n",
       "    </tr>\n",
       "    <tr>\n",
       "      <th>5</th>\n",
       "      <td>y_rollstd_4</td>\n",
       "      <td>0.038484</td>\n",
       "    </tr>\n",
       "    <tr>\n",
       "      <th>6</th>\n",
       "      <td>y_rollmean_8</td>\n",
       "      <td>0.034783</td>\n",
       "    </tr>\n",
       "    <tr>\n",
       "      <th>7</th>\n",
       "      <td>y_lag1</td>\n",
       "      <td>0.032220</td>\n",
       "    </tr>\n",
       "    <tr>\n",
       "      <th>8</th>\n",
       "      <td>y_lag3</td>\n",
       "      <td>0.028753</td>\n",
       "    </tr>\n",
       "    <tr>\n",
       "      <th>9</th>\n",
       "      <td>y_lag4</td>\n",
       "      <td>0.025853</td>\n",
       "    </tr>\n",
       "    <tr>\n",
       "      <th>10</th>\n",
       "      <td>y_lag2</td>\n",
       "      <td>0.024083</td>\n",
       "    </tr>\n",
       "    <tr>\n",
       "      <th>11</th>\n",
       "      <td>FXDeposits_dlog_lag2</td>\n",
       "      <td>0.018163</td>\n",
       "    </tr>\n",
       "    <tr>\n",
       "      <th>12</th>\n",
       "      <td>GhInflationRate_dlog_lag4</td>\n",
       "      <td>0.017558</td>\n",
       "    </tr>\n",
       "    <tr>\n",
       "      <th>13</th>\n",
       "      <td>BrentOil_dlog</td>\n",
       "      <td>0.016923</td>\n",
       "    </tr>\n",
       "    <tr>\n",
       "      <th>14</th>\n",
       "      <td>Cocoa_dlog_lag1</td>\n",
       "      <td>0.016756</td>\n",
       "    </tr>\n",
       "    <tr>\n",
       "      <th>15</th>\n",
       "      <td>USInterestRate_dlog_lag3</td>\n",
       "      <td>0.016732</td>\n",
       "    </tr>\n",
       "    <tr>\n",
       "      <th>16</th>\n",
       "      <td>NIR_dlog_lag3</td>\n",
       "      <td>0.013053</td>\n",
       "    </tr>\n",
       "    <tr>\n",
       "      <th>17</th>\n",
       "      <td>PrivateSectorCredit_dlog_lag1</td>\n",
       "      <td>0.012994</td>\n",
       "    </tr>\n",
       "    <tr>\n",
       "      <th>18</th>\n",
       "      <td>Cocoa_dlog</td>\n",
       "      <td>0.012735</td>\n",
       "    </tr>\n",
       "    <tr>\n",
       "      <th>19</th>\n",
       "      <td>GhInflationRate_dlog_lag2</td>\n",
       "      <td>0.010731</td>\n",
       "    </tr>\n",
       "    <tr>\n",
       "      <th>20</th>\n",
       "      <td>T-bill-182_dlog</td>\n",
       "      <td>0.010042</td>\n",
       "    </tr>\n",
       "    <tr>\n",
       "      <th>21</th>\n",
       "      <td>GhInterestRate_dlog</td>\n",
       "      <td>0.009757</td>\n",
       "    </tr>\n",
       "    <tr>\n",
       "      <th>22</th>\n",
       "      <td>GhGDP_dlog</td>\n",
       "      <td>0.009700</td>\n",
       "    </tr>\n",
       "    <tr>\n",
       "      <th>23</th>\n",
       "      <td>GhInflationRate_dlog</td>\n",
       "      <td>0.009255</td>\n",
       "    </tr>\n",
       "    <tr>\n",
       "      <th>24</th>\n",
       "      <td>GhInflationRate_dlog_lag1</td>\n",
       "      <td>0.007695</td>\n",
       "    </tr>\n",
       "    <tr>\n",
       "      <th>25</th>\n",
       "      <td>USInterestRate_dlog</td>\n",
       "      <td>0.007464</td>\n",
       "    </tr>\n",
       "    <tr>\n",
       "      <th>26</th>\n",
       "      <td>NetForeignAssets_diff</td>\n",
       "      <td>0.005161</td>\n",
       "    </tr>\n",
       "    <tr>\n",
       "      <th>27</th>\n",
       "      <td>NIR_dlog_lag1</td>\n",
       "      <td>0.004982</td>\n",
       "    </tr>\n",
       "    <tr>\n",
       "      <th>28</th>\n",
       "      <td>GhInflationRate_dlog_lag3</td>\n",
       "      <td>0.004826</td>\n",
       "    </tr>\n",
       "    <tr>\n",
       "      <th>29</th>\n",
       "      <td>TradeBalance_diff</td>\n",
       "      <td>0.004740</td>\n",
       "    </tr>\n",
       "  </tbody>\n",
       "</table>\n",
       "</div>"
      ],
      "text/plain": [
       "                          Feature  Importance\n",
       "0            FXDeposits_dlog_lag1    0.237903\n",
       "1                 FXDeposits_dlog    0.103224\n",
       "2                    y_rollmean_4    0.062611\n",
       "3                     y_rollstd_8    0.045870\n",
       "4        PrivateSectorCredit_dlog    0.044683\n",
       "5                     y_rollstd_4    0.038484\n",
       "6                    y_rollmean_8    0.034783\n",
       "7                          y_lag1    0.032220\n",
       "8                          y_lag3    0.028753\n",
       "9                          y_lag4    0.025853\n",
       "10                         y_lag2    0.024083\n",
       "11           FXDeposits_dlog_lag2    0.018163\n",
       "12      GhInflationRate_dlog_lag4    0.017558\n",
       "13                  BrentOil_dlog    0.016923\n",
       "14                Cocoa_dlog_lag1    0.016756\n",
       "15       USInterestRate_dlog_lag3    0.016732\n",
       "16                  NIR_dlog_lag3    0.013053\n",
       "17  PrivateSectorCredit_dlog_lag1    0.012994\n",
       "18                     Cocoa_dlog    0.012735\n",
       "19      GhInflationRate_dlog_lag2    0.010731\n",
       "20                T-bill-182_dlog    0.010042\n",
       "21            GhInterestRate_dlog    0.009757\n",
       "22                     GhGDP_dlog    0.009700\n",
       "23           GhInflationRate_dlog    0.009255\n",
       "24      GhInflationRate_dlog_lag1    0.007695\n",
       "25            USInterestRate_dlog    0.007464\n",
       "26          NetForeignAssets_diff    0.005161\n",
       "27                  NIR_dlog_lag1    0.004982\n",
       "28      GhInflationRate_dlog_lag3    0.004826\n",
       "29              TradeBalance_diff    0.004740"
      ]
     },
     "execution_count": 26,
     "metadata": {},
     "output_type": "execute_result"
    }
   ],
   "source": [
    "fi_top"
   ]
  },
  {
   "cell_type": "code",
   "execution_count": 27,
   "id": "b07fd2dc",
   "metadata": {},
   "outputs": [
    {
     "data": {
      "image/png": "[encoded data removed]",
      "text/plain": [
       "<Figure size 800x500 with 1 Axes>"
      ]
     },
     "metadata": {},
     "output_type": "display_data"
    }
   ],
   "source": [
    "plt.figure(figsize=(8,5))\n",
    "plt.barh(fi_top[\"Feature\"], fi_top[\"Importance\"])\n",
    "plt.gca().invert_yaxis()\n",
    "plt.xlabel(\"Importance\")\n",
    "plt.title(\"Top XGBoost Feature Importances\")\n",
    "plt.tight_layout()\n",
    "plt.savefig('plots/xgb/xgb_feature_importance.png')\n",
    "plt.show()"
   ]
  },
  {
   "cell_type": "code",
   "execution_count": null,
   "id": "6633853b",
   "metadata": {},
   "outputs": [],
   "source": [
    "pre_test_idx = wk.index[wk.index < y_test.index[0]]\n",
    "assert len(pre_test_idx) > 0, \"Need at least 1 observation before test start.\"\n",
    "anchor_log = wk.loc[pre_test_idx[-1], \"log_Buying\"]\n",
    "\n",
    "true_level = invert_dlog_to_level(\n",
    "    pd.Series(y_test.values, index=y_test.index), anchor_log)\n",
    "xgb_level = invert_dlog_to_level(\n",
    "    pd.Series(test_pred,  index=y_test.index), anchor_log)\n",
    "rw_level = invert_dlog_to_level(\n",
    "    pd.Series(np.zeros_like(y_test.values), index=y_test.index), anchor_log)"
   ]
  },
  {
   "cell_type": "code",
   "execution_count": 29,
   "id": "7901430b",
   "metadata": {},
   "outputs": [],
   "source": [
    "true_vs_pred_df = pd.DataFrame({\n",
    "    \"Date\": y_test.index,\n",
    "    \"Actual_Buying_Level\": true_level.values,\n",
    "    \"XGBoost_Predicted_Level\": xgb_level.values,\n",
    "    \"Random_Walk_Level\": rw_level.values\n",
    "}).set_index(\"Date\")"
   ]
  },
  {
   "cell_type": "code",
   "execution_count": 30,
   "id": "2c486cd5",
   "metadata": {},
   "outputs": [],
   "source": [
    "true_vs_pred_df.to_csv('xgb.csv')"
   ]
  },
  {
   "cell_type": "code",
   "execution_count": 31,
   "id": "e12832fb",
   "metadata": {},
   "outputs": [
    {
     "data": {
      "application/vnd.microsoft.datawrangler.viewer.v0+json": {
       "columns": [
        {
         "name": "Date",
         "rawType": "datetime64[ns]",
         "type": "datetime"
        },
        {
         "name": "Actual_Buying_Level",
         "rawType": "float64",
         "type": "float"
        },
        {
         "name": "XGBoost_Predicted_Level",
         "rawType": "float32",
         "type": "float"
        },
        {
         "name": "Random_Walk_Level",
         "rawType": "float64",
         "type": "float"
        }
       ],
       "ref": "0eb51112-601d-4152-ac3d-1051c9faacc1",
       "rows": [
        [
         "2019-12-27 00:00:00",
         "5.536",
         "5.544609",
         "5.5367999999999995"
        ],
        [
         "2020-01-03 00:00:00",
         "5.5314",
         "5.536551",
         "5.5367999999999995"
        ],
        [
         "2020-01-10 00:00:00",
         "5.5335",
         "5.534317",
         "5.5367999999999995"
        ],
        [
         "2020-01-17 00:00:00",
         "5.5314",
         "5.5352573",
         "5.5367999999999995"
        ],
        [
         "2020-01-24 00:00:00",
         "5.5239",
         "5.534384",
         "5.5367999999999995"
        ]
       ],
       "shape": {
        "columns": 3,
        "rows": 5
       }
      },
      "text/html": [
       "<div>\n",
       "<style scoped>\n",
       "    .dataframe tbody tr th:only-of-type {\n",
       "        vertical-align: middle;\n",
       "    }\n",
       "\n",
       "    .dataframe tbody tr th {\n",
       "        vertical-align: top;\n",
       "    }\n",
       "\n",
       "    .dataframe thead th {\n",
       "        text-align: right;\n",
       "    }\n",
       "</style>\n",
       "<table border=\"1\" class=\"dataframe\">\n",
       "  <thead>\n",
       "    <tr style=\"text-align: right;\">\n",
       "      <th></th>\n",
       "      <th>Actual_Buying_Level</th>\n",
       "      <th>XGBoost_Predicted_Level</th>\n",
       "      <th>Random_Walk_Level</th>\n",
       "    </tr>\n",
       "    <tr>\n",
       "      <th>Date</th>\n",
       "      <th></th>\n",
       "      <th></th>\n",
       "      <th></th>\n",
       "    </tr>\n",
       "  </thead>\n",
       "  <tbody>\n",
       "    <tr>\n",
       "      <th>2019-12-27</th>\n",
       "      <td>5.5360</td>\n",
       "      <td>5.544609</td>\n",
       "      <td>5.5368</td>\n",
       "    </tr>\n",
       "    <tr>\n",
       "      <th>2020-01-03</th>\n",
       "      <td>5.5314</td>\n",
       "      <td>5.536551</td>\n",
       "      <td>5.5368</td>\n",
       "    </tr>\n",
       "    <tr>\n",
       "      <th>2020-01-10</th>\n",
       "      <td>5.5335</td>\n",
       "      <td>5.534317</td>\n",
       "      <td>5.5368</td>\n",
       "    </tr>\n",
       "    <tr>\n",
       "      <th>2020-01-17</th>\n",
       "      <td>5.5314</td>\n",
       "      <td>5.535257</td>\n",
       "      <td>5.5368</td>\n",
       "    </tr>\n",
       "    <tr>\n",
       "      <th>2020-01-24</th>\n",
       "      <td>5.5239</td>\n",
       "      <td>5.534384</td>\n",
       "      <td>5.5368</td>\n",
       "    </tr>\n",
       "  </tbody>\n",
       "</table>\n",
       "</div>"
      ],
      "text/plain": [
       "            Actual_Buying_Level  XGBoost_Predicted_Level  Random_Walk_Level\n",
       "Date                                                                       \n",
       "2019-12-27               5.5360                 5.544609             5.5368\n",
       "2020-01-03               5.5314                 5.536551             5.5368\n",
       "2020-01-10               5.5335                 5.534317             5.5368\n",
       "2020-01-17               5.5314                 5.535257             5.5368\n",
       "2020-01-24               5.5239                 5.534384             5.5368"
      ]
     },
     "execution_count": 31,
     "metadata": {},
     "output_type": "execute_result"
    }
   ],
   "source": [
    "true_vs_pred_df.head()"
   ]
  },
  {
   "cell_type": "code",
   "execution_count": 32,
   "id": "5f3e856a",
   "metadata": {},
   "outputs": [
    {
     "data": {
      "application/vnd.microsoft.datawrangler.viewer.v0+json": {
       "columns": [
        {
         "name": "Date",
         "rawType": "datetime64[ns]",
         "type": "datetime"
        },
        {
         "name": "Actual_Buying_Level",
         "rawType": "float64",
         "type": "float"
        },
        {
         "name": "XGBoost_Predicted_Level",
         "rawType": "float32",
         "type": "float"
        },
        {
         "name": "Random_Walk_Level",
         "rawType": "float64",
         "type": "float"
        }
       ],
       "ref": "62e93420-6227-44c7-a54c-2bbc647ce482",
       "rows": [
        [
         "2022-11-04 00:00:00",
         "13.0012",
         "9.339513",
         "5.5367999999999995"
        ],
        [
         "2022-11-11 00:00:00",
         "13.069399999999998",
         "9.414652",
         "5.5367999999999995"
        ],
        [
         "2022-11-18 00:00:00",
         "13.099",
         "9.519982",
         "5.5367999999999995"
        ],
        [
         "2022-11-25 00:00:00",
         "13.098499999999998",
         "9.711535",
         "5.5367999999999995"
        ],
        [
         "2022-12-02 00:00:00",
         "13.097299999999999",
         "9.634313",
         "5.5367999999999995"
        ]
       ],
       "shape": {
        "columns": 3,
        "rows": 5
       }
      },
      "text/html": [
       "<div>\n",
       "<style scoped>\n",
       "    .dataframe tbody tr th:only-of-type {\n",
       "        vertical-align: middle;\n",
       "    }\n",
       "\n",
       "    .dataframe tbody tr th {\n",
       "        vertical-align: top;\n",
       "    }\n",
       "\n",
       "    .dataframe thead th {\n",
       "        text-align: right;\n",
       "    }\n",
       "</style>\n",
       "<table border=\"1\" class=\"dataframe\">\n",
       "  <thead>\n",
       "    <tr style=\"text-align: right;\">\n",
       "      <th></th>\n",
       "      <th>Actual_Buying_Level</th>\n",
       "      <th>XGBoost_Predicted_Level</th>\n",
       "      <th>Random_Walk_Level</th>\n",
       "    </tr>\n",
       "    <tr>\n",
       "      <th>Date</th>\n",
       "      <th></th>\n",
       "      <th></th>\n",
       "      <th></th>\n",
       "    </tr>\n",
       "  </thead>\n",
       "  <tbody>\n",
       "    <tr>\n",
       "      <th>2022-11-04</th>\n",
       "      <td>13.0012</td>\n",
       "      <td>9.339513</td>\n",
       "      <td>5.5368</td>\n",
       "    </tr>\n",
       "    <tr>\n",
       "      <th>2022-11-11</th>\n",
       "      <td>13.0694</td>\n",
       "      <td>9.414652</td>\n",
       "      <td>5.5368</td>\n",
       "    </tr>\n",
       "    <tr>\n",
       "      <th>2022-11-18</th>\n",
       "      <td>13.0990</td>\n",
       "      <td>9.519982</td>\n",
       "      <td>5.5368</td>\n",
       "    </tr>\n",
       "    <tr>\n",
       "      <th>2022-11-25</th>\n",
       "      <td>13.0985</td>\n",
       "      <td>9.711535</td>\n",
       "      <td>5.5368</td>\n",
       "    </tr>\n",
       "    <tr>\n",
       "      <th>2022-12-02</th>\n",
       "      <td>13.0973</td>\n",
       "      <td>9.634313</td>\n",
       "      <td>5.5368</td>\n",
       "    </tr>\n",
       "  </tbody>\n",
       "</table>\n",
       "</div>"
      ],
      "text/plain": [
       "            Actual_Buying_Level  XGBoost_Predicted_Level  Random_Walk_Level\n",
       "Date                                                                       \n",
       "2022-11-04              13.0012                 9.339513             5.5368\n",
       "2022-11-11              13.0694                 9.414652             5.5368\n",
       "2022-11-18              13.0990                 9.519982             5.5368\n",
       "2022-11-25              13.0985                 9.711535             5.5368\n",
       "2022-12-02              13.0973                 9.634313             5.5368"
      ]
     },
     "execution_count": 32,
     "metadata": {},
     "output_type": "execute_result"
    }
   ],
   "source": [
    "true_vs_pred_df.tail()"
   ]
  },
  {
   "cell_type": "code",
   "execution_count": 33,
   "id": "ad9fed7f",
   "metadata": {},
   "outputs": [
    {
     "data": {
      "image/png": "[encoded data removed]",
      "text/plain": [
       "<Figure size 1000x500 with 1 Axes>"
      ]
     },
     "metadata": {},
     "output_type": "display_data"
    }
   ],
   "source": [
    "plt.figure(figsize=(10, 5))\n",
    "plt.plot(true_vs_pred_df.index, true_vs_pred_df[\"Actual_Buying_Level\"], label=\"Actual Buying (level)\")\n",
    "plt.plot(true_vs_pred_df.index, true_vs_pred_df[\"XGBoost_Predicted_Level\"], label=\"XGBoost (reconstructed level)\")\n",
    "plt.plot(true_vs_pred_df.index, true_vs_pred_df[\"Random_Walk_Level\"], label=\"Random Walk (reconstructed level)\")\n",
    "plt.title(\"USD/GHS Buying – Test Period (Levels via Δlog inversion)\")\n",
    "plt.xlabel(\"Date\")\n",
    "plt.ylabel(\"Buying Level\")\n",
    "plt.legend()\n",
    "plt.tight_layout()\n",
    "plt.savefig('plots/xgb/xgb_vs_random_walk_actual_vs_predicted.png')\n",
    "plt.show()"
   ]
  },
  {
   "cell_type": "code",
   "execution_count": 34,
   "id": "08bbe73f",
   "metadata": {},
   "outputs": [
    {
     "data": {
      "image/png": "[encoded data removed]",
      "text/plain": [
       "<Figure size 1000x500 with 1 Axes>"
      ]
     },
     "metadata": {},
     "output_type": "display_data"
    }
   ],
   "source": [
    "plt.figure(figsize=(10, 5))\n",
    "plt.plot(y_test.index, y_test.values, label=\"Actual Δlog(Buying)\")\n",
    "plt.plot(y_test.index, test_pred,     label=\"XGBoost Δlog forecast\")\n",
    "plt.axhline(0.0, linestyle=\"--\", linewidth=1)\n",
    "plt.title(\"USD/GHS Buying – Test Period Δlog Comparison\")\n",
    "plt.xlabel(\"Date\")\n",
    "plt.ylabel(\"Δlog(Buying)\")\n",
    "plt.legend()\n",
    "plt.tight_layout()\n",
    "plt.show()"
   ]
  },
  {
   "cell_type": "code",
   "execution_count": null,
   "id": "dddc3de9",
   "metadata": {},
   "outputs": [
    {
     "name": "stdout",
     "output_type": "stream",
     "text": [
      "Test MAE: 0.004790138910441429\n",
      "Test RMSE: 0.016902943904841546\n",
      "Test R^2: 0.30163119397812466\n"
     ]
    }
   ],
   "source": [
    "from sklearn.metrics import mean_absolute_error, mean_squared_error, r2_score, root_mean_squared_error\n",
    "\n",
    "# Error metrics for test predictions (in delta log space)\n",
    "mae = mean_absolute_error(y_test, test_pred)\n",
    "mse = mean_squared_error(y_test, test_pred)\n",
    "rmse = root_mean_squared_error(y_test, test_pred)\n",
    "r2 = r2_score(y_test, test_pred)\n",
    "\n",
    "print(f\"Test MAE: {mae}\")\n",
    "print(f\"Test MSE: {mse}\")\n",
    "print(f\"Test RMSE: {rmse}\")\n",
    "print(f\"Test R^2: {r2}\")"
   ]
  },
  {
   "cell_type": "code",
   "execution_count": 36,
   "id": "d034e3c1",
   "metadata": {},
   "outputs": [
    {
     "data": {
      "image/png": "[encoded data removed]",
      "text/plain": [
       "<Figure size 1000x500 with 1 Axes>"
      ]
     },
     "metadata": {},
     "output_type": "display_data"
    }
   ],
   "source": [
    "import pandas as pd\n",
    "\n",
    "# Get feature importance from fitted model\n",
    "xgb_importances = pd.DataFrame({\n",
    "    'Feature': X_train.columns,\n",
    "    'Importance': xgb_model.feature_importances_\n",
    "}).sort_values(\"Importance\", ascending=False)\n",
    "\n",
    "top_n = 10\n",
    "top_features = xgb_importances['Feature'].head(top_n).tolist()\n",
    "\n",
    "# Subset data to use only the most important features\n",
    "X_train_top = X_train[top_features]\n",
    "X_test_top = X_test[top_features]\n",
    "\n",
    "# Refit XGB model on top important features\n",
    "from xgboost import XGBRegressor\n",
    "\n",
    "xgb_top = XGBRegressor(n_estimators=100, random_state=42)\n",
    "xgb_top.fit(X_train_top, y_train)\n",
    "\n",
    "# Predict on test set using only important features\n",
    "y_test_pred_top = xgb_top.predict(X_test_top)\n",
    "\n",
    "# Plot actual vs predicted (Δlog buying) using most important XGB features\n",
    "import matplotlib.pyplot as plt\n",
    "\n",
    "plt.figure(figsize=(10, 5))\n",
    "plt.plot(y_test.index, y_test.values, label=\"Actual Δlog(Buying)\")\n",
    "plt.plot(y_test.index, y_test_pred_top, label=f\"XGBoost Δlog forecast (Top {top_n} features)\")\n",
    "plt.axhline(0.0, linestyle=\"--\", linewidth=1)\n",
    "plt.title(f\"USD/GHS Buying – Test Period Δlog (Top {top_n} XGB Features)\")\n",
    "plt.xlabel(\"Date\")\n",
    "plt.ylabel(\"Δlog(Buying)\")\n",
    "plt.legend()\n",
    "plt.tight_layout()\n",
    "plt.show()\n"
   ]
  },
  {
   "cell_type": "code",
   "execution_count": 37,
   "id": "4a67cfc0",
   "metadata": {},
   "outputs": [
    {
     "name": "stdout",
     "output_type": "stream",
     "text": [
      "Test Metrics using Top 10 XGB Features:\n",
      "MAE:  0.005345\n",
      "RMSE: 0.016648\n",
      "R2:   0.322551\n",
      "MAPE: inf%\n"
     ]
    }
   ],
   "source": [
    "from sklearn.metrics import mean_absolute_error, mean_squared_error, r2_score\n",
    "\n",
    "# Calculate metrics for test set predictions using only top important features\n",
    "mae_top = mean_absolute_error(y_test, y_test_pred_top)\n",
    "rmse_top = root_mean_squared_error(y_test, y_test_pred_top)\n",
    "r2_top = r2_score(y_test, y_test_pred_top)\n",
    "mape_top = (np.abs((y_test - y_test_pred_top) / y_test).mean()) * 100\n",
    "\n",
    "print(f\"Test Metrics using Top {top_n} XGB Features:\")\n",
    "print(f\"MAE:  {mae_top:.6f}\")\n",
    "print(f\"RMSE: {rmse_top:.6f}\")\n",
    "print(f\"R2:   {r2_top:.6f}\")\n",
    "print(f\"MAPE: {mape_top:.2f}%\")\n"
   ]
  }
 ],
 "metadata": {
  "kernelspec": {
   "display_name": ".venv (3.12.11)",
   "language": "python",
   "name": "python3"
  },
  "language_info": {
   "codemirror_mode": {
    "name": "ipython",
    "version": 3
   },
   "file_extension": ".py",
   "mimetype": "text/x-python",
   "name": "python",
   "nbconvert_exporter": "python",
   "pygments_lexer": "ipython3",
   "version": "3.12.11"
  }
 },
 "nbformat": 4,
 "nbformat_minor": 5
}
